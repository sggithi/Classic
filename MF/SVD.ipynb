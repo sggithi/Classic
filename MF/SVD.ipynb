{
  "nbformat": 4,
  "nbformat_minor": 0,
  "metadata": {
    "colab": {
      "provenance": [],
      "gpuType": "T4"
    },
    "kernelspec": {
      "name": "python3",
      "display_name": "Python 3"
    },
    "language_info": {
      "name": "python"
    },
    "accelerator": "GPU"
  },
  "cells": [
    {
      "cell_type": "code",
      "source": [
        "#Colab setting\n",
        "from google.colab import drive\n",
        "drive.mount('/content/drive')\n",
        "\n",
        "import sys\n",
        "sys.path.append('/content/drive/My Drive/DSAIL')\n",
        "\n",
        "import os\n",
        "os.chdir('/content/drive/My Drive/DSAIL')"
      ],
      "metadata": {
        "colab": {
          "base_uri": "https://localhost:8080/"
        },
        "id": "kp2VLPKnmids",
        "outputId": "dae310c8-0f37-46b9-f63e-db233da4da8a"
      },
      "execution_count": 3,
      "outputs": [
        {
          "output_type": "stream",
          "name": "stdout",
          "text": [
            "Mounted at /content/drive\n",
            "Drive already mounted at /content/drive; to attempt to forcibly remount, call drive.mount(\"/content/drive\", force_remount=True).\n"
          ]
        }
      ]
    },
    {
      "cell_type": "code",
      "execution_count": 17,
      "metadata": {
        "id": "VfEsegib1jW4",
        "colab": {
          "base_uri": "https://localhost:8080/"
        },
        "outputId": "3d9f2563-5a7b-4458-d730-11a339a5152f"
      },
      "outputs": [
        {
          "output_type": "stream",
          "name": "stdout",
          "text": [
            "device cuda\n"
          ]
        }
      ],
      "source": [
        "# Data U1.base로 train, u1.test로 test data만들기\n",
        "# U.data는 현재 ([\"user_id\", \"movie_id\", \"rating\", \"timestamp\"])로 구성\n",
        "import pandas as pd\n",
        "import torch\n",
        "\n",
        "file_path = \"ml-100k/u1.base\"\n",
        "columns = [\"user_id\", \"movie_id\", \"rating\", \"timestamp\"]\n",
        "train_data = pd.read_csv(file_path, sep='\\t', names=columns)\n",
        "user_movie_matrix = train_data.pivot(index='user_id', columns='movie_id', values='rating')\n",
        "train = user_movie_matrix.fillna(0).to_numpy(dtype=np.float32)\n",
        "\n",
        "file_path = \"ml-100k/u1.test\"\n",
        "columns = [\"user_id\", \"movie_id\", \"rating\", \"timestamp\"]\n",
        "test_data = pd.read_csv(file_path, sep='\\t', names=columns)\n",
        "user_movie_matrix = test_data.pivot(index='user_id', columns='movie_id', values='rating')\n",
        "test = user_movie_matrix.fillna(0).to_numpy(dtype=np.float32)\n",
        "\n",
        "\n",
        "# GPU\n",
        "device = torch.device('cuda' if torch.cuda.is_available() else 'cpu')\n",
        "print(\"device\", device)\n",
        "\n",
        "#train = torch.tensor(train.values, dtype=torch.float32).to(device)\n",
        "#test = torch.tensor(test.values, dtype=torch.float32).to(device)"
      ]
    },
    {
      "cell_type": "code",
      "source": [
        "import torch\n",
        "import torch.nn as nn\n",
        "import torch.optim as optim\n",
        "import numpy as np\n",
        "\n",
        "class SVD(nn.Module):\n",
        "  def __init__(self, train_R, test_R, d=50, learning_rate=1e-3, epochs=100, reg = 0.01, device=device):\n",
        "    '''\n",
        "    Typical SVD\n",
        "    '''\n",
        "    super(SVD, self).__init__()\n",
        "    self.n, self.m = train_R.shape\n",
        "    self.test_n, self.test_m = test_R.shape\n",
        "    self.device = device\n",
        "    self.latent_dimension = d\n",
        "    self.train_R = train_R\n",
        "    self.test_R = test_R\n",
        "    self.lr = learning_rate\n",
        "    self.epoch = epochs\n",
        "    self.reg = reg\n",
        "    self.criterion = nn.MSELoss()\n",
        "    print(\"Number of User:\", self.n)\n",
        "    print(\"Number of Movies:\", self.m)\n",
        "    print(\"Shape of train_R:\", self.train_R.shape)\n",
        "    print(\"Shape of test_R:\", self.test_R.shape)\n",
        "\n",
        "    # parameters\n",
        "    # self.P = (torch.rand(self.n, self.latent_dimension).to(self.device)) * (1.0 / self.latent_dimension) # (N, D)\n",
        "    # self.Q = (torch.rand(self.m, self.latent_dimension).to(self.device)) * (1.0 / self.latent_dimension) # (M, D)\n",
        "\n",
        "    # self.bu = (torch.rand(self.n).to(self.device))\n",
        "    # self.bi = (torch.rand(self.m).to(self.device))\n",
        "    # self.mu = torch.mean(train_R[train_R != 0]).item() # 0이 아닌 rating들의 평균\n",
        "    self.P = np.random.rand(self.n, self.latent_dimension) * (1.0 / self.latent_dimension)  # (N, D)\n",
        "    self.Q = np.random.rand(self.m, self.latent_dimension) * (1.0 / self.latent_dimension)  # (M, D)\n",
        "    self.bu = np.random.rand(self.n)\n",
        "    self.bi = np.random.rand(self.m)\n",
        "    self.mu = np.mean(train_R[train_R != 0])\n",
        "\n",
        "\n",
        "  def prediction(self, u, i):\n",
        "    #return self.mu + self.bu[u] + self.bi[i] + self.P[u,:].matmul(self.Q[i,:].t()) #(1, D) dot (D, 1)\n",
        "    return self.mu + self.bu[u] + self.bi[i] + np.dot(self.P[u, :], self.Q[i, :])\n",
        "\n",
        "  def gradient(self, e, u, i):\n",
        "    # Loss = (rating - prediction)^2  prediction + Reg = mu + bi + bu + PQT + reg(|P|^2 + |Q|^2 + bu^2 + bi^2)\n",
        "    # dL/dbu = -2 * (rating - prediction)dp/dbu + 2*bu*reg = -2 * (rating - prediction) + 2*bu*reg\n",
        "    dbu = -2 * e + 2 * (self.reg * self.bu[u])\n",
        "    dbi = -2 * e + 2 * (self.reg * self.bi[i])\n",
        "    # dL/dP = -2 * (rating - prediction)dp/dP + 2*P*reg= -2 * (rating - prediction) *(Q) + 2 *P* reg\n",
        "    dP = -2 * (e * self.Q[i, :]) + 2 * (self.reg * self.P[u, :])\n",
        "    dQ = -2 * (e * self.P[u, :]) + 2 * (self.reg * self.Q[i, :])\n",
        "\n",
        "    return dbu, dbi, dP, dQ\n",
        "\n",
        "  def gradeint_descent(self, u, i):\n",
        "    e = self.train_R[u, i] - self.prediction(u, i)\n",
        "    dbu, dbi, dP, dQ = self.gradient(e, u, i)\n",
        "    self.bu[u] -=  self.lr * dbu\n",
        "    self.bi[i] -=  self.lr * dbi\n",
        "    self.P[u, :] -= self.lr * dP\n",
        "    self.Q[i, :] -=  self.lr * dQ\n",
        "\n",
        "  # def test_loss(self):\n",
        "  #   test_loss = 0\n",
        "  #   for uu in range(self.test_n):\n",
        "  #     for ii in range(self.test_m):\n",
        "  #       predicted_R = self.prediction(uu, ii)\n",
        "  #       test_loss += (self.test_R[uu, ii] - predicted_R) ** 2\n",
        "  #   test_loss =\n",
        "  #   return test_loss\n",
        "\n",
        "  def fit(self):\n",
        "    train_loss_list = []\n",
        "    test_loss_list = []\n",
        "\n",
        "\n",
        "    for epoch in range(self.epoch):\n",
        "      loss = 0\n",
        "      test_loss = 0\n",
        "      num_entries = 0\n",
        "      num_test_entries = 0\n",
        "\n",
        "      for u in range(self.n):\n",
        "        for i in range(self.m):\n",
        "          if self.train_R[u, i]:\n",
        "            predicted_R = self.prediction(u, i)\n",
        "            loss += (self.train_R[u, i] - predicted_R) ** 2\n",
        "            num_entries += 1\n",
        "            self.gradeint_descent(u, i)\n",
        "\n",
        "\n",
        "      for uu in range(self.test_n):\n",
        "        for ii in range(self.test_m):\n",
        "          if self.test_R[uu, ii]: # test rmse\n",
        "            predicted_R = self.prediction(uu, ii)\n",
        "            test_loss += (self.test_R[uu, ii] - predicted_R) ** 2\n",
        "            num_test_entries += 1\n",
        "\n",
        "      rmse = np.sqrt(loss / num_entries)\n",
        "      #test_rmse = self.test_loss\n",
        "      test_rmse =np.sqrt(test_loss / num_test_entries)\n",
        "      train_loss_list.append(rmse)\n",
        "      test_loss_list.append(test_rmse)\n",
        "\n",
        "      if epoch % 10 == 0:\n",
        "        print(f'Epoch [{epoch}/{self.epoch}], train_loss: {rmse}, test_loss: {test_rmse}')\n",
        "    return train_loss_list, test_loss_list\n"
      ],
      "metadata": {
        "id": "rMWknOoG1u7i"
      },
      "execution_count": 34,
      "outputs": []
    },
    {
      "cell_type": "code",
      "source": [
        "import matplotlib.pyplot as plt\n",
        "\n",
        "model = SVD(train_R = train, test_R = test, d=15, epochs= 100)\n",
        "\n",
        "# Train the model\n",
        "train_loss_list, test_loss_list = model.fit()\n",
        "train_loss_tensor = torch.tensor(train_loss_list, dtype=torch.float32)\n",
        "plt.plot(train_loss_tensor.cpu().numpy())\n",
        "test_loss_tensor = torch.tensor(test_loss_list, dtype=torch.float32)\n",
        "plt.plot(test_loss_tensor.cpu().numpy())"
      ],
      "metadata": {
        "colab": {
          "base_uri": "https://localhost:8080/",
          "height": 618
        },
        "id": "GUepMojN8z2e",
        "outputId": "b418dc43-26f3-4215-ad11-04de7506d928"
      },
      "execution_count": 23,
      "outputs": [
        {
          "output_type": "stream",
          "name": "stdout",
          "text": [
            "Number of User: 943\n",
            "Number of Movies: 1650\n",
            "Shape of train_R: (943, 1650)\n",
            "Shape of test_R: (459, 1410)\n",
            "Epoch [0/100], train_loss: 1.3782327318341179, test_loss: 1.2998571034047466\n",
            "Epoch [20/100], train_loss: 0.9386907197856363, test_loss: 1.0522119543777544\n",
            "Epoch [40/100], train_loss: 0.9167623263545476, test_loss: 1.0513782239113538\n",
            "Epoch [60/100], train_loss: 0.892378467947129, test_loss: 1.0518692704440449\n",
            "Epoch [80/100], train_loss: 0.8552889060165316, test_loss: 1.0535356311136674\n"
          ]
        },
        {
          "output_type": "execute_result",
          "data": {
            "text/plain": [
              "[<matplotlib.lines.Line2D at 0x7c79b941aa40>]"
            ]
          },
          "metadata": {},
          "execution_count": 23
        },
        {
          "output_type": "display_data",
          "data": {
            "text/plain": [
              "<Figure size 640x480 with 1 Axes>"
            ],
            "image/png": "[encoded data removed]"
          },
          "metadata": {}
        }
      ]
    },
    {
      "cell_type": "code",
      "source": [
        "import matplotlib.pyplot as plt\n",
        "\n",
        "model = SVD(train_R = train, test_R = test, d=10, learning_rate = 5e-4, epochs= 100)\n",
        "\n",
        "# Train the model\n",
        "train_loss_list, test_loss_list = model.fit()\n",
        "train_loss_tensor = torch.tensor(train_loss_list, dtype=torch.float32)\n",
        "plt.plot(train_loss_tensor.cpu().numpy())\n",
        "test_loss_tensor = torch.tensor(test_loss_list, dtype=torch.float32)\n",
        "plt.plot(test_loss_tensor.cpu().numpy())"
      ],
      "metadata": {
        "colab": {
          "base_uri": "https://localhost:8080/",
          "height": 710
        },
        "id": "1S7MdCxw88P3",
        "outputId": "f0e10ab5-7447-461e-dffb-9b20eccad017"
      },
      "execution_count": 35,
      "outputs": [
        {
          "output_type": "stream",
          "name": "stdout",
          "text": [
            "Number of User: 943\n",
            "Number of Movies: 1650\n",
            "Shape of train_R: (943, 1650)\n",
            "Shape of test_R: (459, 1410)\n",
            "Epoch [0/100], train_loss: 1.4546293586080599, test_loss: 1.4262329876066062\n",
            "Epoch [10/100], train_loss: 1.0233208780196081, test_loss: 1.1047505528097326\n",
            "Epoch [20/100], train_loss: 0.9721717337017457, test_loss: 1.0684999381141\n",
            "Epoch [30/100], train_loss: 0.9505881293548365, test_loss: 1.0572334131824266\n",
            "Epoch [40/100], train_loss: 0.938474762220987, test_loss: 1.0530165612261118\n",
            "Epoch [50/100], train_loss: 0.9305220479753179, test_loss: 1.0514626075521756\n",
            "Epoch [60/100], train_loss: 0.9245526854482515, test_loss: 1.051010858233762\n",
            "Epoch [70/100], train_loss: 0.9193877981873352, test_loss: 1.0509846534639626\n",
            "Epoch [80/100], train_loss: 0.9142354698007358, test_loss: 1.0510471517449447\n",
            "Epoch [90/100], train_loss: 0.9085183359393296, test_loss: 1.0510228127973775\n"
          ]
        },
        {
          "output_type": "execute_result",
          "data": {
            "text/plain": [
              "[<matplotlib.lines.Line2D at 0x7c78f71eb9a0>]"
            ]
          },
          "metadata": {},
          "execution_count": 35
        },
        {
          "output_type": "display_data",
          "data": {
            "text/plain": [
              "<Figure size 640x480 with 1 Axes>"
            ],
            "image/png": "[encoded data removed]"
          },
          "metadata": {}
        }
      ]
    },
    {
      "cell_type": "markdown",
      "source": [
        "# Pytorch VS Numpy\n",
        "세상에 pytorch 연산보다 np.dot이 월등히 빠르다,,,,\n"
      ],
      "metadata": {
        "id": "pxi_XPR88fJG"
      }
    }
  ]
}