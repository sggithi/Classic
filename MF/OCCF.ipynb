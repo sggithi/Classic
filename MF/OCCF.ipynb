{
  "nbformat": 4,
  "nbformat_minor": 0,
  "metadata": {
    "colab": {
      "provenance": [],
      "gpuType": "T4"
    },
    "kernelspec": {
      "name": "python3",
      "display_name": "Python 3"
    },
    "language_info": {
      "name": "python"
    },
    "accelerator": "GPU"
  },
  "cells": [
    {
      "cell_type": "code",
      "source": [
        "#Colab setting\n",
        "from google.colab import drive\n",
        "drive.mount('/content/drive')\n",
        "\n",
        "import sys\n",
        "sys.path.append('/content/drive/My Drive/DSAIL')\n",
        "\n",
        "import os\n",
        "os.chdir('/content/drive/My Drive/DSAIL')"
      ],
      "metadata": {
        "colab": {
          "base_uri": "https://localhost:8080/"
        },
        "id": "kp2VLPKnmids",
        "outputId": "901cebb1-6aac-4ed4-8fc5-c9e4af23b7be"
      },
      "execution_count": 1,
      "outputs": [
        {
          "output_type": "stream",
          "name": "stdout",
          "text": [
            "Mounted at /content/drive\n"
          ]
        }
      ]
    },
    {
      "cell_type": "code",
      "execution_count": 3,
      "metadata": {
        "id": "VfEsegib1jW4"
      },
      "outputs": [],
      "source": [
        "# Data U1.base로 train, u1.test로 test data만들기\n",
        "# U.data는 현재 ([\"user_id\", \"movie_id\", \"rating\", \"timestamp\"])로 구성\n",
        "import pandas as pd\n",
        "import numpy as np\n",
        "\n",
        "file_path = \"ml-100k/u1.base\"\n",
        "columns = [\"user_id\", \"movie_id\", \"rating\", \"timestamp\"]\n",
        "train_data = pd.read_csv(file_path, sep='\\t', names=columns)\n",
        "user_movie_matrix = train_data.pivot(index='user_id', columns='movie_id', values='rating')\n",
        "train = user_movie_matrix.fillna(0).to_numpy(dtype=np.float32)\n",
        "\n",
        "file_path = \"ml-100k/u1.test\"\n",
        "columns = [\"user_id\", \"movie_id\", \"rating\", \"timestamp\"]\n",
        "test_data = pd.read_csv(file_path, sep='\\t', names=columns)\n",
        "user_movie_matrix = test_data.pivot(index='user_id', columns='movie_id', values='rating')\n",
        "test = user_movie_matrix.fillna(0).to_numpy(dtype=np.float32)\n",
        "\n",
        "\n",
        "# # GPU\n",
        "# device = torch.device('cuda' if torch.cuda.is_available() else 'cpu')\n",
        "# print(\"device\", device)\n"
      ]
    },
    {
      "cell_type": "code",
      "source": [
        "import torch\n",
        "import torch.nn as nn\n",
        "import torch.optim as optim\n",
        "import numpy as np\n",
        "\n",
        "class OCCF():\n",
        "  def __init__(self, train_R, test_R, d=50, learning_rate=1e-3, epochs= 50, reg = 0.01, type= 'default'):\n",
        "    '''\n",
        "    OCCF\n",
        "    type: default C = 1 + alpha * r\n",
        "          else: C = 1 + self.alpha * np.log(1 + self.train_R / self.eps)\n",
        "    '''\n",
        "    super(OCCF, self).__init__()\n",
        "    self.num_user, self.num_item = train_R.shape\n",
        "    self.test_n, self.test_m = test_R.shape\n",
        "\n",
        "    self.latent_dimension = d\n",
        "\n",
        "    self.train_R = train_R\n",
        "    self.train_P = np.array(train_R > 0, dtype=np.float16) # implicit\n",
        "    self.test_R = test_R\n",
        "    self.test_P = np.array(test_R > 0, dtype=np.float16) # implicit\n",
        "\n",
        "    self.lr = learning_rate\n",
        "    self.epoch = epochs\n",
        "    self.reg = reg\n",
        "    self.criterion = nn.MSELoss()\n",
        "    print(\"Number of User:\", self.num_user)\n",
        "    print(\"Number of Movies:\", self.num_item)\n",
        "    print(\"Shape of train_R:\", self.train_R.shape)\n",
        "    print(\"Shape of test_R:\", self.test_R.shape)\n",
        "\n",
        "    self.alpha = 40\n",
        "    self.eps = 3e-4 # 적정값 뭐지,,\n",
        "\n",
        "    if type == 'default':\n",
        "      self.C = 1 + self.alpha * self.train_R # (N, M) confidence\n",
        "    else:\n",
        "      self.C = 1 + self.alpha * np.log(1 + self.train_R / self.eps)\n",
        "    self.test_C = 1 + self.alpha * self.test_R\n",
        "    # initialize X & Y randomly\n",
        "    self.X = np.random.standard_normal((self.num_user, self.latent_dimension))\n",
        "    self.Y = np.random.standard_normal((self.num_item, self.latent_dimension))\n",
        "\n",
        "    #self.YTY\n",
        "    #self.XTX\n",
        "  def update_X(self):\n",
        "    # YTY는 주어진 상태로, 모든 user에 대하여 X 업데이트\n",
        "    for u in range(self.num_user):\n",
        "      Cu = np.diag(self.C[u, :]) # Cu\n",
        "      first = self.YTY + self.Y.T.dot(Cu - np.identity(self.num_item)).dot(self.Y) + self.reg * np.identity(self.latent_dimension) #(f, f) latent_dimension: f\n",
        "      second = self.Y.T.dot(Cu).dot(self.train_P[u, :].T) # (f, num_item) X (num_item, 1)) => (f, 1) 아ㅓㅣㅏㅓㅏ item이 논문에서는 n num_item으로 수정\n",
        "      # X = first-1second를 계산하고 싶고 firstX=second 식을 푸는 셈\n",
        "\n",
        "      self.X[u, :] = np.linalg.solve(first, second) # X\n",
        "\n",
        "  def update_Y(self):\n",
        "    # XTX 주어진 상태로, 모든 item에 대하여 Y 업데이트\n",
        "    for i in range(self.num_item):\n",
        "      Ci = np.diag(self.C[:, i]) # ci 각 item에 대하여 interaction 있는 user\n",
        "\n",
        "      first = self.XTX + self.X.T.dot(Ci - np.identity(self.num_user)).dot(self.X) + self.reg * np.identity(self.latent_dimension) #(f, f) latent_dimension: f\n",
        "      second = self.X.T.dot(Ci).dot(self.train_P[:, i].T) # (f, num_user) X (num_user, 1)) => (f, 1)\n",
        "\n",
        "      self.Y[i, :] = np.linalg.solve(first, second)\n",
        "\n",
        "\n",
        "  def loss(self): # X: (num_user, f) Y (num_item, f) => XYT(num_user, num_item) / 논문대로 였으면 (D, N) 이렇게 시작했어야 함,,\n",
        "    return np.sum(self.C * np.square(self.train_P - self.X.dot(self.Y.T))) + self.reg * (np.linalg.norm(self.X) + np.linalg.norm(self.Y))\n",
        "\n",
        "  def prediction(self):\n",
        "    return self.X.dot(self.Y.T)\n",
        "\n",
        "  def rank(self, train=True):\n",
        "    predicted_p = self.prediction()\n",
        "    # 결국 P가 클수록 선호도가 크다고 봄\n",
        "    # rank 낮은 애를 많이 추천할수록 성능 good -> rank의 값은 작을수록 좋음\n",
        "    # 빈 rank 행렬\n",
        "    rank = np.zeros((self.num_user, self.num_item))\n",
        "    if train:\n",
        "      for u in range(self.num_user):\n",
        "        pu = predicted_p[u, :] # user당 item 나열\n",
        "        pu_rank = np.argsort(-pu) # -p값 작은애부터 큰 순서대로 index -> 결국 p 큰 애들부터 작은 index\n",
        "        rank[u, :] = pu_rank / self.num_item\n",
        "\n",
        "      return np.sum(self.train_R * rank) / np.sum(self.train_R)\n",
        "    else:\n",
        "      rank = np.zeros((self.test_n, self.test_m))\n",
        "      predicted =predicted_p[:self.test_n, :self.test_m]\n",
        "      for u in range(self.test_n):\n",
        "        pu = predicted[u, :] # user당 item 나열\n",
        "        pu_rank = np.argsort(-pu) # -p값 작은애부터 큰 순서대로 index -> 결국 p 큰 애들부터 작은 index\n",
        "        rank[u, :] = pu_rank / self.test_m\n",
        "      return np.sum(self.test_R * rank) / np.sum(self.test_R)\n",
        "\n",
        "  def fit(self):\n",
        "    train_loss_list = []\n",
        "    test_loss_list = []\n",
        "    for epoch in range(self.epoch):\n",
        "      # X, Y 번갈아 가면서 업데이트\n",
        "      self.YTY = self.Y.T.dot(self.Y)\n",
        "      self.update_X()\n",
        "      self.XTX = self.X.T.dot(self.X)\n",
        "      self.update_Y()\n",
        "      train_loss = self.loss()\n",
        "\n",
        "      train_loss_list.append(train_loss)\n",
        "\n",
        "      train_ranking = self.rank()\n",
        "      test_ranking = self.rank(train= False)\n",
        "\n",
        "      if epoch % 10 == 0:\n",
        "        print(f'Epoch [{epoch}/{self.epoch}], train_loss: {train_loss}')\n",
        "        print(f'Epoch [{epoch}/{self.epoch}], train_ranking: {train_ranking}, test_ranking: {test_ranking}')\n",
        "    return train_loss_list, test_loss_list\n"
      ],
      "metadata": {
        "id": "rMWknOoG1u7i"
      },
      "execution_count": 51,
      "outputs": []
    },
    {
      "cell_type": "code",
      "source": [
        "import matplotlib.pyplot as plt\n",
        "\n",
        "model = OCCF(train_R = train, test_R = test, d=15, epochs= 40)\n",
        "\n",
        "# Train the model\n",
        "train_loss_list, test_loss_list = model.fit()\n",
        "train_loss_tensor = torch.tensor(train_loss_list, dtype=torch.float32)\n",
        "plt.plot(train_loss_tensor.cpu().numpy())\n",
        "test_loss_tensor = torch.tensor(test_loss_list, dtype=torch.float32)\n",
        "plt.plot(test_loss_tensor.cpu().numpy())"
      ],
      "metadata": {
        "colab": {
          "base_uri": "https://localhost:8080/",
          "height": 677
        },
        "id": "GUepMojN8z2e",
        "outputId": "fe8ed9f5-57e1-4a2b-f463-3ecb8f19075a"
      },
      "execution_count": 52,
      "outputs": [
        {
          "output_type": "stream",
          "name": "stdout",
          "text": [
            "Number of User: 943\n",
            "Number of Movies: 1650\n",
            "Shape of train_R: (943, 1650)\n",
            "Shape of test_R: (459, 1410)\n",
            "Epoch [0/40], train_loss: 2194190.5110936295\n",
            "Epoch [0/40], train_ranking: 0.3655309868850193, test_ranking: 0.4184018173069383\n",
            "Epoch [10/40], train_loss: 364627.46992818575\n",
            "Epoch [10/40], train_ranking: 0.3559133335995754, test_ranking: 0.3909610220917401\n",
            "Epoch [20/40], train_loss: 359610.53634769545\n",
            "Epoch [20/40], train_ranking: 0.3575219187782426, test_ranking: 0.3913836476473633\n",
            "Epoch [30/40], train_loss: 357369.72650968545\n",
            "Epoch [30/40], train_ranking: 0.3572640915940192, test_ranking: 0.39437646559033085\n"
          ]
        },
        {
          "output_type": "error",
          "ename": "KeyboardInterrupt",
          "evalue": "",
          "traceback": [
            "\u001b[0;31m---------------------------------------------------------------------------\u001b[0m",
            "\u001b[0;31mKeyboardInterrupt\u001b[0m                         Traceback (most recent call last)",
            "\u001b[0;32m<ipython-input-52-b016be8ea381>\u001b[0m in \u001b[0;36m<cell line: 6>\u001b[0;34m()\u001b[0m\n\u001b[1;32m      4\u001b[0m \u001b[0;34m\u001b[0m\u001b[0m\n\u001b[1;32m      5\u001b[0m \u001b[0;31m# Train the model\u001b[0m\u001b[0;34m\u001b[0m\u001b[0;34m\u001b[0m\u001b[0m\n\u001b[0;32m----> 6\u001b[0;31m \u001b[0mtrain_loss_list\u001b[0m\u001b[0;34m,\u001b[0m \u001b[0mtest_loss_list\u001b[0m \u001b[0;34m=\u001b[0m \u001b[0mmodel\u001b[0m\u001b[0;34m.\u001b[0m\u001b[0mfit\u001b[0m\u001b[0;34m(\u001b[0m\u001b[0;34m)\u001b[0m\u001b[0;34m\u001b[0m\u001b[0;34m\u001b[0m\u001b[0m\n\u001b[0m\u001b[1;32m      7\u001b[0m \u001b[0mtrain_loss_tensor\u001b[0m \u001b[0;34m=\u001b[0m \u001b[0mtorch\u001b[0m\u001b[0;34m.\u001b[0m\u001b[0mtensor\u001b[0m\u001b[0;34m(\u001b[0m\u001b[0mtrain_loss_list\u001b[0m\u001b[0;34m,\u001b[0m \u001b[0mdtype\u001b[0m\u001b[0;34m=\u001b[0m\u001b[0mtorch\u001b[0m\u001b[0;34m.\u001b[0m\u001b[0mfloat32\u001b[0m\u001b[0;34m)\u001b[0m\u001b[0;34m\u001b[0m\u001b[0;34m\u001b[0m\u001b[0m\n\u001b[1;32m      8\u001b[0m \u001b[0mplt\u001b[0m\u001b[0;34m.\u001b[0m\u001b[0mplot\u001b[0m\u001b[0;34m(\u001b[0m\u001b[0mtrain_loss_tensor\u001b[0m\u001b[0;34m.\u001b[0m\u001b[0mcpu\u001b[0m\u001b[0;34m(\u001b[0m\u001b[0;34m)\u001b[0m\u001b[0;34m.\u001b[0m\u001b[0mnumpy\u001b[0m\u001b[0;34m(\u001b[0m\u001b[0;34m)\u001b[0m\u001b[0;34m)\u001b[0m\u001b[0;34m\u001b[0m\u001b[0;34m\u001b[0m\u001b[0m\n",
            "\u001b[0;32m<ipython-input-51-ff833999283a>\u001b[0m in \u001b[0;36mfit\u001b[0;34m(self)\u001b[0m\n\u001b[1;32m    100\u001b[0m       \u001b[0;31m# X, Y 번갈아 가면서 업데이트\u001b[0m\u001b[0;34m\u001b[0m\u001b[0;34m\u001b[0m\u001b[0m\n\u001b[1;32m    101\u001b[0m       \u001b[0mself\u001b[0m\u001b[0;34m.\u001b[0m\u001b[0mYTY\u001b[0m \u001b[0;34m=\u001b[0m \u001b[0mself\u001b[0m\u001b[0;34m.\u001b[0m\u001b[0mY\u001b[0m\u001b[0;34m.\u001b[0m\u001b[0mT\u001b[0m\u001b[0;34m.\u001b[0m\u001b[0mdot\u001b[0m\u001b[0;34m(\u001b[0m\u001b[0mself\u001b[0m\u001b[0;34m.\u001b[0m\u001b[0mY\u001b[0m\u001b[0;34m)\u001b[0m\u001b[0;34m\u001b[0m\u001b[0;34m\u001b[0m\u001b[0m\n\u001b[0;32m--> 102\u001b[0;31m       \u001b[0mself\u001b[0m\u001b[0;34m.\u001b[0m\u001b[0mupdate_X\u001b[0m\u001b[0;34m(\u001b[0m\u001b[0;34m)\u001b[0m\u001b[0;34m\u001b[0m\u001b[0;34m\u001b[0m\u001b[0m\n\u001b[0m\u001b[1;32m    103\u001b[0m       \u001b[0mself\u001b[0m\u001b[0;34m.\u001b[0m\u001b[0mXTX\u001b[0m \u001b[0;34m=\u001b[0m \u001b[0mself\u001b[0m\u001b[0;34m.\u001b[0m\u001b[0mX\u001b[0m\u001b[0;34m.\u001b[0m\u001b[0mT\u001b[0m\u001b[0;34m.\u001b[0m\u001b[0mdot\u001b[0m\u001b[0;34m(\u001b[0m\u001b[0mself\u001b[0m\u001b[0;34m.\u001b[0m\u001b[0mX\u001b[0m\u001b[0;34m)\u001b[0m\u001b[0;34m\u001b[0m\u001b[0;34m\u001b[0m\u001b[0m\n\u001b[1;32m    104\u001b[0m       \u001b[0mself\u001b[0m\u001b[0;34m.\u001b[0m\u001b[0mupdate_Y\u001b[0m\u001b[0;34m(\u001b[0m\u001b[0;34m)\u001b[0m\u001b[0;34m\u001b[0m\u001b[0;34m\u001b[0m\u001b[0m\n",
            "\u001b[0;32m<ipython-input-51-ff833999283a>\u001b[0m in \u001b[0;36mupdate_X\u001b[0;34m(self)\u001b[0m\n\u001b[1;32m     49\u001b[0m     \u001b[0;32mfor\u001b[0m \u001b[0mu\u001b[0m \u001b[0;32min\u001b[0m \u001b[0mrange\u001b[0m\u001b[0;34m(\u001b[0m\u001b[0mself\u001b[0m\u001b[0;34m.\u001b[0m\u001b[0mnum_user\u001b[0m\u001b[0;34m)\u001b[0m\u001b[0;34m:\u001b[0m\u001b[0;34m\u001b[0m\u001b[0;34m\u001b[0m\u001b[0m\n\u001b[1;32m     50\u001b[0m       \u001b[0mCu\u001b[0m \u001b[0;34m=\u001b[0m \u001b[0mnp\u001b[0m\u001b[0;34m.\u001b[0m\u001b[0mdiag\u001b[0m\u001b[0;34m(\u001b[0m\u001b[0mself\u001b[0m\u001b[0;34m.\u001b[0m\u001b[0mC\u001b[0m\u001b[0;34m[\u001b[0m\u001b[0mu\u001b[0m\u001b[0;34m,\u001b[0m \u001b[0;34m:\u001b[0m\u001b[0;34m]\u001b[0m\u001b[0;34m)\u001b[0m \u001b[0;31m# Cu\u001b[0m\u001b[0;34m\u001b[0m\u001b[0;34m\u001b[0m\u001b[0m\n\u001b[0;32m---> 51\u001b[0;31m       \u001b[0mfirst\u001b[0m \u001b[0;34m=\u001b[0m \u001b[0mself\u001b[0m\u001b[0;34m.\u001b[0m\u001b[0mYTY\u001b[0m \u001b[0;34m+\u001b[0m \u001b[0mself\u001b[0m\u001b[0;34m.\u001b[0m\u001b[0mY\u001b[0m\u001b[0;34m.\u001b[0m\u001b[0mT\u001b[0m\u001b[0;34m.\u001b[0m\u001b[0mdot\u001b[0m\u001b[0;34m(\u001b[0m\u001b[0mCu\u001b[0m \u001b[0;34m-\u001b[0m \u001b[0mnp\u001b[0m\u001b[0;34m.\u001b[0m\u001b[0midentity\u001b[0m\u001b[0;34m(\u001b[0m\u001b[0mself\u001b[0m\u001b[0;34m.\u001b[0m\u001b[0mnum_item\u001b[0m\u001b[0;34m)\u001b[0m\u001b[0;34m)\u001b[0m\u001b[0;34m.\u001b[0m\u001b[0mdot\u001b[0m\u001b[0;34m(\u001b[0m\u001b[0mself\u001b[0m\u001b[0;34m.\u001b[0m\u001b[0mY\u001b[0m\u001b[0;34m)\u001b[0m \u001b[0;34m+\u001b[0m \u001b[0mself\u001b[0m\u001b[0;34m.\u001b[0m\u001b[0mreg\u001b[0m \u001b[0;34m*\u001b[0m \u001b[0mnp\u001b[0m\u001b[0;34m.\u001b[0m\u001b[0midentity\u001b[0m\u001b[0;34m(\u001b[0m\u001b[0mself\u001b[0m\u001b[0;34m.\u001b[0m\u001b[0mlatent_dimension\u001b[0m\u001b[0;34m)\u001b[0m \u001b[0;31m#(f, f) latent_dimension: f\u001b[0m\u001b[0;34m\u001b[0m\u001b[0;34m\u001b[0m\u001b[0m\n\u001b[0m\u001b[1;32m     52\u001b[0m       \u001b[0msecond\u001b[0m \u001b[0;34m=\u001b[0m \u001b[0mself\u001b[0m\u001b[0;34m.\u001b[0m\u001b[0mY\u001b[0m\u001b[0;34m.\u001b[0m\u001b[0mT\u001b[0m\u001b[0;34m.\u001b[0m\u001b[0mdot\u001b[0m\u001b[0;34m(\u001b[0m\u001b[0mCu\u001b[0m\u001b[0;34m)\u001b[0m\u001b[0;34m.\u001b[0m\u001b[0mdot\u001b[0m\u001b[0;34m(\u001b[0m\u001b[0mself\u001b[0m\u001b[0;34m.\u001b[0m\u001b[0mtrain_P\u001b[0m\u001b[0;34m[\u001b[0m\u001b[0mu\u001b[0m\u001b[0;34m,\u001b[0m \u001b[0;34m:\u001b[0m\u001b[0;34m]\u001b[0m\u001b[0;34m.\u001b[0m\u001b[0mT\u001b[0m\u001b[0;34m)\u001b[0m \u001b[0;31m# (f, num_item) X (num_item, 1)) => (f, 1) 아ㅓㅣㅏㅓㅏ item이 논문에서는 n num_item으로 수정\u001b[0m\u001b[0;34m\u001b[0m\u001b[0;34m\u001b[0m\u001b[0m\n\u001b[1;32m     53\u001b[0m       \u001b[0;31m# X = first-1second를 계산하고 싶고 firstX=second 식을 푸는 셈\u001b[0m\u001b[0;34m\u001b[0m\u001b[0;34m\u001b[0m\u001b[0m\n",
            "\u001b[0;31mKeyboardInterrupt\u001b[0m: "
          ]
        }
      ]
    },
    {
      "cell_type": "code",
      "source": [
        "import torch\n",
        "import torch.nn as nn\n",
        "import torch.optim as optim\n",
        "import numpy as np\n",
        "\n",
        "class OCCF():\n",
        "  def __init__(self, train_R, test_R, d=50, learning_rate=1e-3, epochs= 50, reg = 0.01, type= 'default'):\n",
        "    '''\n",
        "    OCCF\n",
        "    type: default C = 1 + alpha * r\n",
        "          else: C = 1 + self.alpha * np.log(1 + self.train_R / self.eps)\n",
        "    '''\n",
        "    super(OCCF, self).__init__()\n",
        "    self.num_user, self.num_item = train_R.shape\n",
        "    self.test_n, self.test_m = test_R.shape\n",
        "\n",
        "    self.latent_dimension = d\n",
        "\n",
        "    self.train_R = train_R\n",
        "    self.train_P = np.array(train_R > 0, dtype=np.float16) # implicit\n",
        "    self.test_R = test_R\n",
        "    self.test_P = np.array(test_R > 0, dtype=np.float16) # implicit\n",
        "\n",
        "    self.lr = learning_rate\n",
        "    self.epoch = epochs\n",
        "    self.reg = reg\n",
        "    self.criterion = nn.MSELoss()\n",
        "    print(\"Number of User:\", self.num_user)\n",
        "    print(\"Number of Movies:\", self.num_item)\n",
        "    print(\"Shape of train_R:\", self.train_R.shape)\n",
        "    print(\"Shape of test_R:\", self.test_R.shape)\n",
        "\n",
        "    self.alpha = 40\n",
        "    self.eps = 3e-4 # 적정값 뭐지,,\n",
        "\n",
        "    if type == 'default':\n",
        "      self.C = 1 + self.alpha * self.train_R # (N, M) confidence\n",
        "    else:\n",
        "      self.C = 1 + self.alpha * np.log(1 + self.train_R / self.eps)\n",
        "    self.test_C = 1 + self.alpha * self.test_R\n",
        "    # initialize X & Y randomly\n",
        "    self.X = np.random.standard_normal((self.num_user, self.latent_dimension))\n",
        "    self.Y = np.random.standard_normal((self.num_item, self.latent_dimension))\n",
        "\n",
        "    #self.YTY\n",
        "    #self.XTX\n",
        "  def update_X(self):\n",
        "    # YTY는 주어진 상태로, 모든 user에 대하여 X 업데이트\n",
        "    for u in range(self.num_user):\n",
        "      Cu = np.diag(self.C[u, :]) # Cu\n",
        "      first = self.YTY + np.dot(self.Y.T, (Cu - np.identity(self.num_item))).dot(self.Y) + self.reg * np.identity(self.latent_dimension) #(f, f) latent_dimension: f\n",
        "      second = self.Y.T.dot(Cu).dot(self.train_P[u, :]) # (f, num_item) X (num_item, 1)) => (f, 1) 아ㅓㅣㅏㅓㅏ item이 논문에서는 n num_item으로 수정\n",
        "      # X = first-1second를 계산하고 싶고 firstX=second 식을 푸는 셈\n",
        "\n",
        "      self.X[u, :] = np.dot(np.linalg.inv(first), second) # X\n",
        "\n",
        "  def update_Y(self):\n",
        "    # XTX 주어진 상태로, 모든 item에 대하여 Y 업데이트\n",
        "    for i in range(self.num_item):\n",
        "      Ci = np.diag(self.C[:, i]) # ci 각 item에 대하여 interaction 있는 user\n",
        "\n",
        "      first = self.XTX + np.dot(self.X.T, (Ci - np.identity(self.num_user))).dot(self.X) + self.reg * np.identity(self.latent_dimension) #(f, f) latent_dimension: f\n",
        "      second = self.X.T.dot(Ci).dot(self.train_P[:, i]) # (f, num_user) X (num_user, 1)) => (f, 1)\n",
        "\n",
        "      self.Y[i, :] = np.dot(np.linalg.inv(first), second)\n",
        "\n",
        "\n",
        "  def loss(self): # X: (num_user, f) Y (num_item, f) => XYT(num_user, num_item) / 논문대로 였으면 (D, N) 이렇게 시작했어야 함,,\n",
        "    return np.sum(self.C * np.square(self.train_P - self.X.dot(self.Y.T))) + self.reg * (np.linalg.norm(self.X) + np.linalg.norm(self.Y))\n",
        "\n",
        "  def prediction(self):\n",
        "    return self.X.dot(self.Y.T)\n",
        "\n",
        "  def rank(self, train=True):\n",
        "    predicted_p = self.prediction()\n",
        "    # 결국 P가 클수록 선호도가 크다고 봄\n",
        "    # rank 낮은 애를 많이 추천할수록 성능 good -> rank의 값은 작을수록 좋음\n",
        "    # 빈 rank 행렬\n",
        "    rank = np.zeros((self.num_user, self.num_item))\n",
        "    if train:\n",
        "      for u in range(self.num_user):\n",
        "        pu = predicted_p[u, :] # user당 item 나열\n",
        "        pu_rank = np.argsort(-pu) # -p값 작은애부터 큰 순서대로 index -> 결국 p 큰 애들부터 작은 index\n",
        "        rank[u, :] = pu_rank / self.num_item\n",
        "      return np.sum(self.train_R * rank) / np.sum(self.train_R)\n",
        "    else:\n",
        "      rank = np.zeros((self.test_n, self.test_m))\n",
        "      predicted =predicted_p[:self.test_n, :self.test_m]\n",
        "      for u in range(self.test_n):\n",
        "        pu = predicted[u, :] # user당 item 나열\n",
        "        pu_rank = np.argsort(-pu) # -p값 작은애부터 큰 순서대로 index -> 결국 p 큰 애들부터 작은 index\n",
        "        rank[u, :] = pu_rank / self.test_m\n",
        "      return np.sum(self.test_R * rank) / np.sum(self.test_R)\n",
        "\n",
        "  def fit(self):\n",
        "    train_loss_list = []\n",
        "    test_loss_list = []\n",
        "    for epoch in range(self.epoch):\n",
        "      # X, Y 번갈아 가면서 업데이트\n",
        "      self.YTY = self.Y.T.dot(self.Y)\n",
        "      self.update_X()\n",
        "      self.XTX = self.X.T.dot(self.X)\n",
        "      self.update_Y()\n",
        "      train_loss = self.loss()\n",
        "\n",
        "      train_loss_list.append(train_loss)\n",
        "\n",
        "      train_ranking = self.rank()\n",
        "      test_ranking = self.rank(train= False)\n",
        "\n",
        "      print(f'Epoch [{epoch}/{self.epoch}], train_loss: {train_loss}')\n",
        "      print(f'Epoch [{epoch}/{self.epoch}], train_ranking: {train_ranking}, test_ranking: {test_ranking}')\n",
        "    return train_loss_list, test_loss_list\n"
      ],
      "metadata": {
        "id": "y7ZT0AnHEuE2"
      },
      "execution_count": 53,
      "outputs": []
    },
    {
      "cell_type": "code",
      "source": [
        "import matplotlib.pyplot as plt\n",
        "\n",
        "model = OCCF(train_R = train, test_R = test, d=15, epochs= 10)\n",
        "\n",
        "# Train the model\n",
        "train_loss_list, test_loss_list = model.fit()\n",
        "train_loss_tensor = torch.tensor(train_loss_list, dtype=torch.float32)\n",
        "plt.plot(train_loss_tensor.cpu().numpy())\n",
        "test_loss_tensor = torch.tensor(test_loss_list, dtype=torch.float32)\n",
        "plt.plot(test_loss_tensor.cpu().numpy())"
      ],
      "metadata": {
        "colab": {
          "base_uri": "https://localhost:8080/",
          "height": 912
        },
        "id": "E7PZP9w1X09m",
        "outputId": "8bef7214-e1ba-4a0c-d688-d4b3f688a0f8"
      },
      "execution_count": 54,
      "outputs": [
        {
          "output_type": "stream",
          "name": "stdout",
          "text": [
            "Number of User: 943\n",
            "Number of Movies: 1650\n",
            "Shape of train_R: (943, 1650)\n",
            "Shape of test_R: (459, 1410)\n",
            "Epoch [0/10], train_loss: 1936319.9075989998\n",
            "Epoch [0/10], train_ranking: 0.36098166754054073, test_ranking: 0.414871593677736\n",
            "Epoch [1/10], train_loss: 472109.4293878701\n",
            "Epoch [1/10], train_ranking: 0.3347437616775976, test_ranking: 0.379259887287817\n",
            "Epoch [2/10], train_loss: 406686.49923386023\n",
            "Epoch [2/10], train_ranking: 0.3455409816847175, test_ranking: 0.38416709138825095\n",
            "Epoch [3/10], train_loss: 387439.29965294566\n",
            "Epoch [3/10], train_ranking: 0.3491342206053048, test_ranking: 0.3856552014905269\n",
            "Epoch [4/10], train_loss: 377931.4565176968\n",
            "Epoch [4/10], train_ranking: 0.3526710227245887, test_ranking: 0.38927906444515714\n",
            "Epoch [5/10], train_loss: 372240.57334813307\n",
            "Epoch [5/10], train_ranking: 0.35429285342835565, test_ranking: 0.3882209009553277\n",
            "Epoch [6/10], train_loss: 368650.17698252056\n",
            "Epoch [6/10], train_ranking: 0.35537163692703816, test_ranking: 0.38663676466252217\n",
            "Epoch [7/10], train_loss: 366295.82138392085\n",
            "Epoch [7/10], train_ranking: 0.354849949177893, test_ranking: 0.388626537647582\n",
            "Epoch [8/10], train_loss: 364662.4157569653\n",
            "Epoch [8/10], train_ranking: 0.35647623298897974, test_ranking: 0.3941725892010599\n",
            "Epoch [9/10], train_loss: 363464.24243339244\n",
            "Epoch [9/10], train_ranking: 0.35563979171309806, test_ranking: 0.3896331328166071\n"
          ]
        },
        {
          "output_type": "execute_result",
          "data": {
            "text/plain": [
              "[<matplotlib.lines.Line2D at 0x7ff72111ce20>]"
            ]
          },
          "metadata": {},
          "execution_count": 54
        },
        {
          "output_type": "display_data",
          "data": {
            "text/plain": [
              "<Figure size 640x480 with 1 Axes>"
            ],
            "image/png": "[encoded data removed]"
          },
          "metadata": {}
        }
      ]
    },
    {
      "cell_type": "markdown",
      "source": [
        "np.linalg.solve 이거 쓰는 것보다 np.linalg.inv 쓰는게 훨씬 빠르고, 왜 ranking 개선이 안되는지는 의문............."
      ],
      "metadata": {
        "id": "fBUydICsabUn"
      }
    }
  ]
}