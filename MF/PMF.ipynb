{
  "nbformat": 4,
  "nbformat_minor": 0,
  "metadata": {
    "colab": {
      "provenance": [],
      "gpuType": "T4"
    },
    "kernelspec": {
      "name": "python3",
      "display_name": "Python 3"
    },
    "language_info": {
      "name": "python"
    },
    "accelerator": "GPU"
  },
  "cells": [
    {
      "cell_type": "code",
      "source": [
        "#Colab setting\n",
        "from google.colab import drive\n",
        "drive.mount('/content/drive')\n",
        "\n",
        "import sys\n",
        "sys.path.append('/content/drive/My Drive/DSAIL')\n",
        "\n",
        "import os\n",
        "os.chdir('/content/drive/My Drive/DSAIL')"
      ],
      "metadata": {
        "colab": {
          "base_uri": "https://localhost:8080/"
        },
        "id": "kp2VLPKnmids",
        "outputId": "0f8e8672-a2bc-400e-9b3b-cb5026a5d57a"
      },
      "execution_count": 1,
      "outputs": [
        {
          "output_type": "stream",
          "name": "stdout",
          "text": [
            "Mounted at /content/drive\n"
          ]
        }
      ]
    },
    {
      "cell_type": "code",
      "source": [
        "#!unzip ml-100k.zip"
      ],
      "metadata": {
        "colab": {
          "base_uri": "https://localhost:8080/"
        },
        "id": "M52hTVu7msFM",
        "outputId": "e5f0398c-5206-45d0-f208-81a504afe6d6"
      },
      "execution_count": 2,
      "outputs": [
        {
          "output_type": "stream",
          "name": "stdout",
          "text": [
            "Archive:  ml-100k.zip\n",
            "   creating: ml-100k/\n",
            "  inflating: ml-100k/allbut.pl       \n",
            "  inflating: ml-100k/mku.sh          \n",
            "  inflating: ml-100k/README          \n",
            "  inflating: ml-100k/u.data          \n",
            "  inflating: ml-100k/u.genre         \n",
            "  inflating: ml-100k/u.info          \n",
            "  inflating: ml-100k/u.item          \n",
            "  inflating: ml-100k/u.occupation    \n",
            "  inflating: ml-100k/u.user          \n",
            "  inflating: ml-100k/u1.base         \n",
            "  inflating: ml-100k/u1.test         \n",
            "  inflating: ml-100k/u2.base         \n",
            "  inflating: ml-100k/u2.test         \n",
            "  inflating: ml-100k/u3.base         \n",
            "  inflating: ml-100k/u3.test         \n",
            "  inflating: ml-100k/u4.base         \n",
            "  inflating: ml-100k/u4.test         \n",
            "  inflating: ml-100k/u5.base         \n",
            "  inflating: ml-100k/u5.test         \n",
            "  inflating: ml-100k/ua.base         \n",
            "  inflating: ml-100k/ua.test         \n",
            "  inflating: ml-100k/ub.base         \n",
            "  inflating: ml-100k/ub.test         \n"
          ]
        }
      ]
    },
    {
      "cell_type": "code",
      "execution_count": 2,
      "metadata": {
        "id": "VfEsegib1jW4",
        "colab": {
          "base_uri": "https://localhost:8080/"
        },
        "outputId": "4121528a-04fc-4186-e7ab-492a8495be68"
      },
      "outputs": [
        {
          "output_type": "stream",
          "name": "stdout",
          "text": [
            "device cuda\n"
          ]
        }
      ],
      "source": [
        "# Data U1.base로 train, u1.test로 test data만들기\n",
        "# U.data는 현재 ([\"user_id\", \"movie_id\", \"rating\", \"timestamp\"])로 구성\n",
        "import pandas as pd\n",
        "import torch\n",
        "\n",
        "file_path = \"ml-100k/u1.base\"\n",
        "columns = [\"user_id\", \"movie_id\", \"rating\", \"timestamp\"]\n",
        "train_data = pd.read_csv(file_path, sep='\\t', names=columns)\n",
        "user_movie_matrix = train_data.pivot(index='user_id', columns='movie_id', values='rating')\n",
        "train = user_movie_matrix.fillna(0)\n",
        "\n",
        "file_path = \"ml-100k/u1.test\"\n",
        "columns = [\"user_id\", \"movie_id\", \"rating\", \"timestamp\"]\n",
        "test_data = pd.read_csv(file_path, sep='\\t', names=columns)\n",
        "user_movie_matrix = test_data.pivot(index='user_id', columns='movie_id', values='rating')\n",
        "test = user_movie_matrix.fillna(0)\n",
        "\n",
        "# GPU\n",
        "device = torch.device('cuda' if torch.cuda.is_available() else 'cpu')\n",
        "print(\"device\", device)"
      ]
    },
    {
      "cell_type": "code",
      "source": [
        "print(train.head)"
      ],
      "metadata": {
        "colab": {
          "base_uri": "https://localhost:8080/"
        },
        "id": "pPZuWXP0tDxj",
        "outputId": "8a118566-763d-4b3b-a0e3-d9484889427a"
      },
      "execution_count": 5,
      "outputs": [
        {
          "output_type": "stream",
          "name": "stdout",
          "text": [
            "<bound method NDFrame.head of movie_id  1     2     3     4     5     6     7     8     9     10    ...  \\\n",
            "user_id                                                               ...   \n",
            "1          5.0   3.0   4.0   3.0   3.0   0.0   4.0   1.0   5.0   0.0  ...   \n",
            "2          4.0   0.0   0.0   0.0   0.0   0.0   0.0   0.0   0.0   2.0  ...   \n",
            "3          0.0   0.0   0.0   0.0   0.0   0.0   0.0   0.0   0.0   0.0  ...   \n",
            "4          0.0   0.0   0.0   0.0   0.0   0.0   0.0   0.0   0.0   0.0  ...   \n",
            "5          0.0   0.0   0.0   0.0   0.0   0.0   0.0   0.0   0.0   0.0  ...   \n",
            "...        ...   ...   ...   ...   ...   ...   ...   ...   ...   ...  ...   \n",
            "939        0.0   0.0   0.0   0.0   0.0   0.0   0.0   0.0   5.0   0.0  ...   \n",
            "940        0.0   0.0   0.0   2.0   0.0   0.0   4.0   5.0   3.0   0.0  ...   \n",
            "941        5.0   0.0   0.0   0.0   0.0   0.0   4.0   0.0   0.0   0.0  ...   \n",
            "942        0.0   0.0   0.0   0.0   0.0   0.0   0.0   0.0   0.0   0.0  ...   \n",
            "943        0.0   5.0   0.0   0.0   0.0   0.0   0.0   0.0   3.0   0.0  ...   \n",
            "\n",
            "movie_id  1673  1674  1675  1676  1677  1678  1679  1680  1681  1682  \n",
            "user_id                                                               \n",
            "1          0.0   0.0   0.0   0.0   0.0   0.0   0.0   0.0   0.0   0.0  \n",
            "2          0.0   0.0   0.0   0.0   0.0   0.0   0.0   0.0   0.0   0.0  \n",
            "3          0.0   0.0   0.0   0.0   0.0   0.0   0.0   0.0   0.0   0.0  \n",
            "4          0.0   0.0   0.0   0.0   0.0   0.0   0.0   0.0   0.0   0.0  \n",
            "5          0.0   0.0   0.0   0.0   0.0   0.0   0.0   0.0   0.0   0.0  \n",
            "...        ...   ...   ...   ...   ...   ...   ...   ...   ...   ...  \n",
            "939        0.0   0.0   0.0   0.0   0.0   0.0   0.0   0.0   0.0   0.0  \n",
            "940        0.0   0.0   0.0   0.0   0.0   0.0   0.0   0.0   0.0   0.0  \n",
            "941        0.0   0.0   0.0   0.0   0.0   0.0   0.0   0.0   0.0   0.0  \n",
            "942        0.0   0.0   0.0   0.0   0.0   0.0   0.0   0.0   0.0   0.0  \n",
            "943        0.0   0.0   0.0   0.0   0.0   0.0   0.0   0.0   0.0   0.0  \n",
            "\n",
            "[943 rows x 1650 columns]>\n"
          ]
        }
      ]
    },
    {
      "cell_type": "code",
      "source": [
        "# PMF\n",
        "# N: # of users\n",
        "# M: # of movies\n",
        "# D: dimension\n",
        "\n",
        "import torch\n",
        "import torch.nn as nn\n",
        "import torch.optim as optim\n",
        "import numpy as np\n",
        "\n",
        "def g(x):\n",
        "    return 1 / (1+torch.exp(-x))\n",
        "\n",
        "class PMF(nn.Module):\n",
        "  def __init__(self, train_R, test_R, d=30, lambdaV=0.001, lambdaU=0.01 ,learning_rate=1e-3, epochs=30, constrain = False, device=device):\n",
        "    '''\n",
        "    constrain: True -> constrained pmf\n",
        "    I: rating 있으면 1 없으면 0\n",
        "    '''\n",
        "    super(PMF, self).__init__()\n",
        "    self.n, self.m = train_R.shape\n",
        "    self.device = device\n",
        "    train_R_values = train_R.to_numpy()\n",
        "    self.k = float(np.max(train_R_values))\n",
        "\n",
        "    self.latent_dimension = d\n",
        "    self.U = nn.Parameter(0.1 * torch.rand(self.latent_dimension, self.n).to(self.device)) # random initialize (D, N)\n",
        "    self.V = nn.Parameter(0.1 * torch.rand(self.latent_dimension, self.m).to(self.device)) # (D, M)\n",
        "    self.constrain = constrain\n",
        "\n",
        "    if self.constrain:\n",
        "      self.W = nn.Parameter(torch.rand(self.latent_dimension, self.m)).to(self.device) # (D, M)\n",
        "\n",
        "    self.lambdaV = lambdaV\n",
        "    self.lambdaU = lambdaU\n",
        "\n",
        "    self.train_R = train_R\n",
        "    self.scaled_train_R = (self.train_R - 1) / (self.k - 1)\n",
        "    self.scaled_train_R = torch.tensor(self.scaled_train_R.to_numpy(), dtype=torch.float32).to(self.device)\n",
        "    self.test_R = test_R\n",
        "    self.scaled_test_R = torch.tensor((self.test_R.to_numpy() - 1) / (self.k - 1), dtype=torch.float32).to(self.device)\n",
        "    self.lr = learning_rate\n",
        "    self.epoch = epochs\n",
        "    self.I = torch.tensor((train_R > 0).values, dtype=torch.float32).to(self.device) # (N, M)\n",
        "\n",
        "    self.optimizer = optim.Adam(self.parameters(), lr=self.lr)\n",
        "    self.criterion = nn.MSELoss()\n",
        "    print(\"Number of User:\", self.n)\n",
        "    print(\"Number of Movies:\", self.m)\n",
        "    print(\"Hidden dimension:\", self.latent_dimension)\n",
        "    print(\"Max Rating:\", self.k)\n",
        "\n",
        "  def loss(self):\n",
        "    if self.constrain:\n",
        "      # I (N, M) 애랑 W (D, M) # U (D, N)\n",
        "      #uv = self.U # u= v+ (IW) / I\n",
        "      row_sums = torch.sum(self.I.t(), dim=0)\n",
        "      result = torch.matmul(self.W, self.I.t()) / row_sums# (D, N)\n",
        "      uv = self.U + result.to(device)\n",
        "      uv = uv.to(device)\n",
        "      # for i in range(self.n):\n",
        "      #   uv[i, :] = uv[i, :] + torch.matmul(self.I[i, :], self.W.t()) / torch.sum(self.I[i, :])\n",
        "      predicted_R = self.I * torch.matmul(uv.transpose(0, 1), self.V)\n",
        "      loss = 0.5 * self.criterion(g(predicted_R), self.scaled_train_R) + self.lambdaV / 2 * torch.sum(self.U**2)\n",
        "    else:\n",
        "      predicted_R = self.I * torch.matmul(self.U.transpose(0, 1), self.V)\n",
        "      loss = 0.5 * self.criterion(predicted_R, self.scaled_train_R) + self.lambdaU / 2 * torch.sum(self.U**2) + self.lambdaV / 2 * torch.sum(self.V**2)\n",
        "    return loss\n",
        "\n",
        "  def fit(self):\n",
        "    train_loss_list = []\n",
        "    for epoch in range(self.epoch):\n",
        "      self.train()\n",
        "      loss = self.loss()\n",
        "      train_loss_list.append(loss)\n",
        "      self.optimizer.zero_grad()\n",
        "      loss.backward()\n",
        "      self.optimizer.step()\n",
        "      if epoch % 20 == 0:\n",
        "        print(f'Epoch [{epoch}/{self.epoch}], Loss: {loss.item()}')\n",
        "    return self.U, self.V, train_loss_list\n"
      ],
      "metadata": {
        "id": "rMWknOoG1u7i"
      },
      "execution_count": 35,
      "outputs": []
    },
    {
      "cell_type": "code",
      "source": [
        "import matplotlib.pyplot as plt\n",
        "\n",
        "model = PMF(train_R = train, test_R = test, epochs= 100, constrain=False)\n",
        "\n",
        "# Train the model\n",
        "u1, v1, train_loss_list1 = model.fit()\n",
        "train_loss_tensor = torch.tensor(train_loss_list1, dtype=torch.float32)\n",
        "plt.plot(train_loss_tensor.cpu().numpy())\n"
      ],
      "metadata": {
        "colab": {
          "base_uri": "https://localhost:8080/",
          "height": 617
        },
        "id": "GUepMojN8z2e",
        "outputId": "f30a787d-3a52-4cd0-e0b4-21ff242db8a1"
      },
      "execution_count": 36,
      "outputs": [
        {
          "output_type": "stream",
          "name": "stdout",
          "text": [
            "Number of User: 943\n",
            "Number of Movies: 1650\n",
            "Hidden dimension: 30\n",
            "Max Rating: 5.0\n",
            "Epoch [0/100], Loss: 0.5973430871963501\n",
            "Epoch [20/100], Loss: 0.3316344618797302\n",
            "Epoch [40/100], Loss: 0.18044278025627136\n",
            "Epoch [60/100], Loss: 0.10347006469964981\n",
            "Epoch [80/100], Loss: 0.06731902807950974\n"
          ]
        },
        {
          "output_type": "execute_result",
          "data": {
            "text/plain": [
              "[<matplotlib.lines.Line2D at 0x7d5fe6781ae0>]"
            ]
          },
          "metadata": {},
          "execution_count": 36
        },
        {
          "output_type": "display_data",
          "data": {
            "text/plain": [
              "<Figure size 640x480 with 1 Axes>"
            ],
            "image/png": "[encoded data removed]"
          },
          "metadata": {}
        }
      ]
    },
    {
      "cell_type": "code",
      "source": [
        "model = PMF(train_R = train, test_R = test,  epochs= 100, constrain=True)\n",
        "\n",
        "# Train the model\n",
        "u2, v2, train_loss_list2 = model.fit()\n",
        "train_loss_tensor = torch.tensor(train_loss_list2, dtype=torch.float32)\n",
        "plt.plot(train_loss_tensor.cpu().numpy())"
      ],
      "metadata": {
        "colab": {
          "base_uri": "https://localhost:8080/",
          "height": 617
        },
        "id": "cg_ETUAj9rO9",
        "outputId": "cf8577c1-fcdf-4e00-b351-d258f2f53a56"
      },
      "execution_count": 38,
      "outputs": [
        {
          "output_type": "stream",
          "name": "stdout",
          "text": [
            "Number of User: 943\n",
            "Number of Movies: 1650\n",
            "Hidden dimension: 30\n",
            "Max Rating: 5.0\n",
            "Epoch [0/100], Loss: 0.3154676556587219\n",
            "Epoch [20/100], Loss: 0.2928299307823181\n",
            "Epoch [40/100], Loss: 0.2800328731536865\n",
            "Epoch [60/100], Loss: 0.2735491394996643\n",
            "Epoch [80/100], Loss: 0.27051669359207153\n"
          ]
        },
        {
          "output_type": "execute_result",
          "data": {
            "text/plain": [
              "[<matplotlib.lines.Line2D at 0x7d5fe6802e90>]"
            ]
          },
          "metadata": {},
          "execution_count": 38
        },
        {
          "output_type": "display_data",
          "data": {
            "text/plain": [
              "<Figure size 640x480 with 1 Axes>"
            ],
            "image/png": "[encoded data removed]"
          },
          "metadata": {}
        }
      ]
    },
    {
      "cell_type": "code",
      "source": [],
      "metadata": {
        "id": "ZSqniEw3-ARv"
      },
      "execution_count": null,
      "outputs": []
    }
  ]
}