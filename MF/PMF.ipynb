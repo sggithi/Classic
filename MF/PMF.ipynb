{
  "nbformat": 4,
  "nbformat_minor": 0,
  "metadata": {
    "colab": {
      "provenance": []
    },
    "kernelspec": {
      "name": "python3",
      "display_name": "Python 3"
    },
    "language_info": {
      "name": "python"
    }
  },
  "cells": [
    {
      "cell_type": "code",
      "execution_count": null,
      "metadata": {
        "id": "VfEsegib1jW4"
      },
      "outputs": [],
      "source": [
        "# Data\n",
        "\n",
        "# GPU\n",
        "device = torch.device('cuda' if torch.cuda.is_available() else 'cpu')\n",
        "print(\"device\", device)"
      ]
    },
    {
      "cell_type": "code",
      "source": [
        "# PMF\n",
        "# N: # of users\n",
        "# M: # of movies\n",
        "# D: dimension\n",
        "\n",
        "import torch\n",
        "import torch.nn as nn\n",
        "import torch.optim as optim\n",
        "\n",
        "\n",
        "class PMF(nn.Module):\n",
        "  def __init__(self, train_R, test_R, d, lambdaV, lambdaU, lambdaW,learning_rate=1e-3, epochs=200, constrain = False, device):\n",
        "    '''\n",
        "    constrain: True -> constrained pmf\n",
        "    I: rating 있으면 1 없으면 0\n",
        "    '''\n",
        "    self.n, self.m = train_R.shape\n",
        "    self.device = device\n",
        "    self.latent_dimension = d\n",
        "    self.U = nn.Parameter(torch.rand(self.n, self.latent_dimension).to(self.device)) # random initialize (D, N)\n",
        "    self.V = nn.Parameter(torch.rand(self.m, self.latent_dimension).to(self.device)) # (D, M)\n",
        "    self.constrain = constrain\n",
        "\n",
        "    if self.constrain:\n",
        "      self.W = nn.Parameter(torch.rand(self.m, self.latent_dimension)) # (D, M)\n",
        "\n",
        "    self.lambdaV = lambdaV\n",
        "    self.lambdaU = lambdaU\n",
        "    self.lambdaW = lambdaW\n",
        "    self.train_R = train_R\n",
        "    self.test_R = test_R\n",
        "    self.lr = learning_rate\n",
        "    self.epoch = epochs\n",
        "    self.I = (train_R > 0).int() # (N, M)\n",
        "\n",
        "    self.optimizer = optim.Adam(self.parameters(), lr=self.lr)\n",
        "    self.criterion = nn.MSELoss()\n",
        "\n",
        "  def loss(self):\n",
        "    if self.constrain:\n",
        "      predicted_R = self.I * torch.matmul(self.U.transpose(0, 1), self.V + self.W)\n",
        "      loss = 0.5 * self.criterion(predicted_R, train_R) + self.lambdaV / 2 * torch.sum(self.U**2)\n",
        "    else:\n",
        "      predicted_R = self.I * torch.matmul(self.U.transpose(0, 1), self.V)\n",
        "      loss = 0.5 * self.criterion(predicted_R, train_R) + self.lambdaU / 2 * torch.sum(self.U**2) + self.lambdaV / 2 * torch.sum(self.V**2)\n",
        "    return loss\n",
        ""
      ],
      "metadata": {
        "id": "rMWknOoG1u7i"
      },
      "execution_count": null,
      "outputs": []
    }
  ]
}