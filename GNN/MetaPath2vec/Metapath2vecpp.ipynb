{
  "nbformat": 4,
  "nbformat_minor": 0,
  "metadata": {
    "colab": {
      "provenance": []
    },
    "kernelspec": {
      "name": "python3",
      "display_name": "Python 3"
    },
    "language_info": {
      "name": "python"
    }
  },
  "cells": [
    {
      "cell_type": "code",
      "execution_count": 3,
      "metadata": {
        "colab": {
          "base_uri": "https://localhost:8080/"
        },
        "id": "4my2U38mBW1e",
        "outputId": "113604d9-3055-44ec-cc23-342cba0b0f5c"
      },
      "outputs": [
        {
          "output_type": "stream",
          "name": "stderr",
          "text": [
            "DGL backend not selected or invalid.  Assuming PyTorch for now.\n"
          ]
        },
        {
          "output_type": "stream",
          "name": "stdout",
          "text": [
            "Setting the default backend to \"pytorch\". You can change it in the ~/.dgl/config.json file or export the DGLBACKEND environment variable.  Valid options are: pytorch, mxnet, tensorflow (all lowercase)\n"
          ]
        }
      ],
      "source": [
        "import torch\n",
        "import dgl\n",
        "from torch.optim import SparseAdam\n",
        "from torch.utils.data import DataLoader\n",
        "from dgl.nn.pytorch import MetaPath2Vec"
      ]
    },
    {
      "cell_type": "code",
      "source": [
        "#!pip install dgl\n",
        "!pip install torch_geometric"
      ],
      "metadata": {
        "colab": {
          "base_uri": "https://localhost:8080/"
        },
        "id": "7ETmmeVwBq-V",
        "outputId": "b0824ddf-2946-46f2-c151-379c3aaf4313"
      },
      "execution_count": 11,
      "outputs": [
        {
          "output_type": "stream",
          "name": "stdout",
          "text": [
            "Collecting torch_geometric\n",
            "  Downloading torch_geometric-2.4.0-py3-none-any.whl (1.0 MB)\n",
            "\u001b[2K     \u001b[90m━━━━━━━━━━━━━━━━━━━━━━━━━━━━━━━━━━━━━━━━\u001b[0m \u001b[32m1.0/1.0 MB\u001b[0m \u001b[31m6.8 MB/s\u001b[0m eta \u001b[36m0:00:00\u001b[0m\n",
            "\u001b[?25hRequirement already satisfied: tqdm in /usr/local/lib/python3.10/dist-packages (from torch_geometric) (4.66.1)\n",
            "Requirement already satisfied: numpy in /usr/local/lib/python3.10/dist-packages (from torch_geometric) (1.23.5)\n",
            "Requirement already satisfied: scipy in /usr/local/lib/python3.10/dist-packages (from torch_geometric) (1.11.4)\n",
            "Requirement already satisfied: jinja2 in /usr/local/lib/python3.10/dist-packages (from torch_geometric) (3.1.3)\n",
            "Requirement already satisfied: requests in /usr/local/lib/python3.10/dist-packages (from torch_geometric) (2.31.0)\n",
            "Requirement already satisfied: pyparsing in /usr/local/lib/python3.10/dist-packages (from torch_geometric) (3.1.1)\n",
            "Requirement already satisfied: scikit-learn in /usr/local/lib/python3.10/dist-packages (from torch_geometric) (1.2.2)\n",
            "Requirement already satisfied: psutil>=5.8.0 in /usr/local/lib/python3.10/dist-packages (from torch_geometric) (5.9.5)\n",
            "Requirement already satisfied: MarkupSafe>=2.0 in /usr/local/lib/python3.10/dist-packages (from jinja2->torch_geometric) (2.1.3)\n",
            "Requirement already satisfied: charset-normalizer<4,>=2 in /usr/local/lib/python3.10/dist-packages (from requests->torch_geometric) (3.3.2)\n",
            "Requirement already satisfied: idna<4,>=2.5 in /usr/local/lib/python3.10/dist-packages (from requests->torch_geometric) (3.6)\n",
            "Requirement already satisfied: urllib3<3,>=1.21.1 in /usr/local/lib/python3.10/dist-packages (from requests->torch_geometric) (2.0.7)\n",
            "Requirement already satisfied: certifi>=2017.4.17 in /usr/local/lib/python3.10/dist-packages (from requests->torch_geometric) (2023.11.17)\n",
            "Requirement already satisfied: joblib>=1.1.1 in /usr/local/lib/python3.10/dist-packages (from scikit-learn->torch_geometric) (1.3.2)\n",
            "Requirement already satisfied: threadpoolctl>=2.0.0 in /usr/local/lib/python3.10/dist-packages (from scikit-learn->torch_geometric) (3.2.0)\n",
            "Installing collected packages: torch_geometric\n",
            "Successfully installed torch_geometric-2.4.0\n"
          ]
        }
      ]
    },
    {
      "cell_type": "code",
      "source": [
        "from torch_geometric.datasets import AMiner\n",
        "path = \"DSAIL/AMiner\"\n",
        "dataset = AMiner(path, transform=None, pre_transform=None)\n",
        "graph = dataset[0]"
      ],
      "metadata": {
        "colab": {
          "base_uri": "https://localhost:8080/"
        },
        "id": "RkQus3TeHGn-",
        "outputId": "591bbb71-2bc8-4722-e3fb-05d04c29af59"
      },
      "execution_count": 44,
      "outputs": [
        {
          "output_type": "stream",
          "name": "stdout",
          "text": [
            "\u001b[0m\u001b[01;34mDSAIL\u001b[0m/  \u001b[01;34msample_data\u001b[0m/\n"
          ]
        }
      ]
    },
    {
      "cell_type": "code",
      "source": [
        "graph"
      ],
      "metadata": {
        "colab": {
          "base_uri": "https://localhost:8080/"
        },
        "id": "dbZEQFmFIx37",
        "outputId": "6f2ac34e-12fe-4306-fcc6-2c67a6630bd8"
      },
      "execution_count": 49,
      "outputs": [
        {
          "output_type": "execute_result",
          "data": {
            "text/plain": [
              "HeteroData(\n",
              "  author={\n",
              "    y=[246678],\n",
              "    y_index=[246678],\n",
              "    num_nodes=1693531,\n",
              "  },\n",
              "  venue={\n",
              "    y=[134],\n",
              "    y_index=[134],\n",
              "    num_nodes=3883,\n",
              "  },\n",
              "  paper={ num_nodes=3194405 },\n",
              "  (paper, written_by, author)={ edge_index=[2, 9323605] },\n",
              "  (author, writes, paper)={ edge_index=[2, 9323605] },\n",
              "  (paper, published_in, venue)={ edge_index=[2, 3194405] },\n",
              "  (venue, publishes, paper)={ edge_index=[2, 3194405] }\n",
              ")"
            ]
          },
          "metadata": {},
          "execution_count": 49
        }
      ]
    },
    {
      "cell_type": "code",
      "source": [
        "graph['paper']"
      ],
      "metadata": {
        "colab": {
          "base_uri": "https://localhost:8080/"
        },
        "id": "2uHIXJgwhWuI",
        "outputId": "a5195309-25eb-458b-b438-a6476a3e89b7"
      },
      "execution_count": 54,
      "outputs": [
        {
          "output_type": "execute_result",
          "data": {
            "text/plain": [
              "{'num_nodes': 3194405}"
            ]
          },
          "metadata": {},
          "execution_count": 54
        }
      ]
    },
    {
      "cell_type": "code",
      "source": [
        "graph.edge_items()"
      ],
      "metadata": {
        "colab": {
          "base_uri": "https://localhost:8080/"
        },
        "id": "AsOABRYgWQ8h",
        "outputId": "1c0d7af8-e34d-4642-f379-3e09691b2020"
      },
      "execution_count": 64,
      "outputs": [
        {
          "output_type": "execute_result",
          "data": {
            "text/plain": [
              "[(('paper', 'written_by', 'author'),\n",
              "  {'edge_index': tensor([[      0,       1,       2,  ..., 3194404, 3194404, 3194404],\n",
              "          [      0,       1,       2,  ...,    4393,   21681,  317436]])}),\n",
              " (('author', 'writes', 'paper'),\n",
              "  {'edge_index': tensor([[      0,       1,       2,  ...,    4393,   21681,  317436],\n",
              "          [      0,       1,       2,  ..., 3194404, 3194404, 3194404]])}),\n",
              " (('paper', 'published_in', 'venue'),\n",
              "  {'edge_index': tensor([[      0,       1,       2,  ..., 3194402, 3194403, 3194404],\n",
              "          [   2190,    2190,    2190,  ...,    3148,    3148,    3148]])}),\n",
              " (('venue', 'publishes', 'paper'),\n",
              "  {'edge_index': tensor([[   2190,    2190,    2190,  ...,    3148,    3148,    3148],\n",
              "          [      0,       1,       2,  ..., 3194402, 3194403, 3194404]])})]"
            ]
          },
          "metadata": {},
          "execution_count": 64
        }
      ]
    },
    {
      "cell_type": "code",
      "source": [
        "graph.node_items()\n",
        "node_counts = {key: value['num_nodes'] for key, value in graph.node_items()}\n",
        "print(node_counts)\n",
        "sum(node_counts.values())"
      ],
      "metadata": {
        "colab": {
          "base_uri": "https://localhost:8080/"
        },
        "id": "72YakiYaYE7I",
        "outputId": "c4fdab53-f6d3-4226-d321-1e4ce280fe9d"
      },
      "execution_count": 69,
      "outputs": [
        {
          "output_type": "stream",
          "name": "stdout",
          "text": [
            "{'author': 1693531, 'venue': 3883, 'paper': 3194405}\n"
          ]
        },
        {
          "output_type": "execute_result",
          "data": {
            "text/plain": [
              "4891819"
            ]
          },
          "metadata": {},
          "execution_count": 69
        }
      ]
    },
    {
      "cell_type": "code",
      "source": [
        "graph[\"venue\"]"
      ],
      "metadata": {
        "colab": {
          "base_uri": "https://localhost:8080/"
        },
        "id": "R5ivb6U7WkEY",
        "outputId": "dea46cd4-7fb2-403c-f674-7999824f766b"
      },
      "execution_count": 29,
      "outputs": [
        {
          "output_type": "execute_result",
          "data": {
            "text/plain": [
              "{'y': tensor([0, 0, 0, 0, 0, 0, 0, 0, 0, 0, 0, 0, 0, 0, 0, 0, 0, 0, 0, 1, 1, 1, 1, 1,\n",
              "        1, 1, 1, 1, 1, 1, 1, 1, 1, 1, 1, 1, 1, 1, 2, 2, 2, 2, 2, 2, 2, 2, 2, 2,\n",
              "        2, 2, 2, 2, 2, 2, 2, 2, 3, 3, 3, 3, 3, 3, 3, 3, 3, 3, 3, 3, 3, 3, 3, 3,\n",
              "        3, 3, 4, 4, 4, 4, 4, 4, 4, 4, 4, 4, 4, 4, 4, 4, 4, 4, 4, 5, 5, 5, 5, 5,\n",
              "        5, 5, 5, 5, 5, 5, 5, 5, 5, 5, 6, 6, 6, 6, 6, 6, 6, 6, 6, 6, 6, 6, 6, 7,\n",
              "        7, 7, 7, 7, 7, 7, 7, 7, 7, 7, 7, 7, 7, 7]), 'y_index': tensor([1741, 2245,  111,  837, 2588, 2116, 2696, 3648, 3784,  313, 3414,  598,\n",
              "        2995, 2716, 1423,  783, 1902, 3132, 1753, 2748, 2660, 3182,  775, 3339,\n",
              "        1601, 3589,  156, 1145,  692, 3048,  925, 1587,  820, 1374, 3719,  819,\n",
              "         492, 3830, 2777, 3001, 3693,  517, 1808, 2353, 3499, 1763, 2372, 1030,\n",
              "         721, 2680, 3355, 1217, 3400, 1271, 1970, 1127,  407,  353, 1471, 1095,\n",
              "         477, 3701,   65, 1009, 1899, 1442, 2073, 3143, 2466,  289, 1996, 1070,\n",
              "        3871, 3695,  281, 3633,   50, 2642, 1925, 1285, 2587, 3814, 3582, 1873,\n",
              "        1339, 3450,  271, 2966,  453, 2638, 1354, 3211,  391, 1588, 3875, 2216,\n",
              "        2146, 3765, 2486,  661, 3367,  426,  750, 2158,  519,  230, 1677,  839,\n",
              "        2945, 1313, 1037, 2879, 2225, 3523, 1247,  448,  227, 3385,  529, 2849,\n",
              "        1584, 1229,  373, 2235, 1819, 1764, 3155, 2852, 2789, 3474, 1571, 2088,\n",
              "         208,  462]), 'num_nodes': 3883}"
            ]
          },
          "metadata": {},
          "execution_count": 29
        }
      ]
    },
    {
      "cell_type": "code",
      "source": [
        "graph.node_types"
      ],
      "metadata": {
        "colab": {
          "base_uri": "https://localhost:8080/"
        },
        "id": "CRmRWWufYJV5",
        "outputId": "342e7f98-df72-4e03-cc77-7c0d787d9aac"
      },
      "execution_count": 35,
      "outputs": [
        {
          "output_type": "execute_result",
          "data": {
            "text/plain": [
              "['author', 'venue', 'paper']"
            ]
          },
          "metadata": {},
          "execution_count": 35
        }
      ]
    },
    {
      "cell_type": "code",
      "source": [
        "metapaths = [\n",
        "    ['author', 'paper', 'author'],\n",
        "    ['author', 'paper','venue','paper','author']\n",
        "]\n"
      ],
      "metadata": {
        "id": "t2ueZInpUo9o"
      },
      "execution_count": 21,
      "outputs": []
    },
    {
      "cell_type": "code",
      "source": [
        "nodes =graph.node_items()\n",
        "print(nodes[2])"
      ],
      "metadata": {
        "colab": {
          "base_uri": "https://localhost:8080/"
        },
        "id": "afYn0iiuYqSu",
        "outputId": "85e86221-540d-43e5-e48c-a4a09bca65f2"
      },
      "execution_count": 40,
      "outputs": [
        {
          "output_type": "stream",
          "name": "stdout",
          "text": [
            "('paper', {'num_nodes': 3194405})\n"
          ]
        }
      ]
    },
    {
      "cell_type": "code",
      "source": [
        "print()"
      ],
      "metadata": {
        "id": "jdXLNuYSY_eK"
      },
      "execution_count": null,
      "outputs": []
    },
    {
      "cell_type": "code",
      "source": [
        "import numpy as np\n",
        "import torch.nn as nn\n",
        "import torch.optim as optim\n",
        "import random\n",
        "import gensim\n",
        "import torch.nn.functional as F\n",
        "\n",
        "class metapath2vecpp(nn.Module):\n",
        "    def __init__(self, graph = graph, walk_per_node = 1000, lr = 1e-3, k = 5, M = 10, walk_length = 20, num_negative_samples = 5, embedding_dim = 128, metapath = metapaths[0]): # APA\n",
        "      super().__init__()\n",
        "      self.walk_per_node = walk_per_node\n" ,
        "      self.walk_length = walk_length\n",
        "      self.num_negative_samples = num_negative_samples\n",
        "      self.embedding_dim = embedding_dim\n",
        "      self.metapath = metapath\n",
        "      self.k = k # window\n",
        "      self.M = M # negative sample size\n",
        "\n",
        "      self.lr = lr\n",
        "      self.optimizer = optim.SGD(self.parameters(), lr=self.lr)\n",
        "\n",
        "      node_counts = {key: value['num_nodes'] for key, value in graph.node_items()}\n",
        "      self.num_node = sum(node_counts.values())\n",
        "\n",
        "      # 학습의 대상\n",
        "      self.X = nn.Embedding(self.num_node, self.embedding_dim)\n",
        "\n",
        "      self.author_paper = {}\n",
        "      self.paper_author = {}\n",
        "      self.venue_paper = {}\n",
        "      self.paper_venue = {}\n",
        "\n",
        "      edges = graph.edge_items()\n",
        "      paper_authors= edges[0][1]['edge_index'] # (2, 9323605) holy shittt\n",
        "      venue_paper = edges[2][1]['edge_index']\n",
        "      i = 0\n",
        "      for paper in paper_authors[0]:\n",
        "        author = paper_authors[1][i]\n",
        "        i += 1\n",
        "        if paper in self.paper_author:\n",
        "          self.paper_author[paper].append(author)\n",
        "        else:\n",
        "          self.paper_author[paper] = list(author)\n",
        "        if author in self.author_paper:\n",
        "          self.author_paper[author].append(paper)\n",
        "        else:\n",
        "           self.author_paper[author]= list(paper)\n",
        "      i = 0\n",
        "      for venue in venue_paper[0]:\n",
        "        paper = venue_paper[1][i]\n",
        "        i += 1\n",
        "        if paper in self.paper_venue:\n",
        "          self.paper_venue[paper].append(venue)\n",
        "        else:\n",
        "          self.paper_venue[paper] = list(venue)\n",
        "        if venue in self.venue_paper:\n",
        "          self.venue_paper[venue].append(paper)\n",
        "        else:\n",
        "           self.venue_paper[venue]= list(paper)\n",
        "\n",
        "       # AP / VP dictionary 완성\n",
        "\n",
        "    def metapathRandomWalk(self, start_node, metapath): # APA인 경우\n",
        "      ## start_node가 venue면 return\n",
        "      if start_node in self.venue_paper:\n",
        "        return\n",
        "      walks = [start_node]\n",
        "      # start가 A\n",
        "      if start_node in self.author_paper:\n",
        "        shift = 1\n",
        "      else:\n",
        "        shift = 0  # P\n",
        "      curr_node = start_node\n",
        "\n",
        "      # start node가 A면 P로 시작 P면 A로 시작\n",
        "      for walk in range(self.walk_length - 1):\n",
        "        node_type = self.metapath[(walk + shift) % len(self.metapath) ] # 0 번째는 A 3 번째도 A ...\n",
        "        if node_type == \"'author\":\n",
        "          authors = self.paper_author[curr_node]\n",
        "          # 갈데 없으면 return\n",
        "          if len(authors) == 0:\n",
        "            return walks\n",
        "          random_author = random.choice(authors)\n",
        "          walks.append(random_author)\n",
        "          curr_node = random_author\n",
        "      return walks\n",
        "\n",
        "\n",
        "    def heterogeneousSkipGram(self, k, MP):\n",
        "      # deepwalk에서는 이래도 되는데 여기서는 negative sampling을 추가해줘야 함!\n",
        "      # w2v = gensim.models.word2vec.Word2Vec(MP, size=self.embedding, window= k, workers=3)\n",
        "      total_loss = 0\n",
        "\n",
        "      for i in range(self.walk_length):\n",
        "        v = MP[i]\n",
        "        Xv = self.X(v)\n",
        "        j = (i - k) if (i - k) > 0 else 0\n",
        "        # k 개 skip gram\n",
        "        for jj in range(j):\n",
        "          ct = MP[jj]\n",
        "\n",
        "          Xct = self.X(ct)\n",
        "          # postivie 값은 maximize가 목표\n",
        "          total_loss -= F.logsigmoid(torch.mul(Xv, Xct))\n",
        "        # negative sampling을 같은 type안에서만 M개\n",
        "        if v in self.author_paper:\n",
        "          # type이 author\n",
        "          random_list = list(self.author_paper.keys())\n",
        "          for m in range(self.M):\n",
        "            random_choice = random.choice(random_list)\n",
        "            if v == random_choice:\n",
        "              random_choice = random.choice(random_list)\n",
        "            total_loss += F.logsigmoid(torch.mul(Xv, self.X(random_choice)))\n",
        "        else:\n",
        "          # type이 paper\n",
        "          random_list = list(self.paper_author.keys())\n",
        "          for m in range(self.M):\n",
        "            random_choice = random.choice(random_list)\n",
        "            if v == random_choice:\n",
        "              random_choice = random.choice(random_list)\n",
        "            total_loss += F.logsigmoid(torch.mul(Xv, self.X(random_choice)))\n",
        "\n",
        "      return total_loss\n",
        "\n",
        "    def fit(self):\n",
        "      train_loss = []\n",
        "\n",
        "      for epoch in range(self.epochs):\n",
        "        total_loss = 0\n",
        "        for walk in range(self.walk_per_node):\n",
        "          for node in range(self.num_node):\n",
        "            mp = self.metapathRandomWalk(node, self.metapath)\n",
        "            loss = self.heterogeneousSkipGram(self.k, mp)\n",
        "\n",
        "            self.optimizer.zero_grad()\n",
        "            loss.backward()\n",
        "            self.optimizer.step()\n",
        "            total_loss += loss.item()\n",
        "\n",
        "        train_loss.append(total_loss)\n",
        "      return train_loss\n",
        "\n"
      ],
      "metadata": {
        "id": "Ju0k_gHTDdoW"
      },
      "execution_count": null,
      "outputs": []
    },
    {
      "cell_type": "code",
      "source": [
        "model = metapath2vecpp(g)"
      ],
      "metadata": {
        "id": "J9GLkuq3qhae"
      },
      "execution_count": null,
      "outputs": []
    },
    {
      "cell_type": "code",
      "source": [
        "g = dgl.heterograph({\n",
        "    ('author', 'ap', 'paper'): ([0, 0, 1, 1, 2], [0, 1, 1, 2, 2]),\n",
        "    ('paper', 'pa', 'author'): ([0, 1, 1, 2, 2], [0, 0, 1, 1, 2]),\n",
        "    ('paper', 'pv', 'venue'): ([0, 1, 2], [0, 0, 1]),\n",
        "    ('venue', 'vp', 'paper'): ([0, 0, 1], [0, 1, 2])\n",
        "})"
      ],
      "metadata": {
        "id": "fY6QceGrBZPL"
      },
      "execution_count": 6,
      "outputs": []
    },
    {
      "cell_type": "markdown",
      "source": [
        "## 의문인점\n",
        "\n",
        "https://ericdongyx.github.io/metapath2vec/m2v.html\n",
        "\n",
        "저자의 코드는 왜 AVA로 metapath를 설정했을까,,,\n",
        "\n",
        "논문에서는 APA / APVPA가 제일 효과적이라고 했는뎅,,,,,,,,,,,\n",
        "\n",
        "\n",
        "\n",
        "self.X = nn.Embedding(self.num_node, self.embedding_dim)\n",
        "이거 num_node 에다가 +1해서 missing link??? 한다는 말도 있음,, 아돈노"
      ],
      "metadata": {
        "id": "g-cVR6X7pSB3"
      }
    },
    {
      "cell_type": "code",
      "source": [],
      "metadata": {
        "id": "fFeY9GP7D84g"
      },
      "execution_count": null,
      "outputs": []
    }
  ]
}
