{
  "nbformat": 4,
  "nbformat_minor": 0,
  "metadata": {
    "colab": {
      "provenance": []
    },
    "kernelspec": {
      "name": "python3",
      "display_name": "Python 3"
    },
    "language_info": {
      "name": "python"
    }
  },
  "cells": [
    {
      "cell_type": "code",
      "source": [
        "pip install dgl"
      ],
      "metadata": {
        "colab": {
          "base_uri": "https://localhost:8080/"
        },
        "id": "SaaWWgjqDGht",
        "outputId": "07d5807e-201a-4248-b766-be5b7ff799ed"
      },
      "execution_count": 4,
      "outputs": [
        {
          "output_type": "stream",
          "name": "stdout",
          "text": [
            "Collecting dgl\n",
            "  Downloading dgl-1.1.3-cp310-cp310-manylinux1_x86_64.whl (6.5 MB)\n",
            "\u001b[2K     \u001b[90m━━━━━━━━━━━━━━━━━━━━━━━━━━━━━━━━━━━━━━━━\u001b[0m \u001b[32m6.5/6.5 MB\u001b[0m \u001b[31m13.6 MB/s\u001b[0m eta \u001b[36m0:00:00\u001b[0m\n",
            "\u001b[?25hRequirement already satisfied: numpy>=1.14.0 in /usr/local/lib/python3.10/dist-packages (from dgl) (1.23.5)\n",
            "Requirement already satisfied: scipy>=1.1.0 in /usr/local/lib/python3.10/dist-packages (from dgl) (1.11.4)\n",
            "Requirement already satisfied: networkx>=2.1 in /usr/local/lib/python3.10/dist-packages (from dgl) (3.2.1)\n",
            "Requirement already satisfied: requests>=2.19.0 in /usr/local/lib/python3.10/dist-packages (from dgl) (2.31.0)\n",
            "Requirement already satisfied: tqdm in /usr/local/lib/python3.10/dist-packages (from dgl) (4.66.1)\n",
            "Requirement already satisfied: psutil>=5.8.0 in /usr/local/lib/python3.10/dist-packages (from dgl) (5.9.5)\n",
            "Requirement already satisfied: charset-normalizer<4,>=2 in /usr/local/lib/python3.10/dist-packages (from requests>=2.19.0->dgl) (3.3.2)\n",
            "Requirement already satisfied: idna<4,>=2.5 in /usr/local/lib/python3.10/dist-packages (from requests>=2.19.0->dgl) (3.6)\n",
            "Requirement already satisfied: urllib3<3,>=1.21.1 in /usr/local/lib/python3.10/dist-packages (from requests>=2.19.0->dgl) (2.0.7)\n",
            "Requirement already satisfied: certifi>=2017.4.17 in /usr/local/lib/python3.10/dist-packages (from requests>=2.19.0->dgl) (2023.11.17)\n",
            "Installing collected packages: dgl\n",
            "Successfully installed dgl-1.1.3\n"
          ]
        }
      ]
    },
    {
      "cell_type": "code",
      "execution_count": 5,
      "metadata": {
        "colab": {
          "base_uri": "https://localhost:8080/"
        },
        "id": "ohgGCjFABCek",
        "outputId": "1c47774e-3dac-46b7-c9a5-4b2240a75c95"
      },
      "outputs": [
        {
          "output_type": "stream",
          "name": "stderr",
          "text": [
            "DGL backend not selected or invalid.  Assuming PyTorch for now.\n"
          ]
        },
        {
          "output_type": "stream",
          "name": "stdout",
          "text": [
            "Setting the default backend to \"pytorch\". You can change it in the ~/.dgl/config.json file or export the DGLBACKEND environment variable.  Valid options are: pytorch, mxnet, tensorflow (all lowercase)\n"
          ]
        }
      ],
      "source": [
        "from dgl.data import FB15k237Dataset"
      ]
    },
    {
      "cell_type": "code",
      "source": [
        "dataset = FB15k237Dataset()"
      ],
      "metadata": {
        "colab": {
          "base_uri": "https://localhost:8080/"
        },
        "id": "nAhkAQI8IL5S",
        "outputId": "33e977ea-2f43-4717-9f59-2d19b0c1e6ce"
      },
      "execution_count": 6,
      "outputs": [
        {
          "output_type": "stream",
          "name": "stdout",
          "text": [
            "Downloading /root/.dgl/FB15k-237.tgz from https://data.dgl.ai/dataset/FB15k-237.tgz...\n",
            "Extracting file to /root/.dgl/FB15k-237_40695531\n",
            "# entities: 14541\n",
            "# relations: 237\n",
            "# training edges: 272115\n",
            "# validation edges: 17535\n",
            "# testing edges: 20466\n",
            "Done saving data into cached files.\n"
          ]
        }
      ]
    },
    {
      "cell_type": "code",
      "source": [
        "dataset = FB15k237Dataset()\n",
        "data = dataset[0]\n",
        "\n",
        "import torch\n",
        "import torch.nn as nn\n",
        "from torch.utils.data import Dataset, DataLoader\n",
        "\n",
        "class CustomDataset(Dataset):\n",
        "    def __init__(self, data):\n",
        "      self.head, self.tail = data.edges()\n",
        "      self.labels = data.edata['etype']\n",
        "\n",
        "\n",
        "    def __len__(self):\n",
        "        return len(self.head)\n",
        "\n",
        "    def __getitem__(self, idx):\n",
        "      head = torch.tensor(self.head[idx])\n",
        "      tail = torch.tensor(self.tail[idx])\n",
        "      label = torch.tensor(self.labels[idx])\n",
        "\n",
        "      return head, label, tail\n",
        "\n",
        "dataset = CustomDataset(data)\n",
        "\n",
        "dataloader = DataLoader(\n",
        "      dataset,\n",
        "    batch_size = 64,\n",
        "    shuffle = True,\n",
        ")"
      ],
      "metadata": {
        "id": "z7DhQNgnLehS"
      },
      "execution_count": 18,
      "outputs": []
    },
    {
      "cell_type": "code",
      "source": [],
      "metadata": {
        "id": "H3JL_BhyIMI3"
      },
      "execution_count": 9,
      "outputs": []
    },
    {
      "cell_type": "code",
      "source": [
        "# data에서 head, tail, label 추출\n",
        "head, tail = data.edges()\n",
        "label = data.edata['etype']\n"
      ],
      "metadata": {
        "id": "Dfrn1GX_IPCr"
      },
      "execution_count": 14,
      "outputs": []
    },
    {
      "cell_type": "code",
      "source": [
        "import numpy as np\n",
        "import torch.nn.init as init\n",
        "import math\n",
        "import torch.nn.functional as F\n",
        "\n",
        "class TransE(nn.Module):\n",
        "    def __init__(self, k = 50, gamma = 1, graphs = data, epochs = 1000):\n",
        "        super(TransE, self).__init__()\n",
        "\n",
        "        self.head, self.tail = data.edges()\n",
        "        self.labels = data.edata['etype']\n",
        "        self.k = k\n",
        "        self.epochs = epochs\n",
        "        self.num_entity = len(data['entities'])\n",
        "        self.num_label = len(self.labels)\n",
        "\n",
        "        bound = 6 / math.sqrt(self.k)\n",
        "\n",
        "        # entity: 시작은 그냥하고 update 할 때마다 (loop 돌 때마다 normalize 해주면 됨)\n",
        "        self.entity = nn.Parameter(init.uniform_(torch.empty(self.num_entity, self.k), -bound, bound), requires_grad=True)\n",
        "        self.label = nn.Parameter(init.uniform_(torch.empty(self.num_label, self.k), -bound, bound), requires_grad=True)\n",
        "        self.label.data = F.normalize(self.embed_label.data, p=2, dim=1)\n",
        "\n",
        "        self.gamma = gamma\n",
        "\n",
        "    def dissimiarity(self, h, l, t):\n",
        "      # h, t: (k,) / l : (k, )\n",
        "      d = torch.sum(torch.pow(h, 2)) + torch.sum(torch.pow(l, 2)) + torch.sum(torch.pow(t, 2)) - 2 * (torch.matmul(h, t) + torch.matmul(l, t - h))\n",
        "      return d\n",
        "\n",
        "    def forward(self, batch):\n",
        "        head, label, tail = batch['head'], batch['label'], batch['tail']\n",
        "\n",
        "\n",
        "\n",
        "    def fit(self):\n",
        "      train_loss = []\n",
        "\n",
        "      for epoch in range(self.epochs):\n"
      ],
      "metadata": {
        "id": "gcvm8dHyI_7s"
      },
      "execution_count": null,
      "outputs": []
    }
  ]
}