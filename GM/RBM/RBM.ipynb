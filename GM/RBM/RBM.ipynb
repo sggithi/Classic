{
  "cells": [
    {
      "cell_type": "code",
      "execution_count": 6,
      "metadata": {
        "colab": {
          "base_uri": "https://localhost:8080/"
        },
        "execution": {
          "iopub.execute_input": "2023-12-01T17:20:05.544483Z",
          "iopub.status.busy": "2023-12-01T17:20:05.544279Z",
          "iopub.status.idle": "2023-12-01T17:20:05.547673Z",
          "shell.execute_reply": "2023-12-01T17:20:05.547122Z"
        },
        "id": "d9ELU3Pv_0Pj",
        "outputId": "b87cb699-f2f6-4343-8547-c7683530e228"
      },
      "outputs": [
        {
          "output_type": "stream",
          "name": "stdout",
          "text": [
            "Mounted at /content/drive\n",
            "your google drive is mounted at:  /content/drive\n",
            "Path exists\n",
            "\t /content/drive/MyDrive/DSAIL\n",
            "Path added (file under this path automatically identified)\n",
            "\t /content/drive/MyDrive/DSAIL\n"
          ]
        }
      ],
      "source": [
        "path = \"MyDrive/DSAIL\"\n",
        "def mount_drive():\n",
        "  from google.colab import drive\n",
        "  mount_location = '/content/drive'\n",
        "  drive.mount(mount_location,force_remount=True)\n",
        "  return mount_location\n",
        "import os, sys\n",
        "mount_location = mount_drive()\n",
        "print(\"your google drive is mounted at: \", mount_location)\n",
        "path = os.path.join(mount_location,path) # \"/content/drive/MyDrive/\"\n",
        "if os.path.exists(path):\n",
        "  print(\"Path exists\\n\\t\", path)\n",
        "  sys.path.append(path)\n",
        "  print(\"Path added (file under this path automatically identified)\\n\\t\", path)\n",
        "  os.chdir(path)\n",
        "else :\n",
        "  raise ValueError(\"Path does not exist. Set proper path \\n\", path)"
      ]
    },
    {
      "cell_type": "code",
      "execution_count": 109,
      "metadata": {
        "execution": {
          "iopub.execute_input": "2023-12-01T17:20:05.558086Z",
          "iopub.status.busy": "2023-12-01T17:20:05.557855Z",
          "iopub.status.idle": "2023-12-01T17:20:06.322438Z",
          "shell.execute_reply": "2023-12-01T17:20:06.321900Z"
        },
        "id": "pOLo0XEtxydQ"
      },
      "outputs": [],
      "source": [
        "import torch\n",
        "from torch import nn\n",
        "import torch.optim as optim\n",
        "import numpy as np\n",
        "from torch.utils.data import DataLoader, TensorDataset\n",
        "import matplotlib.pyplot as plt\n",
        "from math import sqrt\n",
        "import torchvision\n",
        "from types import SimpleNamespace\n",
        "from torchvision import transforms\n",
        "\n",
        "config = SimpleNamespace(\n",
        "    seed = 1,\n",
        "    batch_size = 256,\n",
        "    test_batch_size = 16,\n",
        "    lr = 2e-4,\n",
        "    epoch = 10,\n",
        "    input_dim = 28 * 28,\n",
        "    hidden_dim = 500,\n",
        "\n",
        ")\n",
        "# Check device is 'cuda' if GPU is available\n",
        "device = 'cpu' if not torch.cuda.is_available() else 'cuda'\n",
        "device\n",
        "\n",
        "class dataloader(torch.utils.data.Dataset):\n",
        "  def __init__(self,train=True, batch_size = 64):\n",
        "    super(dataloader, self).__init__()\n",
        "    self.batch_size = batch_size\n",
        "    self.transform = transforms.Compose([ transforms.ToTensor()])\n",
        "    self.dataset = torchvision.datasets.MNIST (root='./data',  transform=self.transform,  train=train, download=True)\n",
        "    self.dataloader = torch.utils.data.DataLoader(self.dataset, batch_size=self.batch_size, shuffle=train, drop_last=True)\n",
        "  def __len__(self):\n",
        "    return len(self.dataloader)\n",
        "  def __iter__(self):\n",
        "    return iter(self.dataloader)\n",
        "  def __getitem__(self, idx):\n",
        "    return self.dataloader[idx]\n",
        "\n",
        "train_loader = dataloader(train=True, batch_size=config.batch_size)\n",
        "test_loader = dataloader(train=False, batch_size=config.batch_size)"
      ]
    },
    {
      "cell_type": "code",
      "execution_count": null,
      "metadata": {
        "execution": {
          "iopub.execute_input": "2023-12-01T17:20:06.324912Z",
          "iopub.status.busy": "2023-12-01T17:20:06.324645Z",
          "iopub.status.idle": "2023-12-01T17:20:06.333767Z",
          "shell.execute_reply": "2023-12-01T17:20:06.333328Z"
        },
        "id": "NA9OlQk_xydR"
      },
      "outputs": [],
      "source": []
    },
    {
      "cell_type": "code",
      "execution_count": null,
      "metadata": {
        "execution": {
          "iopub.execute_input": "2023-12-01T17:20:06.336091Z",
          "iopub.status.busy": "2023-12-01T17:20:06.335776Z",
          "iopub.status.idle": "2023-12-01T17:20:06.395114Z",
          "shell.execute_reply": "2023-12-01T17:20:06.394640Z"
        },
        "id": "bFA_tM8gRLDE"
      },
      "outputs": [],
      "source": [
        "import numpy as np\n",
        "import matplotlib.pyplot as plt\n",
        "\n",
        "def show_image(tensor_data, num_images=10):\n",
        "    numpy_images = tensor_data[:num_images].detach().numpy()\n",
        "\n",
        "    fig, axes = plt.subplots(1, num_images, figsize=(20, 2))\n",
        "    for i in range(num_images):\n",
        "        axes[i].imshow(numpy_images[i].squeeze(), cmap='gray')\n",
        "        axes[i].axis('off')\n",
        "    plt.show()\n"
      ]
    },
    {
      "cell_type": "code",
      "source": [
        "class RBM(nn.Module):\n",
        "  def __init__(self, config, train_loader = train_loader, test_loader = test_loader):\n",
        "    super(RBM, self).__init__()\n",
        "    '''\n",
        "    RBM\n",
        "    VAE처럼 visible -> hidden -> visible 이렇게 한 번만 거침\n",
        "\n",
        "    '''\n",
        "    self.input_dim = config.input_dim\n",
        "    self.hidden_dim = config.hidden_dim\n",
        "    self.epochs = config.epoch\n",
        "\n",
        "    # Parameters\n",
        "    self.b = nn.Parameter(torch.randn(self.input_dim)) # bias for visible layer\n",
        "    self.c = nn.Parameter(torch.randn(self.hidden_dim)) # bias for hidden layer\n",
        "    self.W = nn.Parameter(torch.randn(self.hidden_dim, self.input_dim)*1e-2)\n",
        "\n",
        "    self.optimizer = optim.Adam(self.parameters(), lr = config.lr)\n",
        "\n",
        "    self.train_loader = train_loader\n",
        "    self.test_loader = test_loader\n",
        "\n",
        "  def sampling(self, p):\n",
        "    recommended_p = torch.rand(p.size())\n",
        "    rejected_sampling = torch.where(p - recommended_p > 0, torch.tensor(1.0), torch.tensor(0.0))\n",
        "\n",
        "    return rejected_sampling\n",
        "\n",
        "  def v_to_h(self, v):\n",
        "    # visible -> hidden\n",
        "    # print(\"v\", v.shape)\n",
        "    hidden_layers = torch.sigmoid(torch.matmul(v, self.W.t()) + self.c) # (batch_size, hidden_dim)\n",
        "    # sampling hidden\n",
        "    sampled_h = self.sampling(hidden_layers)\n",
        "    return sampled_h\n",
        "\n",
        "  def h_to_v(self, h):\n",
        "    # hidden -> visible\n",
        "    visible = torch.sigmoid(torch.matmul(h, self.W) + self.b)\n",
        "    sampled_v = self.sampling(visible)\n",
        "    return sampled_v\n",
        "\n",
        "  def forward(self, v):\n",
        "    # 첫 번째 시작은 data point에서\n",
        "    h = self.v_to_h(v)\n",
        "    v_reconstructed = self.h_to_v(h)\n",
        "\n",
        "    return h, v_reconstructed\n",
        "\n",
        "  def free_energy(self, v):\n",
        "    # -bv- sigma(log(1 + exp(c + wv)))\n",
        "    # bv = torch.dot(v, self.b)\n",
        "    bv = torch.matmul(v, self.b)\n",
        "    log_term = torch.log(torch.exp(torch.matmul(v, self.W.t()) + self.c) + 1).sum(dim = 1)\n",
        "\n",
        "    free_energy = (-bv - log_term).mean()\n",
        "    # print(\"free_energy\", free_energy)\n",
        "    return free_energy\n",
        "\n",
        "  def fit(self):\n",
        "    train_loss = []\n",
        "    for epoch in range(self.epochs):\n",
        "      batch_loss = 0\n",
        "      for data, labels in train_loader:\n",
        "        data = (data.view(-1,784))\n",
        "        self.optimizer.zero_grad()\n",
        "        h, v_reconstructed = self.forward(data)\n",
        "        loss = self.free_energy(data) - self.free_energy(v_reconstructed)\n",
        "        batch_loss += (loss.item())\n",
        "        loss.backward()\n",
        "        self.optimizer.step()\n",
        "        train_loss.append(loss.item())\n",
        "      print(f\"Train loss{ batch_loss / len(train_loader)}\")\n",
        "    return train_loss, v_reconstructed, data"
      ],
      "metadata": {
        "id": "z-cmULfxsZSE"
      },
      "execution_count": 110,
      "outputs": []
    },
    {
      "cell_type": "code",
      "source": [
        "model = RBM(config)\n",
        "train_loss, v_reconstructed, data  = model.fit()\n",
        "\n",
        "data = data.view(-1, 1, 28, 28)\n",
        "show_image(data)\n",
        "v_reconstructed = v_reconstructed.view(-1, 1, 28, 28)\n",
        "show_image(v_reconstructed)"
      ],
      "metadata": {
        "colab": {
          "base_uri": "https://localhost:8080/",
          "height": 500
        },
        "id": "xIWajBho9WZn",
        "outputId": "fbc28934-4b50-4f68-8988-b612312cc774"
      },
      "execution_count": 111,
      "outputs": [
        {
          "output_type": "stream",
          "name": "stdout",
          "text": [
            "Train loss-2.394446283324152\n",
            "Train loss-4.7656749497112045\n",
            "Train loss-1.6974955501719418\n",
            "Train loss-0.34909683618790066\n",
            "Train loss0.39403396997696316\n",
            "Train loss0.8232922676282052\n",
            "Train loss1.2271476810813968\n",
            "Train loss1.4357271112947383\n",
            "Train loss1.6249435294387686\n",
            "Train loss1.8009493575136886\n"
          ]
        },
        {
          "output_type": "display_data",
          "data": {
            "text/plain": [
              "<Figure size 2000x200 with 10 Axes>"
            ],
            "image/png": "[encoded data removed]"
          },
          "metadata": {}
        },
        {
          "output_type": "display_data",
          "data": {
            "text/plain": [
              "<Figure size 2000x200 with 10 Axes>"
            ],
            "image/png": "[encoded data removed]"
          },
          "metadata": {}
        }
      ]
    },
    {
      "cell_type": "code",
      "source": [],
      "metadata": {
        "id": "g9k0zKCS2ir-"
      },
      "execution_count": null,
      "outputs": []
    },
    {
      "cell_type": "markdown",
      "source": [
        "# VAE vs RBM\n",
        " 둘 다 parameter를 학습시켜서 결과론적으로 확률 분포를 모델링하는 것 같은데\n",
        " RBM이 rejected sampling처럼 hidden -> visible로 갈 때 정말 확률로 sampling 하는 느낌을 준다,,\n",
        "\n",
        " 그럼에도 둘의 차이는...  뭐지???"
      ],
      "metadata": {
        "id": "gsBaTSMLAj0p"
      }
    }
  ],
  "metadata": {
    "accelerator": "GPU",
    "colab": {
      "gpuType": "T4",
      "provenance": []
    },
    "kernelspec": {
      "display_name": "Python 3",
      "name": "python3"
    },
    "language_info": {
      "codemirror_mode": {
        "name": "ipython",
        "version": 3
      },
      "file_extension": ".py",
      "mimetype": "text/x-python",
      "name": "python",
      "nbconvert_exporter": "python",
      "pygments_lexer": "ipython3",
      "version": "3.10.9"
    }
  },
  "nbformat": 4,
  "nbformat_minor": 0
}