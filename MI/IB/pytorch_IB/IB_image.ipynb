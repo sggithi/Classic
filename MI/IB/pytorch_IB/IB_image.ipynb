{
 "cells": [
  {
   "cell_type": "markdown",
   "metadata": {},
   "source": [
    "## Information Bottleneck in MNIST\n",
    "이전에 짰던 코드는 단순히 10bit -> 1bit으로 Distortion할 때의 문제인데\n",
    "이제 이미지 데이터에 대해서 한 번 해보고자 함 !\n",
    "\n",
    "### Reference\n",
    "https://github.com/shalomma/PytorchBottleneck"
   ]
  },
  {
   "cell_type": "markdown",
   "metadata": {},
   "source": [
    "## Dataset (MNIST)"
   ]
  },
  {
   "cell_type": "code",
   "execution_count": null,
   "metadata": {},
   "outputs": [],
   "source": [
    "from dataset import MNIST\n",
    "import numpy as np\n",
    "import torch\n",
    "from torch.utils.data import DataLoader\n",
    "from random import seed\n",
    "\n",
    "from network import FeedForward\n",
    "from train_mnist import Train, TrainConfig\n",
    "from plotter import Plotter\n",
    "\n"
   ]
  },
  {
   "cell_type": "code",
   "execution_count": null,
   "metadata": {},
   "outputs": [],
   "source": [
    "np.random.seed(1234)\n",
    "seed(1234)\n",
    "torch.manual_seed(1234)\n",
    "\n",
    "data = dict()\n",
    "data['train'] = MNIST('./dataset', train=True, download=True, randomize=False)\n",
    "data['test'] = MNIST('./dataset', train=False)\n",
    "\n",
    "loader = dict()\n",
    "loader['train'] = torch.utils.data.DataLoader(data['train'], batch_size=60000, shuffle=False)\n",
    "loader['test'] = torch.utils.data.DataLoader(data['test'], batch_size=10000, shuffle=False)\n",
    "\n",
    "# setup\n",
    "input_size = 28 * 28\n",
    "output_size = 10\n",
    "hidden_sizes = [784, 1024, 1024, 20, 20, 20, 10]\n",
    "device = torch.device(\"cuda\" if torch.cuda.is_available() else \"cpu\")\n",
    "print(f'to device: {device}')\n",
    "net = FeedForward(input_size, hidden_sizes, output_size).to(device)\n",
    "\n",
    "criterion = torch.nn.CrossEntropyLoss(reduction='sum')\n",
    "optimizer = torch.optim.Adam(net.parameters(), lr=0.001)\n",
    "\n",
    "cfg = TrainConfig(net, criterion, optimizer)\n",
    "train = Train(cfg)\n",
    "train.epochs = 4000\n",
    "train.mi_cycle = 20\n",
    "train.run(loader)\n",
    "train.dump()\n",
    "\n",
    "plot = Plotter(train)\n",
    "plot.plot_losses()\n",
    "plot.plot_accuracy()\n",
    "plot.plot_info_plan('train')\n",
    "plot.plot_info_plan('test')"
   ]
  }
 ],
 "metadata": {
  "kernelspec": {
   "display_name": "news",
   "language": "python",
   "name": "python3"
  },
  "language_info": {
   "codemirror_mode": {
    "name": "ipython",
    "version": 3
   },
   "file_extension": ".py",
   "mimetype": "text/x-python",
   "name": "python",
   "nbconvert_exporter": "python",
   "pygments_lexer": "ipython3",
   "version": "3.8.20"
  }
 },
 "nbformat": 4,
 "nbformat_minor": 2
}
