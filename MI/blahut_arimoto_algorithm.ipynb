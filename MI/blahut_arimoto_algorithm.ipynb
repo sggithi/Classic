{
 "cells": [
  {
   "cell_type": "markdown",
   "metadata": {},
   "source": [
    "# Blahut-Arimoto Algorithm\n",
    " Information Theory에서 채널 용량, 혹은 rate-distortion function을 계산하기 위한 알고리즘이다. Iterative하게 동작하는게 특징.. 인데 사실 제대로 정리된 개념을 어디서 찾아봐야할지 모르겠다..\n",
    "\n",
    "채널 용량(C)는 통신 채널에 대해 최대화된 Mutual Information임 !\n",
    "\n",
    "$C = sup I(X;Y)$\n",
    "\n",
    "$I(X;Y) = sigma p(x) W(y|x) log (W(y|x) / p(y))$\n",
    "p는 X에 대한 확률 분포이고, 채널 W(y|x)로 출력 확률 분포인 p(y)를 계산한다.\n",
    "\n",
    "\n",
    "### Reference\n",
    "https://github.com/kobybibas/blahut_arimoto_algorithm/blob/master/blahut_arimoto_algorithm.ipynb\n",
    "\n",
    "\n",
    "하지만 아직 이해 못한듯 ... 뭐지??? "
   ]
  },
  {
   "cell_type": "code",
   "execution_count": null,
   "metadata": {
    "vscode": {
     "languageId": "plaintext"
    }
   },
   "outputs": [],
   "source": [
    "import numpy as np\n",
    "\n",
    "def ba_algorithm(p_y_x, thresh = 1e-12, max_iter =1e3):\n",
    "'''\n",
    " p_y_x : P(Y|X) m X n size (m = |X|, n = |Y|)\n",
    "'''\n",
    "    m, n = p_y_x.shape\n",
    "\n",
    "    # initialize uniformly r = p(x)\n",
    "    r = np.ones((1, m)) / m\n",
    "\n",
    "    # Iteratively,..\n",
    "    for iter in range(max_iter):\n",
    "       \n",
    "       # p(y|x)p(x) = p(y, x)\n",
    "       q = r.T * p_y_x # (m, 1) X (m, n) = (m, n)\n",
    "       q = q / np.sum(q, axis = 0) # 각 p(x1,y1) + ... + p(xm,y1) = 1이 되도록 ? 왜지 ??\n",
    "       \n",
    "       # P(y, x)^p(y|x)\n",
    "       r1 = np.prod(np.power(q, p_y_x), axis = 1)\n",
    "       r1 = r/ np.sum(r1)\n",
    "       tol = np.linalg.norm(r1 - r)\n",
    "       if tol < thresh:\n",
    "       break\n",
    "\n",
    "    r = r.f;latten()\n",
    "    c = 0\n",
    "    for i in range(m):\n",
    "        if r[i] > 0:\n",
    "            c += np.sum(r[i] * p_y_x[i, :] * np.log(q[i, :] / r[i] + 1e-16)) # p(y|x) 어디 감??\n",
    "\n",
    "    return c, r"
   ]
  }
 ],
 "metadata": {
  "language_info": {
   "name": "python"
  }
 },
 "nbformat": 4,
 "nbformat_minor": 2
}
