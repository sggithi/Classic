{
  "nbformat": 4,
  "nbformat_minor": 0,
  "metadata": {
    "colab": {
      "provenance": [],
      "gpuType": "T4"
    },
    "kernelspec": {
      "name": "python3",
      "display_name": "Python 3"
    },
    "language_info": {
      "name": "python"
    },
    "accelerator": "GPU"
  },
  "cells": [
    {
      "cell_type": "code",
      "source": [
        "#Colab setting\n",
        "from google.colab import drive\n",
        "drive.mount('/content/drive')\n",
        "\n",
        "import sys\n",
        "sys.path.append('/content/drive/My Drive/DSAIL')\n",
        "\n",
        "import os\n",
        "os.chdir('/content/drive/My Drive/DSAIL')"
      ],
      "metadata": {
        "colab": {
          "base_uri": "https://localhost:8080/"
        },
        "id": "kp2VLPKnmids",
        "outputId": "0d0276e8-9851-4562-9f24-a274c6a7ebe7"
      },
      "execution_count": 1,
      "outputs": [
        {
          "output_type": "stream",
          "name": "stdout",
          "text": [
            "Mounted at /content/drive\n"
          ]
        }
      ]
    },
    {
      "cell_type": "code",
      "execution_count": 70,
      "metadata": {
        "id": "VfEsegib1jW4"
      },
      "outputs": [],
      "source": [
        "import numpy as np\n",
        "\n",
        "test = np.load(\"continous_test.npy\")\n",
        "train = np.load(\"continous_train.npy\")\n",
        "\n",
        "from types import SimpleNamespace\n",
        "\n",
        "# The config is used to store various hyperparameters\n",
        "# you don't need to change it\n",
        "# you can access the hyperparameters by config.xxx\n",
        "config = SimpleNamespace(\n",
        "    seed = 1,\n",
        "    batch_size = 64,\n",
        "    test_batch_size = 100,\n",
        "    weight_decay = 5e-4,\n",
        "    lr = 1e-3,\n",
        "    epoch = 200,\n",
        "    input_dim = train.shape[0], # item이니까 user 수만큼 들어옴\n",
        "    hidden_dim = 30, # 논문에서는 500 쓰긴함,,\n",
        "\n",
        ")"
      ]
    },
    {
      "cell_type": "code",
      "source": [
        "print(test.shape)\n",
        "print(train.shape)\n",
        "\n",
        "\n",
        "# AutoRec test하려면 test set이랑 train set 크기가 같아야 함 근데 이거는 user 수가 달라서 안됨,,\n",
        "# train data에서 다시 나누기"
      ],
      "metadata": {
        "colab": {
          "base_uri": "https://localhost:8080/"
        },
        "id": "H1_UbHPPQmtW",
        "outputId": "3ae1140d-445c-4ba9-92d3-375b8f942610"
      },
      "execution_count": 19,
      "outputs": [
        {
          "output_type": "stream",
          "name": "stdout",
          "text": [
            "(462, 1591)\n",
            "(943, 1682)\n",
            "(189, 1682)\n",
            "(754, 1682)\n"
          ]
        }
      ]
    },
    {
      "cell_type": "code",
      "source": [
        "from sklearn.model_selection import train_test_split\n",
        "\n",
        "def user_based_train_test_split(matrix, test_size=0.1, random_state=None):\n",
        "    num_users, num_items = matrix.shape\n",
        "    train_data = np.zeros((num_users, num_items), dtype=np.float32)\n",
        "    test_data = np.zeros((num_users, num_items), dtype=np.float32)\n",
        "\n",
        "    for user_id in range(num_users):\n",
        "        rated_items_idx = np.where(matrix[user_id] > 0)[0]\n",
        "        train_items_idx, test_items_idx = train_test_split(rated_items_idx, test_size=test_size, random_state=random_state)\n",
        "\n",
        "        train_data[user_id, train_items_idx] = matrix[user_id, train_items_idx]\n",
        "        train_data[user_id, test_items_idx] = 3 # 이게 맞나???????? test용 user는 default로 3이라는 표현이 있는데 그게 ... 이게 맞나?\n",
        "        test_data[user_id, test_items_idx] = matrix[user_id, test_items_idx]\n",
        "\n",
        "    return train_data, test_data\n",
        "\n",
        "train_data, test_data = user_based_train_test_split(train, test_size=0.2, random_state=42)\n",
        "\n",
        "print(test_data.shape)\n",
        "print(train_data.shape)"
      ],
      "metadata": {
        "colab": {
          "base_uri": "https://localhost:8080/"
        },
        "id": "da4S_BooUxwT",
        "outputId": "e62f6c32-104e-46bb-93b3-d06b8207afa2"
      },
      "execution_count": 22,
      "outputs": [
        {
          "output_type": "stream",
          "name": "stdout",
          "text": [
            "(943, 1682)\n",
            "(943, 1682)\n"
          ]
        }
      ]
    },
    {
      "cell_type": "code",
      "source": [
        "import torch\n",
        "from torch.utils.data import Dataset, DataLoader\n",
        "\n",
        "\n",
        "class ItemData(Dataset):\n",
        "  def __init__(self,train =train):\n",
        "    super(ItemData, self).__init__()\n",
        "    self.train = train\n",
        "\n",
        "  def __len__(self):\n",
        "    return self.train.shape[1]\n",
        "\n",
        "  def __getitem__(self, idx):\n",
        "    return torch.tensor(self.train[:, idx])\n",
        "\n",
        "train_dataset = ItemData(train_data)\n",
        "test_dataset = ItemData(test_data)\n",
        "\n",
        "train_loader = DataLoader(train_dataset, batch_size=config.batch_size, shuffle=True)\n",
        "test_loader = DataLoader(test_dataset, batch_size=config.test_batch_size, shuffle=True)"
      ],
      "metadata": {
        "id": "MVrYW2YIM2ps"
      },
      "execution_count": 116,
      "outputs": []
    },
    {
      "cell_type": "code",
      "source": [
        "import torch\n",
        "import torch.nn as nn\n",
        "import torch.optim as optim\n",
        "import numpy as np\n",
        "import random\n",
        "\n",
        "config = SimpleNamespace(\n",
        "    seed = 1,\n",
        "    batch_size = 64,\n",
        "    test_batch_size = 100,\n",
        "    weight_decay = 5e-4,\n",
        "    lr = 1e-3,\n",
        "    epoch = 200,\n",
        "    input_dim = train.shape[0], # item이니까 user 수만큼 들어옴\n",
        "    hidden_dim = 30, # 논문에서는 500 쓰긴함,,\n",
        "\n",
        ")\n",
        "\n",
        "def g(x):\n",
        "  # sigmoid function\n",
        "  return 1 / (1 + torch.exp(-x))\n",
        "\n",
        "class AutoRec(nn.Module):\n",
        "  def __init__(self, train_R = train, test_R = test,d= config.input_dim, k= config.hidden_dim, lamb = 0.1, learning_rate=config.lr, epochs= config.epoch):\n",
        "    super(AutoRec, self).__init__()\n",
        "    '''\n",
        "    AutoRec\n",
        "    item - based\n",
        "    d: input\n",
        "    k: hidden\n",
        "    '''\n",
        "    self.num_user, self.num_item = train_R.shape\n",
        "    self.test_n, self.test_m = test_R.shape\n",
        "\n",
        "    self.train_loader = train_loader\n",
        "    self.test_loader = test_loader\n",
        "\n",
        "    print(\"train user\", self.num_user, \"train item\", self.num_item)\n",
        "    print(\"test user\", self.test_n, \"test item\", self.test_m)\n",
        "\n",
        "    self.input_dim = d\n",
        "    self.hidden_dim = k\n",
        "\n",
        "    self.lr = learning_rate\n",
        "    self.epoch = epochs\n",
        "    self.lamb = lamb\n",
        "\n",
        "    # 간단하게 하려면 self.encoder = nn.Linear()이런 식으로 해줘도 됨\n",
        "    self.V = nn.Parameter(torch.randn(k, d)) #[15, 943]\n",
        "    self.W = nn.Parameter(torch.randn(d, k)) # [943, 15])\n",
        "    self.mu = nn.Parameter(torch.randn(k))\n",
        "    self.b = nn.Parameter(torch.randn(d))\n",
        "\n",
        "\n",
        "    #self.optimizer = optim.Adam(self.parameters(), lr=self.lr, weight_decay=config.weight_decay)\n",
        "    self.optimizer = optim.Rprop(self.parameters(), lr=self.lr)\n",
        "\n",
        "  def forward(self, r):\n",
        "    # r: (batch_size, d)\n",
        "    encoded = g(torch.matmul(r, self.V.t()) + self.mu) # (batch_size, k) + (k)\n",
        "    decoded = torch.matmul(encoded, self.W.t()) + self.b # (batch_size, d) + (d)\n",
        "    # (batch_size, d)\n",
        "    return decoded\n",
        "\n",
        "  def fit(self):\n",
        "    train_list = []\n",
        "    test_list = []\n",
        "    self.train()\n",
        "    for epoch in range(self.epoch):\n",
        "\n",
        "      train_loss = 0\n",
        "      for r in self.train_loader:\n",
        "        out = self.forward(r)\n",
        "        mask = (r > 0)\n",
        "        # r: (batch_size, d)\n",
        "        self.optimizer.zero_grad()\n",
        "        train_loss = torch.mean(((r - out)[mask])**2) + self.lamb / 2 * (torch.norm(self.W)**2 + torch.norm(self.V)**2)\n",
        "        train_loss.backward()\n",
        "        self.optimizer.step()\n",
        "\n",
        "\n",
        "      with torch.no_grad():\n",
        "        for rr in test_loader:\n",
        "            mask = (rr > 0)\n",
        "            test_out = self.forward(rr)\n",
        "            # test_n = 0\n",
        "            # test_loss1 = 0\n",
        "            # for u in range(rr.shape[0]):\n",
        "            #   for i in range(rr.shape[1]):\n",
        "            #     if rr[u, i] > 0:\n",
        "            #       test_loss1+= (rr[u, i] - test_out[u, i])**2\n",
        "            #       # print(\"test_loss\", rr[u, i], test_out[u, i], (rr[u, i] - test_out[u, i]))\n",
        "            #       test_n += 1\n",
        "            # test_loss1 = torch.sqrt(test_loss1 / test_n)\n",
        "\n",
        "            test_loss2 = torch.sqrt(torch.mean(((rr - test_out)[mask])**2))\n",
        "            # print(\"test\", torch.mean(((rr - test_out)[mask])))\n",
        "\n",
        "      test_list.append(test_loss2.item())\n",
        "      train_list.append(torch.sqrt(train_loss))\n",
        "      if epoch % 20 == 0:\n",
        "        print(f'Epoch [{epoch}/{self.epoch}], train_loss: {torch.sqrt(train_loss)}, test2: {test_loss2}')\n",
        "\n",
        "    return train_list, test_list\n"
      ],
      "metadata": {
        "id": "rMWknOoG1u7i"
      },
      "execution_count": 121,
      "outputs": []
    },
    {
      "cell_type": "code",
      "source": [
        "import matplotlib.pyplot as plt\n",
        "\n",
        "model = AutoRec(epochs = 200)\n",
        "\n",
        "# Train the model\n",
        "train_list, test_list = model.fit()\n",
        "train_tensor = torch.tensor(train_list)\n",
        "test_tensor = torch.tensor(test_list)\n",
        "\n",
        "plt.plot(train_tensor.detach().numpy()) # 근데 생각해보니 train_loss에는 regularization 포함돼서 같이 그릴 필요는 없는듯,,, 굳이 sqrt 한느낌\n",
        "plt.plot(test_tensor.detach().numpy())"
      ],
      "metadata": {
        "colab": {
          "base_uri": "https://localhost:8080/",
          "height": 666
        },
        "id": "wKLPVIRmuQJ8",
        "outputId": "3650f190-0f2b-4394-beed-abfc86122e48"
      },
      "execution_count": 122,
      "outputs": [
        {
          "output_type": "stream",
          "name": "stdout",
          "text": [
            "train user 943 train item 1682\n",
            "test user 462 test item 1591\n",
            "Epoch [0/200], train_loss: 39.29730987548828, test2: 3.5296854972839355\n",
            "Epoch [20/200], train_loss: 1.5263181924819946, test2: 1.0246610641479492\n",
            "Epoch [40/200], train_loss: 0.9972591400146484, test2: 1.0659875869750977\n",
            "Epoch [60/200], train_loss: 1.0216031074523926, test2: 1.0909483432769775\n",
            "Epoch [80/200], train_loss: 1.0200058221817017, test2: 1.0332343578338623\n",
            "Epoch [100/200], train_loss: 1.1245349645614624, test2: 1.0487359762191772\n",
            "Epoch [120/200], train_loss: 1.101483941078186, test2: 1.024782419204712\n",
            "Epoch [140/200], train_loss: 1.154585599899292, test2: 1.0451536178588867\n",
            "Epoch [160/200], train_loss: 1.064663290977478, test2: 1.085610032081604\n",
            "Epoch [180/200], train_loss: 1.1103681325912476, test2: 1.1259160041809082\n"
          ]
        },
        {
          "output_type": "execute_result",
          "data": {
            "text/plain": [
              "[<matplotlib.lines.Line2D at 0x7c09ca30dc00>]"
            ]
          },
          "metadata": {},
          "execution_count": 122
        },
        {
          "output_type": "display_data",
          "data": {
            "text/plain": [
              "<Figure size 640x480 with 1 Axes>"
            ],
            "image/png": "[encoded data removed]"
          },
          "metadata": {}
        }
      ]
    },
    {
      "cell_type": "markdown",
      "source": [
        "## 의문인점\n",
        "성능은 왜 이모양,,,,\n",
        "왜 baseline이 LLORMA인가"
      ],
      "metadata": {
        "id": "ntmT16Zoe8EH"
      }
    }
  ]
}