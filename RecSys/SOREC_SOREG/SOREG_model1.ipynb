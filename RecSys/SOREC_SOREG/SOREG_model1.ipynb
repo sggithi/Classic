{
  "nbformat": 4,
  "nbformat_minor": 0,
  "metadata": {
    "colab": {
      "provenance": [],
      "gpuType": "T4"
    },
    "kernelspec": {
      "name": "python3",
      "display_name": "Python 3"
    },
    "language_info": {
      "name": "python"
    },
    "accelerator": "GPU"
  },
  "cells": [
    {
      "cell_type": "code",
      "source": [
        "#Colab setting\n",
        "from google.colab import drive\n",
        "drive.mount('/content/drive')\n",
        "\n",
        "import sys\n",
        "sys.path.append('/content/drive/My Drive/DSAIL')\n",
        "\n",
        "import os\n",
        "os.chdir('/content/drive/My Drive/DSAIL')"
      ],
      "metadata": {
        "colab": {
          "base_uri": "https://localhost:8080/"
        },
        "id": "kp2VLPKnmids",
        "outputId": "528ccb58-021b-46e3-cfef-d4fac35afc73"
      },
      "execution_count": 1,
      "outputs": [
        {
          "output_type": "stream",
          "name": "stdout",
          "text": [
            "Mounted at /content/drive\n"
          ]
        }
      ]
    },
    {
      "cell_type": "code",
      "source": [
        "import numpy as np\n",
        "train_rating_matrix = np.load('Epinions/train_rating_matrix.npy')\n",
        "test_rating_matrix = np.load('Epinions/test_rating_matrix.npy')\n",
        "ui_uk_matrix= np.load('Epinions/ui_uk_matrix.npy')"
      ],
      "metadata": {
        "id": "xPvagEQBKjW4"
      },
      "execution_count": 2,
      "outputs": []
    },
    {
      "cell_type": "code",
      "source": [
        "import torch\n",
        "import torch.nn as nn\n",
        "import torch.optim as optim\n",
        "import numpy as np\n",
        "import random\n",
        "\n",
        "class SOREG(nn.Module):\n",
        "  def __init__(self, train_R = train_rating_matrix, test_R = test_rating_matrix, trust = ui_uk_matrix, l=10, alpha = 0.01,lamb1 = 0.001, lamb2 =0.001, learning_rate=1e-3, epochs= 100):\n",
        "    '''\n",
        "    SOREG\n",
        "    model1\n",
        "    --average based\n",
        "\n",
        "    얘는 trust matrix를 factorization 하기보다는 regularization term에 추가함\n",
        "    '''\n",
        "    super(SOREG, self).__init__()\n",
        "\n",
        "    # 논문은 특이하게 m이 user 수, n이 item 수\n",
        "    self.m, self.n = train_R.shape # Rating\n",
        "    self.test_n, self.test_m = test_R.shape\n",
        "\n",
        "    self.latent_dimension = l\n",
        "\n",
        "    # self.train_R = train_R\n",
        "    # self.test_R = test_R   # 20 비율       (100, 1000)\n",
        "    # self.trust = trust     # trust ratings (100, 100)\n",
        "\n",
        "    self.train_R = torch.from_numpy(train_R).float()\n",
        "    self.test_R = torch.from_numpy(test_R).float()\n",
        "    self.trust = torch.from_numpy(trust).float()\n",
        "\n",
        "    self.lr = learning_rate\n",
        "    self.epoch = epochs\n",
        "    self.lamb1 = lamb1\n",
        "    self.lamb2 = lamb2\n",
        "    self.alpha = alpha\n",
        "\n",
        "    self.U = nn.Parameter(torch.randn(self.latent_dimension, self.m)) # (l, m)\n",
        "    self.V = nn.Parameter(torch.randn(self.latent_dimension, self.n)) # (l, n) = > (m, n) : Ratings\n",
        "\n",
        "    self.outlink_friends = {user: np.where(trust[user, :] > 0)[0] for user in range(self.m)}\n",
        "    self.inlink_friends = {user: np.where(trust[:, user] > 0)[0] for user in range(self.m)}\n",
        "\n",
        "    self.out_friends_num = torch.sum(self.trust, dim=1) # (m,)\n",
        "\n",
        "    self.optimizer = torch.optim.Adam(self.parameters(), lr= self.lr)\n",
        "\n",
        "    self.completed_rating_matrix = torch.matmul(self.U.T, self.V)\n",
        "\n",
        "  def forward_user_item(self, u):\n",
        "    # user 들어올 때마다 모든 item에 대한 rating 차이 구하기\n",
        "    predicted_rating = torch.matmul(self.U[:, u].T, self.V) # (l,) (l, n) => (n)\n",
        "    loss = 0\n",
        "    for v in range(self.n):\n",
        "      # R이 있는 경우만\n",
        "      if self.train_R[u, v]:\n",
        "        loss += (self.train_R[u, v] - predicted_rating[v]) ** 2\n",
        "\n",
        "    return loss / 2\n",
        "\n",
        "  def similarity(self, i, f):\n",
        "    # PCC\n",
        "    rating_i = self.train_R[i, :]\n",
        "    rating_f = self.train_R[f, :]\n",
        "    common_items = (rating_i != 0) & (rating_f != 0)\n",
        "\n",
        "    # No common items, similarity is undefined\n",
        "    if torch.sum(common_items) == 0:\n",
        "      return torch.tensor(0.0)\n",
        "\n",
        "    rating_i_common = rating_i[common_items]\n",
        "    rating_f_common = rating_f[common_items]\n",
        "    mean_i = torch.mean(rating_i_common)\n",
        "    mean_f = torch.mean(rating_f_common)\n",
        "\n",
        "    denominator_i = torch.sqrt(torch.sum((rating_i_common - mean_i)**2))\n",
        "    denominator_f = torch.sqrt(torch.sum((rating_f_common - mean_f)**2))\n",
        "    # Divide by zero\n",
        "    if denominator_i == 0 or denominator_f == 0:\n",
        "      return torch.tensor(0.0)\n",
        "\n",
        "    sim = torch.sum((rating_i_common - mean_i) * (rating_f_common - mean_f)) / (denominator_i * denominator_f)\n",
        "\n",
        "    return sim\n",
        "\n",
        "  # def forward_user_average(self, u):\n",
        "  #   # self.U[u]가 들어오면 해당 user의 outlink friends들\n",
        "  #   outlink_friends = self.outlink_friends[u]\n",
        "  #   outlink_sum = 0\n",
        "  #   for friend in outlink_friends:\n",
        "  #     outlink_sum += self.U[:, friend]\n",
        "  #   loss = torch.norm((self.U[:, u] - outlink_sum / len(outlink_friends)), p='fro')\n",
        "\n",
        "  #   return self.alpha * loss / 2\n",
        "\n",
        "  def forward_user_average(self, u):\n",
        "    # self.U[u]가 들어오면 해당 user의 outlink friends weighted\n",
        "    outlink_friends = self.outlink_friends[u]\n",
        "    sim = 0\n",
        "    outlink_sum = 0\n",
        "    num_common = 0\n",
        "    sum = 0\n",
        "\n",
        "    if len(outlink_friends) == 0:\n",
        "      return 0\n",
        "    for friend in outlink_friends:\n",
        "      s = self.similarity(u, friend)\n",
        "      sum += self.U[:, friend]\n",
        "      outlink_sum += self.U[:, friend] * s\n",
        "      sim += s\n",
        "    # sim = 0인 경우 그냥 average로 가는게 나을듯\n",
        "    if sim == 0 :\n",
        "      loss = torch.norm((self.U[:, u] - sum / len(outlink_friends)), p='fro')\n",
        "      return self.alpha * loss / 2\n",
        "    weighted_outlink_sum = outlink_sum / sim\n",
        "    loss = torch.norm((self.U[:, u] - weighted_outlink_sum), p='fro')\n",
        "\n",
        "    return self.alpha * loss / 2\n",
        "\n",
        "  def train_mae(self):\n",
        "    mae_loss = 0\n",
        "    train_num = 0\n",
        "    cm = torch.matmul(self.U.T, self.V)\n",
        "    for u in range(self.m):\n",
        "      for v in range(self.n):\n",
        "        if self.train_R[u, v]:\n",
        "          train_num += 1 # .8\n",
        "          mae_loss += abs(cm[u, v] - self.train_R[u, v])\n",
        "\n",
        "    return mae_loss.item() / train_num\n",
        "\n",
        "  def test_accuracy(self):\n",
        "    mae_loss = 0\n",
        "    test_num = 0\n",
        "    cm = torch.matmul(self.U.T, self.V)\n",
        "    for u in range(self.m):\n",
        "      for v in range(self.n):\n",
        "        if self.test_R[u, v]:\n",
        "          test_num += 1 # .2\n",
        "          mae_loss += abs(cm[u, v] - self.test_R[u, v])\n",
        "\n",
        "    return mae_loss.item() / test_num\n",
        "\n",
        "  def get_complete_matrix(self):\n",
        "    self.completed_rating_matrix  = torch.matmul(self.U.T, self.V)\n",
        "    return self.completed_rating_matrix\n",
        "\n",
        "  def fit(self):\n",
        "    train_loss_list = []\n",
        "    test_loss_list = []\n",
        "\n",
        "    for epoch in range(self.epoch):\n",
        "      total_loss = 0\n",
        "      for u in range(self.m):\n",
        "\n",
        "        # user-item matrix loss\n",
        "        loss1 = self.forward_user_item(u)\n",
        "\n",
        "        # average loss\n",
        "        loss2 = self.forward_user_average(u)\n",
        "\n",
        "        total_loss = loss1 + loss2 + self.lamb1 * torch.norm(self.U ** 2, p='fro') / 2 + self.lamb2 * torch.norm(self.V ** 2, p='fro') / 2\n",
        "\n",
        "        self.optimizer.zero_grad()\n",
        "        total_loss.backward()\n",
        "        self.optimizer.step()\n",
        "\n",
        "        #self.completed_rating_matrix = torch.matmul(self.U.T, self.V)\n",
        "\n",
        "      test_mae = self.test_accuracy()\n",
        "      train_mae = self.train_mae()\n",
        "      train_loss_list.append(train_mae)\n",
        "      test_loss_list.append(test_mae)\n",
        "\n",
        "      if epoch % 50 == 0:\n",
        "        print(f'Epoch [{epoch}/{self.epoch}], total_loss: {total_loss}, train_mae: {train_mae}, test_mae: {test_mae}')\n",
        "\n",
        "\n",
        "    return train_loss_list, test_loss_list\n"
      ],
      "metadata": {
        "id": "rMWknOoG1u7i"
      },
      "execution_count": 47,
      "outputs": []
    },
    {
      "cell_type": "code",
      "source": [
        "import matplotlib.pyplot as plt\n",
        "\n",
        "# outlink 자체가 0인 data가 많았음 => user간의 유사성에 의존하는만큼, friend를 댕강댕강해버린 데이터 전처리가 문제..\n",
        "model = SOREG( l=10, alpha = 0.01,lamb1 = 0.001, lamb2 =0.001, learning_rate=0.01, epochs= 500)\n",
        "\n",
        "# Train the model\n",
        "train_loss_list, test_loss_list = model.fit()\n",
        "train_loss_list = torch.tensor(train_loss_list).detach().numpy()\n",
        "test_loss_list = torch.tensor(test_loss_list).detach().numpy()\n",
        "plt.plot(train_loss_list, label='Train Loss')\n",
        "plt.plot(test_loss_list, label='Test Loss')"
      ],
      "metadata": {
        "colab": {
          "base_uri": "https://localhost:8080/",
          "height": 627
        },
        "id": "b2cbg1uw0l9B",
        "outputId": "b8550612-3dd6-4bc0-d1f9-df0ae75c4149"
      },
      "execution_count": 48,
      "outputs": [
        {
          "output_type": "stream",
          "name": "stdout",
          "text": [
            "Epoch [0/500], total_loss: 13.671034812927246, train_mae: 3.8446009298242947, test_mae: 4.2605112834149095\n",
            "Epoch [50/500], total_loss: 0.42230188846588135, train_mae: 0.5322291155269637, test_mae: 4.086493924918424\n",
            "Epoch [100/500], total_loss: 0.5490496158599854, train_mae: 0.49368707679125123, test_mae: 4.010850776151481\n",
            "Epoch [150/500], total_loss: 0.6898825168609619, train_mae: 0.45021573671571014, test_mae: 3.9485505498556726\n",
            "Epoch [200/500], total_loss: 0.2687221169471741, train_mae: 0.41076853117590284, test_mae: 3.8322739198983435\n",
            "Epoch [250/500], total_loss: 0.1870841085910797, train_mae: 0.3963620968829797, test_mae: 3.8047813813849145\n",
            "Epoch [300/500], total_loss: 0.23465074598789215, train_mae: 0.3690140720471334, test_mae: 3.83563673639872\n",
            "Epoch [350/500], total_loss: 0.21615494787693024, train_mae: 0.34936119703003404, test_mae: 3.817663966412525\n",
            "Epoch [400/500], total_loss: 0.334757000207901, train_mae: 0.3129508467499848, test_mae: 3.8014440574799195\n",
            "Epoch [450/500], total_loss: 0.21815988421440125, train_mae: 0.3594125235590953, test_mae: 3.8261463824046187\n"
          ]
        },
        {
          "output_type": "execute_result",
          "data": {
            "text/plain": [
              "[<matplotlib.lines.Line2D at 0x7cf3cdf6d5a0>]"
            ]
          },
          "metadata": {},
          "execution_count": 48
        },
        {
          "output_type": "display_data",
          "data": {
            "text/plain": [
              "<Figure size 640x480 with 1 Axes>"
            ],
            "image/png": "[encoded data removed]"
          },
          "metadata": {}
        }
      ]
    },
    {
      "cell_type": "code",
      "source": [
        "import matplotlib.pyplot as plt\n",
        "\n",
        "model = SOREG( l=10, alpha = 0.01,lamb1 = 0.001, lamb2 =0.001, learning_rate=0.01, epochs= 500)\n",
        "\n",
        "# Train the model\n",
        "train_loss_list, test_loss_list = model.fit()\n",
        "train_loss_list = torch.tensor(train_loss_list).detach().numpy()\n",
        "test_loss_list = torch.tensor(test_loss_list).detach().numpy()\n",
        "plt.plot(train_loss_list, label='Train Loss')\n",
        "plt.plot(test_loss_list, label='Test Loss')"
      ],
      "metadata": {
        "id": "xFRbHX6d2cT8",
        "colab": {
          "base_uri": "https://localhost:8080/",
          "height": 538
        },
        "outputId": "d455f945-7b0f-4644-d09e-d722b5b703e8"
      },
      "execution_count": 25,
      "outputs": [
        {
          "output_type": "stream",
          "name": "stdout",
          "text": [
            "Epoch [0/200], total_loss: 18.041017532348633, train_mae: 3.7869312568397375, test_mae: 4.214206435115462\n",
            "Epoch [40/200], total_loss: 0.7916808128356934, train_mae: 0.516365555937652, test_mae: 4.107884173412399\n",
            "Epoch [80/200], total_loss: 0.2988930940628052, train_mae: 0.48128794510540795, test_mae: 4.056190827764182\n",
            "Epoch [120/200], total_loss: 0.38558146357536316, train_mae: 0.45802538682514593, test_mae: 3.9712404304718874\n",
            "Epoch [160/200], total_loss: 0.2601753771305084, train_mae: 0.4344865672783165, test_mae: 3.9542525571034135\n"
          ]
        },
        {
          "output_type": "execute_result",
          "data": {
            "text/plain": [
              "[<matplotlib.lines.Line2D at 0x7cf3e6434a90>]"
            ]
          },
          "metadata": {},
          "execution_count": 25
        },
        {
          "output_type": "display_data",
          "data": {
            "text/plain": [
              "<Figure size 640x480 with 1 Axes>"
            ],
            "image/png": "[encoded data removed]"
          },
          "metadata": {}
        }
      ]
    },
    {
      "cell_type": "code",
      "source": [
        "train_toy = np.array([\n",
        "    [5, 2, 0, 3, 0, 4, 0, 0],\n",
        "    [4, 3, 0, 0, 5, 0, 0, 0],\n",
        "    [4, 0, 2, 0, 0, 0, 2, 4],\n",
        "    [0, 0, 0, 0, 0, 0, 0, 0],\n",
        "    [5, 1, 2, 0, 4, 3, 0, 0],\n",
        "    [4, 3, 0, 2, 4, 0, 3, 5]\n",
        "], dtype=float)\n",
        "\n",
        "\n",
        "trust_toy = np.array([\n",
        "            [0, 0, 0, 0, 0, 0],\n",
        "            [0, 0, 0, 0, 1.0, 0.8],\n",
        "            [0.8,0, 0,0,0,0],\n",
        "            [0.8, 1.0, 0, 0, 0.6, 0],\n",
        "            [0,0, 0.4, 0, 0, 0.8],\n",
        "            [0,0,0,0,0,0]])"
      ],
      "metadata": {
        "id": "9C4U6ORGfP56"
      },
      "execution_count": 26,
      "outputs": []
    },
    {
      "cell_type": "code",
      "source": [
        "model = SOREG(train_R = train_toy, test_R = train_toy, learning_rate = 0.001, trust = trust_toy, l=10, epochs = 3000)\n",
        "\n",
        "model.fit()\n",
        "print(model.get_complete_matrix())"
      ],
      "metadata": {
        "colab": {
          "base_uri": "https://localhost:8080/"
        },
        "id": "PbXMH1O4SIzT",
        "outputId": "20e6048b-822c-4bcd-b150-8dce17b40e8a"
      },
      "execution_count": 34,
      "outputs": [
        {
          "output_type": "stream",
          "name": "stdout",
          "text": [
            "Epoch [0/3000], total_loss: 16.555313110351562, train_mae: 3.3035188154740767, test_mae: 3.3035188154740767\n",
            "Epoch [200/3000], total_loss: 0.20320788025856018, train_mae: 0.6087522506713867, test_mae: 0.6087522506713867\n",
            "Epoch [400/3000], total_loss: 0.022718515247106552, train_mae: 0.040337107398293236, test_mae: 0.040337107398293236\n",
            "Epoch [600/3000], total_loss: 0.022357279434800148, train_mae: 0.0008513548157431862, test_mae: 0.0008513548157431862\n",
            "Epoch [800/3000], total_loss: 0.02219346910715103, train_mae: 0.000663768161426891, test_mae: 0.000663768161426891\n",
            "Epoch [1000/3000], total_loss: 0.021904507651925087, train_mae: 0.0006589618596163663, test_mae: 0.0006589618596163663\n",
            "Epoch [1200/3000], total_loss: 0.02140584960579872, train_mae: 0.0006506713953885165, test_mae: 0.0006506713953885165\n",
            "Epoch [1400/3000], total_loss: 0.020576201379299164, train_mae: 0.0006360574202104049, test_mae: 0.0006360574202104049\n",
            "Epoch [1600/3000], total_loss: 0.019268792122602463, train_mae: 0.0006147352131930264, test_mae: 0.0006147352131930264\n",
            "Epoch [1800/3000], total_loss: 0.017358534038066864, train_mae: 0.0005863146348433061, test_mae: 0.0005863146348433061\n",
            "Epoch [2000/3000], total_loss: 0.014865625649690628, train_mae: 0.0005399747328324752, test_mae: 0.0005399747328324752\n",
            "Epoch [2200/3000], total_loss: 0.012303723953664303, train_mae: 0.0019575628367337313, test_mae: 0.0019575628367337313\n",
            "Epoch [2400/3000], total_loss: 0.01017697062343359, train_mae: 0.002227783203125, test_mae: 0.002227783203125\n",
            "Epoch [2600/3000], total_loss: 0.008647801354527473, train_mae: 0.0004947673190723766, test_mae: 0.0004947673190723766\n",
            "Epoch [2800/3000], total_loss: 0.007719174027442932, train_mae: 0.0005096901546825062, test_mae: 0.0005096901546825062\n",
            "tensor([[ 4.9975e+00,  1.9973e+00,  7.7953e-01,  2.9975e+00,  2.2003e+00,\n",
            "          3.9973e+00, -4.7482e-01,  1.2301e+00],\n",
            "        [ 4.0000e+00,  2.9972e+00,  1.1869e+00,  1.5208e+00,  4.9968e+00,\n",
            "          3.2282e+00,  2.1699e+00,  4.2108e+00],\n",
            "        [ 4.0008e+00,  6.8932e-01,  2.0006e+00,  1.9215e-02,  3.0715e+00,\n",
            "          2.1926e+00,  2.0005e+00,  4.0002e+00],\n",
            "        [-8.0774e-04,  4.4515e-03, -6.5338e-03, -9.0913e-03,  1.1973e-02,\n",
            "          5.0368e-03, -2.3553e-03,  2.2077e-04],\n",
            "        [ 4.9980e+00,  9.9992e-01,  2.0002e+00,  9.7675e-01,  3.9987e+00,\n",
            "          2.9988e+00,  2.3078e+00,  3.8891e+00],\n",
            "        [ 3.9990e+00,  2.9975e+00,  9.7347e-01,  1.9987e+00,  3.9993e+00,\n",
            "          2.9354e+00,  2.9989e+00,  4.9981e+00]], grad_fn=<MmBackward0>)\n"
          ]
        }
      ]
    },
    {
      "cell_type": "code",
      "source": [],
      "metadata": {
        "id": "IY5L6Fvp7f-C"
      },
      "execution_count": null,
      "outputs": []
    }
  ]
}