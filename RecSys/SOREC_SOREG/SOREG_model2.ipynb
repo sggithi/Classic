{
  "nbformat": 4,
  "nbformat_minor": 0,
  "metadata": {
    "colab": {
      "provenance": [],
      "gpuType": "T4"
    },
    "kernelspec": {
      "name": "python3",
      "display_name": "Python 3"
    },
    "language_info": {
      "name": "python"
    },
    "accelerator": "GPU"
  },
  "cells": [
    {
      "cell_type": "code",
      "source": [
        "#Colab setting\n",
        "from google.colab import drive\n",
        "drive.mount('/content/drive')\n",
        "\n",
        "import sys\n",
        "sys.path.append('/content/drive/My Drive/DSAIL')\n",
        "\n",
        "import os\n",
        "os.chdir('/content/drive/My Drive/DSAIL')"
      ],
      "metadata": {
        "colab": {
          "base_uri": "https://localhost:8080/"
        },
        "id": "kp2VLPKnmids",
        "outputId": "b4edf7b8-920b-4fb4-ab11-a437a540e4cb"
      },
      "execution_count": 1,
      "outputs": [
        {
          "output_type": "stream",
          "name": "stdout",
          "text": [
            "Mounted at /content/drive\n"
          ]
        }
      ]
    },
    {
      "cell_type": "code",
      "source": [
        "import numpy as np\n",
        "train_rating_matrix = np.load('Epinions/train_rating_matrix.npy')\n",
        "test_rating_matrix = np.load('Epinions/test_rating_matrix.npy')\n",
        "ui_uk_matrix= np.load('Epinions/ui_uk_matrix.npy')"
      ],
      "metadata": {
        "id": "xPvagEQBKjW4"
      },
      "execution_count": 2,
      "outputs": []
    },
    {
      "cell_type": "code",
      "source": [
        "import torch\n",
        "import torch.nn as nn\n",
        "import torch.optim as optim\n",
        "import numpy as np\n",
        "import random\n",
        "\n",
        "class SOREG(nn.Module):\n",
        "  def __init__(self, train_R = train_rating_matrix, test_R = test_rating_matrix, trust = ui_uk_matrix, l=10, beta = 0.01,lamb1 = 0.001, lamb2 =0.001, learning_rate=1e-3, epochs= 100):\n",
        "    '''\n",
        "    SOREG\n",
        "    model2\n",
        "    --Individual-based\n",
        "\n",
        "    얘는 friends의 평균에 근접하게 하기보다는 바로 각각의 friend에 유사성에 비례하여 가깝도록\n",
        "    '''\n",
        "    super(SOREG, self).__init__()\n",
        "\n",
        "    # 논문은 특이하게 m이 user 수, n이 item 수\n",
        "    self.m, self.n = train_R.shape # Rating\n",
        "    self.test_n, self.test_m = test_R.shape\n",
        "\n",
        "    self.latent_dimension = l\n",
        "\n",
        "    self.train_R = torch.from_numpy(train_R).float()\n",
        "    self.test_R = torch.from_numpy(test_R).float()\n",
        "    self.trust = torch.from_numpy(trust).float()\n",
        "\n",
        "    self.lr = learning_rate\n",
        "    self.epoch = epochs\n",
        "    self.lamb1 = lamb1\n",
        "    self.lamb2 = lamb2\n",
        "    self.beta = beta\n",
        "\n",
        "    self.U = nn.Parameter(torch.randn(self.latent_dimension, self.m)) # (l, m)\n",
        "    self.V = nn.Parameter(torch.randn(self.latent_dimension, self.n)) # (l, n) = > (m, n) : Ratings\n",
        "\n",
        "    self.outlink_friends = {user: np.where(trust[user, :] > 0)[0] for user in range(self.m)}\n",
        "    self.inlink_friends = {user: np.where(trust[:, user] > 0)[0] for user in range(self.m)}\n",
        "\n",
        "    self.out_friends_num = torch.sum(self.trust, dim=1) # (m,)\n",
        "\n",
        "    self.optimizer = torch.optim.Adam(self.parameters(), lr= self.lr)\n",
        "\n",
        "    self.completed_rating_matrix = torch.matmul(self.U.T, self.V)\n",
        "\n",
        "  def forward_user_item(self, u):\n",
        "    # user 들어올 때마다 모든 item에 대한 rating 차이 구하기\n",
        "    predicted_rating = torch.matmul(self.U[:, u].T, self.V) # (l,) (l, n) => (n)\n",
        "    loss = 0\n",
        "    for v in range(self.n):\n",
        "      # R이 있는 경우만\n",
        "      if self.train_R[u, v]:\n",
        "        loss += (self.train_R[u, v] - predicted_rating[v]) ** 2\n",
        "\n",
        "    return loss / 2\n",
        "\n",
        "  def similarity(self, i, f):\n",
        "    # PCC\n",
        "    rating_i = self.train_R[i, :]\n",
        "    rating_f = self.train_R[f, :]\n",
        "    common_items = (rating_i != 0) & (rating_f != 0)\n",
        "\n",
        "    # No common items, similarity is undefined\n",
        "    if torch.sum(common_items) == 0:\n",
        "      return torch.tensor(0.0)\n",
        "\n",
        "    rating_i_common = rating_i[common_items]\n",
        "    rating_f_common = rating_f[common_items]\n",
        "    mean_i = torch.mean(rating_i_common)\n",
        "    mean_f = torch.mean(rating_f_common)\n",
        "\n",
        "    denominator_i = torch.sqrt(torch.sum((rating_i_common - mean_i)**2))\n",
        "    denominator_f = torch.sqrt(torch.sum((rating_f_common - mean_f)**2))\n",
        "    # Divide by zero\n",
        "    if denominator_i == 0 or denominator_f == 0:\n",
        "      return torch.tensor(0.0)\n",
        "\n",
        "    sim = torch.sum((rating_i_common - mean_i) * (rating_f_common - mean_f)) / (denominator_i * denominator_f)\n",
        "\n",
        "    return sim\n",
        "\n",
        "  def forward_user_average(self, u):\n",
        "    # self.U[u]가 들어오면 해당 user의 outlink friends weighted\n",
        "    outlink_friends = self.outlink_friends[u]\n",
        "    loss = 0\n",
        "    if len(outlink_friends) == 0:\n",
        "      return 0\n",
        "    for friend in outlink_friends:\n",
        "      s = self.similarity(u, friend)\n",
        "      loss += torch.norm((self.U[:, u] - self.U[:, friend]), p='fro') * s\n",
        "\n",
        "    return self.beta * loss / 2\n",
        "\n",
        "  def train_mae(self):\n",
        "    mae_loss = 0\n",
        "    train_num = 0\n",
        "    cm = torch.matmul(self.U.T, self.V)\n",
        "    for u in range(self.m):\n",
        "      for v in range(self.n):\n",
        "        if self.train_R[u, v]:\n",
        "          train_num += 1 # .8\n",
        "          mae_loss += abs(cm[u, v] - self.train_R[u, v])\n",
        "\n",
        "    return mae_loss.item() / train_num\n",
        "\n",
        "  def test_accuracy(self):\n",
        "    mae_loss = 0\n",
        "    test_num = 0\n",
        "    cm = torch.matmul(self.U.T, self.V)\n",
        "    for u in range(self.m):\n",
        "      for v in range(self.n):\n",
        "        if self.test_R[u, v]:\n",
        "          test_num += 1 # .2\n",
        "          mae_loss += abs(cm[u, v] - self.test_R[u, v])\n",
        "\n",
        "    return mae_loss.item() / test_num\n",
        "\n",
        "  def get_complete_matrix(self):\n",
        "    self.completed_rating_matrix  = torch.matmul(self.U.T, self.V)\n",
        "    return self.completed_rating_matrix\n",
        "\n",
        "  def fit(self):\n",
        "    train_loss_list = []\n",
        "    test_loss_list = []\n",
        "\n",
        "    for epoch in range(self.epoch):\n",
        "      total_loss = 0\n",
        "      for u in range(self.m):\n",
        "\n",
        "        # user-item matrix loss\n",
        "        loss1 = self.forward_user_item(u)\n",
        "\n",
        "        # average loss\n",
        "        loss2 = self.forward_user_average(u)\n",
        "\n",
        "        total_loss = loss1 + loss2 + self.lamb1 * torch.norm(self.U ** 2, p='fro') + self.lamb2 * torch.norm(self.V ** 2, p='fro')\n",
        "\n",
        "        self.optimizer.zero_grad()\n",
        "        total_loss.backward()\n",
        "        self.optimizer.step()\n",
        "\n",
        "        #self.completed_rating_matrix = torch.matmul(self.U.T, self.V)\n",
        "\n",
        "      test_mae = self.test_accuracy()\n",
        "      train_mae = self.train_mae()\n",
        "      train_loss_list.append(train_mae)\n",
        "      test_loss_list.append(test_mae)\n",
        "\n",
        "      if epoch % 50 == 0:\n",
        "        print(f'Epoch [{epoch}/{self.epoch}], total_loss: {total_loss}, train_mae: {train_mae}, test_mae: {test_mae}')\n",
        "\n",
        "\n",
        "    return train_loss_list, test_loss_list\n"
      ],
      "metadata": {
        "id": "rMWknOoG1u7i"
      },
      "execution_count": 7,
      "outputs": []
    },
    {
      "cell_type": "code",
      "source": [
        "import matplotlib.pyplot as plt\n",
        "\n",
        "model = SOREG( l=10,lamb1 = 0.001, lamb2 =0.001, learning_rate=0.005, epochs= 500)\n",
        "\n",
        "# Train the model\n",
        "train_loss_list, test_loss_list = model.fit()\n",
        "train_loss_list = torch.tensor(train_loss_list).detach().numpy()\n",
        "test_loss_list = torch.tensor(test_loss_list).detach().numpy()\n",
        "plt.plot(train_loss_list, label='Train Loss')\n",
        "plt.plot(test_loss_list, label='Test Loss')"
      ],
      "metadata": {
        "colab": {
          "base_uri": "https://localhost:8080/",
          "height": 627
        },
        "id": "POn_n9fiQkT1",
        "outputId": "effec452-708d-4036-8e6a-207210232fc6"
      },
      "execution_count": 8,
      "outputs": [
        {
          "output_type": "stream",
          "name": "stdout",
          "text": [
            "Epoch [0/500], total_loss: 12.219196319580078, train_mae: 4.182924975680934, test_mae: 4.159323818712349\n",
            "Epoch [50/500], total_loss: 0.2266174554824829, train_mae: 0.23630272831898255, test_mae: 4.25349640750502\n",
            "Epoch [100/500], total_loss: 0.25265055894851685, train_mae: 0.27136966690479086, test_mae: 4.215173683013303\n",
            "Epoch [150/500], total_loss: 0.2430100440979004, train_mae: 0.26470270416616004, test_mae: 4.185150759287149\n",
            "Epoch [200/500], total_loss: 0.17994911968708038, train_mae: 0.25429686312545596, test_mae: 4.155940166917671\n",
            "Epoch [250/500], total_loss: 0.17217816412448883, train_mae: 0.24887597050648255, test_mae: 4.133611594816767\n",
            "Epoch [300/500], total_loss: 0.24058625102043152, train_mae: 0.249089222473857, test_mae: 4.115684417356928\n",
            "Epoch [350/500], total_loss: 0.1929163783788681, train_mae: 0.24174449044906676, test_mae: 4.098492112983183\n",
            "Epoch [400/500], total_loss: 0.250471830368042, train_mae: 0.24187292848579614, test_mae: 4.082918098173946\n",
            "Epoch [450/500], total_loss: 0.14441131055355072, train_mae: 0.23369156061907223, test_mae: 4.048666590188881\n"
          ]
        },
        {
          "output_type": "execute_result",
          "data": {
            "text/plain": [
              "[<matplotlib.lines.Line2D at 0x78ed92922170>]"
            ]
          },
          "metadata": {},
          "execution_count": 8
        },
        {
          "output_type": "display_data",
          "data": {
            "text/plain": [
              "<Figure size 640x480 with 1 Axes>"
            ],
            "image/png": "[encoded data removed]"
          },
          "metadata": {}
        }
      ]
    },
    {
      "cell_type": "code",
      "source": [
        "train_toy = np.array([\n",
        "    [5, 2, 0, 3, 0, 4, 0, 0],\n",
        "    [4, 3, 0, 0, 5, 0, 0, 0],\n",
        "    [4, 0, 2, 0, 0, 0, 2, 4],\n",
        "    [0, 0, 0, 0, 0, 0, 0, 0],\n",
        "    [5, 1, 2, 0, 4, 3, 0, 0],\n",
        "    [4, 3, 0, 2, 4, 0, 3, 5]\n",
        "], dtype=float)\n",
        "\n",
        "\n",
        "trust_toy = np.array([\n",
        "            [0, 0, 0, 0, 0, 0],\n",
        "            [0, 0, 0, 0, 1.0, 0.8],\n",
        "            [0.8,0, 0,0,0,0],\n",
        "            [0.8, 1.0, 0, 0, 0.6, 0],\n",
        "            [0,0, 0.4, 0, 0, 0.8],\n",
        "            [0,0,0,0,0,0]])"
      ],
      "metadata": {
        "id": "9C4U6ORGfP56"
      },
      "execution_count": 5,
      "outputs": []
    },
    {
      "cell_type": "code",
      "source": [
        "model = SOREG(train_R = train_toy, test_R = train_toy, learning_rate = 0.001, trust = trust_toy, l=10, epochs = 3000)\n",
        "\n",
        "model.fit()\n",
        "print(model.get_complete_matrix())"
      ],
      "metadata": {
        "colab": {
          "base_uri": "https://localhost:8080/"
        },
        "id": "PbXMH1O4SIzT",
        "outputId": "26500825-b9a0-45cd-dace-95b167b13738"
      },
      "execution_count": 6,
      "outputs": [
        {
          "output_type": "stream",
          "name": "stderr",
          "text": [
            "<ipython-input-3-446d32b864b2>:48: UserWarning: The use of `x.T` on tensors of dimension other than 2 to reverse their shape is deprecated and it will throw an error in a future release. Consider `x.mT` to transpose batches of matrices or `x.permute(*torch.arange(x.ndim - 1, -1, -1))` to reverse the dimensions of a tensor. (Triggered internally at ../aten/src/ATen/native/TensorShape.cpp:3614.)\n",
            "  predicted_rating = torch.matmul(self.U[:, u].T, self.V) # (l,) (l, n) => (n)\n"
          ]
        },
        {
          "output_type": "stream",
          "name": "stdout",
          "text": [
            "Epoch [0/3000], total_loss: 113.31383514404297, train_mae: 4.407568844881925, test_mae: 4.407568844881925\n",
            "Epoch [200/3000], total_loss: 29.673797607421875, train_mae: 2.044202457774769, test_mae: 2.044202457774769\n",
            "Epoch [400/3000], total_loss: 3.458954095840454, train_mae: 0.5771648233587091, test_mae: 0.5771648233587091\n",
            "Epoch [600/3000], total_loss: 0.4853697419166565, train_mae: 0.1979534842751243, test_mae: 0.1979534842751243\n",
            "Epoch [800/3000], total_loss: 0.07906012237071991, train_mae: 0.061745508150620895, test_mae: 0.061745508150620895\n",
            "Epoch [1000/3000], total_loss: 0.026474066078662872, train_mae: 0.00625776160847057, test_mae: 0.00625776160847057\n",
            "Epoch [1200/3000], total_loss: 0.025673536583781242, train_mae: 0.0013760490850968795, test_mae: 0.0013760490850968795\n",
            "Epoch [1400/3000], total_loss: 0.02512681484222412, train_mae: 0.0013262358578768644, test_mae: 0.0013262358578768644\n",
            "Epoch [1600/3000], total_loss: 0.024251624941825867, train_mae: 0.0012960650704123757, test_mae: 0.0012960650704123757\n",
            "Epoch [1800/3000], total_loss: 0.022930912673473358, train_mae: 0.0012442036108537154, test_mae: 0.0012442036108537154\n",
            "Epoch [2000/3000], total_loss: 0.021092353388667107, train_mae: 0.0012281591242009943, test_mae: 0.0012281591242009943\n",
            "Epoch [2200/3000], total_loss: 0.018796423450112343, train_mae: 0.0010846961628306997, test_mae: 0.0010846961628306997\n",
            "Epoch [2400/3000], total_loss: 0.01639201119542122, train_mae: 0.0017207535830411043, test_mae: 0.0017207535830411043\n",
            "Epoch [2600/3000], total_loss: 0.014288472943007946, train_mae: 0.0015034242109818892, test_mae: 0.0015034242109818892\n",
            "Epoch [2800/3000], total_loss: 0.012682050466537476, train_mae: 0.0009180090644142845, test_mae: 0.0009180090644142845\n",
            "tensor([[ 5.0019e+00,  2.0006e+00, -3.4321e-01,  3.0019e+00,  1.2116e+00,\n",
            "          4.0015e+00,  3.3933e-01, -1.6125e+00],\n",
            "        [ 4.0033e+00,  3.0011e+00,  1.4467e+00,  1.3897e+00,  5.0004e+00,\n",
            "          2.3717e+00,  2.6885e+00,  4.2200e+00],\n",
            "        [ 4.0006e+00,  1.4493e-01,  1.9991e+00,  1.1961e+00,  2.5710e+00,\n",
            "          2.2259e+00,  2.0000e+00,  3.9993e+00],\n",
            "        [-1.6318e-02, -1.2440e-03,  9.0769e-04, -2.2936e-04, -1.2903e-02,\n",
            "         -7.6947e-03, -2.3726e-03, -9.8316e-03],\n",
            "        [ 4.9992e+00,  1.0038e+00,  2.0001e+00,  1.8465e+00,  3.9997e+00,\n",
            "          3.0005e+00,  2.3322e+00,  4.4250e+00],\n",
            "        [ 4.0027e+00,  2.9991e+00,  1.9593e+00,  2.0009e+00,  4.0038e+00,\n",
            "          2.2731e+00,  3.0006e+00,  4.9993e+00]], grad_fn=<MmBackward0>)\n"
          ]
        }
      ]
    },
    {
      "cell_type": "code",
      "source": [],
      "metadata": {
        "id": "kke4fJIeQUNE"
      },
      "execution_count": null,
      "outputs": []
    }
  ]
}