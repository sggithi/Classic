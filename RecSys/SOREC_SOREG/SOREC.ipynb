{
  "nbformat": 4,
  "nbformat_minor": 0,
  "metadata": {
    "colab": {
      "provenance": [],
      "gpuType": "T4"
    },
    "kernelspec": {
      "name": "python3",
      "display_name": "Python 3"
    },
    "language_info": {
      "name": "python"
    },
    "accelerator": "GPU"
  },
  "cells": [
    {
      "cell_type": "code",
      "source": [
        "#Colab setting\n",
        "from google.colab import drive\n",
        "drive.mount('/content/drive')\n",
        "\n",
        "import sys\n",
        "sys.path.append('/content/drive/My Drive/DSAIL')\n",
        "\n",
        "import os\n",
        "os.chdir('/content/drive/My Drive/DSAIL')"
      ],
      "metadata": {
        "colab": {
          "base_uri": "https://localhost:8080/"
        },
        "id": "kp2VLPKnmids",
        "outputId": "07b48224-b572-43a9-888b-906f6f474116"
      },
      "execution_count": 1,
      "outputs": [
        {
          "output_type": "stream",
          "name": "stdout",
          "text": [
            "Mounted at /content/drive\n"
          ]
        }
      ]
    },
    {
      "cell_type": "code",
      "source": [
        "import pandas as pd\n",
        "import numpy as np\n",
        "from sklearn.model_selection import train_test_split\n",
        "\n",
        "trust_path = 'Epinions/trust_data.txt'\n",
        "ratings_path = \"Epinions/ratings_data.txt\"\n",
        "\n",
        "trust_data = pd.read_csv(trust_path, sep='\\t')\n",
        "trust_data[['ui', 'uk', 'trust']] = trust_data.iloc[:, 0].str.split(expand=True)\n",
        "\n",
        "trust_data['ui'] = trust_data['ui'].astype(int)\n",
        "trust_data['uk'] = trust_data['uk'].astype(int)\n",
        "trust_data['trust'] = trust_data['trust'].astype(int)\n",
        "trust_data.drop(columns=trust_data.columns[0], inplace=True)\n",
        "\n",
        "subset_users = trust_data['ui'].unique()\n",
        "subset_users = np.sort(subset_users)[:100]\n",
        "trust_data_subset = trust_data[trust_data['ui'].isin(subset_users)]\n",
        "\n",
        "subset_items = trust_data_subset['uk'].unique()\n",
        "subset_items = np.sort(subset_items)[:100]\n",
        "trust_data_subset = trust_data_subset[trust_data_subset['uk'].isin(subset_items)]\n",
        "\n",
        "\n",
        "max_ui_idx = trust_data_subset['ui'].max()\n",
        "max_uk_idx = trust_data_subset['uk'].max()\n",
        "\n",
        "ui_uk_matrix = np.zeros((100, 100))\n",
        "for _, row in trust_data_subset.iterrows():\n",
        "    if(row['uk'] > 100 or row['ui'] > 100):\n",
        "      continue\n",
        "    ui_uk_matrix[row['ui']-1, row['uk']-1] = row['trust']\n",
        "\n",
        "np.save('Epinions/ui_uk_matrix.npy', ui_uk_matrix)\n",
        "#np.savetxt('Epinions/ui_uk_matrix.txt', ui_uk_matrix)\n",
        "\n",
        "rating_data = pd.read_csv(ratings_path, sep='\\t')\n",
        "rating_data[['user_id', 'item_id', 'rating']] = rating_data.iloc[:, 0].str.split(expand=True)\n",
        "\n",
        "rating_data['user_id'] = rating_data['user_id'].astype(int)\n",
        "rating_data['item_id'] = rating_data['item_id'].astype(int)\n",
        "rating_data['rating'] = rating_data['rating'].astype(int)\n",
        "rating_data.drop(columns=rating_data.columns[0], inplace=True)\n",
        "\n",
        "\n",
        "subset_users = rating_data['user_id'].unique()\n",
        "subset_users = np.sort(subset_users)[:100]\n",
        "rating_data_subset = rating_data[rating_data['user_id'].isin(subset_users)]\n",
        "\n",
        "subset_items = rating_data_subset['item_id'].unique()\n",
        "subset_items = np.sort(subset_items)[:1000]\n",
        "rating_data_subset = rating_data_subset[rating_data_subset['item_id'].isin(subset_items)]\n",
        "\n",
        "# 그냥 item 각각 100까지만 !!\n",
        "# max_user_idx = rating_data_subset['user_id'].max()\n",
        "# max_item_idx = rating_data_subset['item_id'].max()\n",
        "\n",
        "train_data, test_data = train_test_split(rating_data_subset, test_size=0.2, random_state=42)\n",
        "\n",
        "train_rating_matrix = np.zeros((100, 1000))\n",
        "test_rating_matrix = np.zeros((100, 1000))\n",
        "\n",
        "for _, row in train_data.iterrows():\n",
        "    if(row['user_id'] > 100 or row['item_id'] > 1000):\n",
        "      continue\n",
        "    train_rating_matrix[row['user_id']-1, row['item_id']-1] = row['rating']\n",
        "\n",
        "for _, row in test_data.iterrows():\n",
        "    if(row['user_id'] > 100 or row['item_id'] > 1000):\n",
        "      continue\n",
        "    test_rating_matrix[row['user_id']-1, row['item_id']-1] = row['rating']\n",
        "\n",
        "\n",
        "np.save('Epinions/train_rating_matrix.npy', train_rating_matrix)\n",
        "np.save('Epinions/test_rating_matrix.npy', test_rating_matrix)\n"
      ],
      "metadata": {
        "id": "d1dP_AJ2oc1f"
      },
      "execution_count": null,
      "outputs": []
    },
    {
      "cell_type": "code",
      "source": [
        "print(trust_data_subset)"
      ],
      "metadata": {
        "colab": {
          "base_uri": "https://localhost:8080/"
        },
        "id": "rQMmQDSTOOfd",
        "outputId": "ee4efdac-88e4-44c2-e41e-30f5368181b7"
      },
      "execution_count": null,
      "outputs": [
        {
          "output_type": "stream",
          "name": "stdout",
          "text": [
            "        ui  uk  trust\n",
            "1161     7  91      1\n",
            "1166     7  60      1\n",
            "1180     7  87      1\n",
            "1199     7  23      1\n",
            "1208     7  59      1\n",
            "...     ..  ..    ...\n",
            "484285  96   1      1\n",
            "485050  21  93      1\n",
            "485056  21   1      1\n",
            "485058  21  92      1\n",
            "485059  21  59      1\n",
            "\n",
            "[569 rows x 3 columns]\n"
          ]
        }
      ]
    },
    {
      "cell_type": "code",
      "source": [
        "import numpy as np\n",
        "train_rating_matrix = np.load('Epinions/train_rating_matrix.npy')\n",
        "test_rating_matrix = np.load('Epinions/test_rating_matrix.npy')\n",
        "ui_uk_matrix= np.load('Epinions/ui_uk_matrix.npy')"
      ],
      "metadata": {
        "id": "xPvagEQBKjW4"
      },
      "execution_count": 2,
      "outputs": []
    },
    {
      "cell_type": "code",
      "source": [
        "ui_uk_matrix.shape\n",
        "print(ui_uk_matrix)"
      ],
      "metadata": {
        "colab": {
          "base_uri": "https://localhost:8080/"
        },
        "id": "jo4qMHjO9iiW",
        "outputId": "943f6be9-0cc9-48e4-b2f0-64b031e6b390"
      },
      "execution_count": null,
      "outputs": [
        {
          "output_type": "stream",
          "name": "stdout",
          "text": [
            "[[0. 1. 1. ... 1. 1. 1.]\n",
            " [1. 0. 0. ... 0. 0. 0.]\n",
            " [0. 0. 0. ... 0. 0. 0.]\n",
            " ...\n",
            " [1. 0. 0. ... 0. 0. 0.]\n",
            " [1. 0. 0. ... 0. 0. 0.]\n",
            " [1. 0. 0. ... 0. 0. 0.]]\n"
          ]
        }
      ]
    },
    {
      "cell_type": "code",
      "source": [
        "test_rating_matrix.shape"
      ],
      "metadata": {
        "colab": {
          "base_uri": "https://localhost:8080/"
        },
        "id": "nRijUkG38XZk",
        "outputId": "af68275c-271c-495e-cf1f-c28a3a37f642"
      },
      "execution_count": null,
      "outputs": [
        {
          "output_type": "execute_result",
          "data": {
            "text/plain": [
              "(100, 100)"
            ]
          },
          "metadata": {},
          "execution_count": 29
        }
      ]
    },
    {
      "cell_type": "code",
      "source": [
        "nonzero_elements = (test_rating_matrix != 0)\n",
        "\n",
        "scaled_test_rating_matrix = (test_rating_matrix[nonzero_elements] - 1) / 4.0\n",
        "scaled_test_rating_matrix_full = np.zeros_like(test_rating_matrix)\n",
        "scaled_test_rating_matrix_full[nonzero_elements] = scaled_test_rating_matrix\n",
        "\n",
        "nonzero_elements = (train_rating_matrix != 0)\n",
        "scaled_train_rating_matrix = (train_rating_matrix[nonzero_elements] - 1) / 4.0\n",
        "scaled_train_rating_matrix_full = np.zeros_like(train_rating_matrix)\n",
        "scaled_train_rating_matrix_full[nonzero_elements] = scaled_train_rating_matrix\n"
      ],
      "metadata": {
        "id": "kjc0l0k1S3Xd"
      },
      "execution_count": 3,
      "outputs": []
    },
    {
      "cell_type": "code",
      "source": [
        "import torch\n",
        "import torch.nn as nn\n",
        "import torch.optim as optim\n",
        "import numpy as np\n",
        "import random\n",
        "\n",
        "# 필요한 함수들\n",
        "def g(x):\n",
        "  return 1 / (1 + torch.exp(-x))\n",
        "\n",
        "def g_prime(x):\n",
        "  return g(x) * (1- g(x))\n",
        "\n",
        "class SOREC(nn.Module):\n",
        "  def __init__(self, train_R = scaled_train_rating_matrix_full, test_R = scaled_test_rating_matrix_full, trust = ui_uk_matrix, l=10, lambC = 10, lambdaUVZ =0.001, learning_rate=1e-3, epochs= 5):\n",
        "    '''\n",
        "    SOREC\n",
        "    논문에서는 gradient descent 직접 업데이트하는 방식\n",
        "    구현은 pytorch의 loss.backward()\n",
        "    '''\n",
        "    super(SOREC, self).__init__()\n",
        "\n",
        "    # 논문은 특이하게 m이 user 수, n이 item 수\n",
        "    self.m, self.n = train_R.shape # Rating\n",
        "    self.test_n, self.test_m = test_R.shape\n",
        "\n",
        "    self.latent_dimension = l\n",
        "\n",
        "    self.train_R = train_R # 80            (100, 1000)\n",
        "    self.test_R = test_R   # 20 비율       (100, 1000)\n",
        "    self.trust = trust     # trust ratings (100, 100)\n",
        "\n",
        "    self.lr = learning_rate\n",
        "    self.epoch = epochs\n",
        "    self.lambdaC = lambC\n",
        "    self.lambdaUVZ = lambdaUVZ # 공통으로 사용\n",
        "\n",
        "    # 직접 gradient 각각 update\n",
        "    self.U = nn.Parameter(torch.randn(self.latent_dimension, self.m)) # (l, m)\n",
        "    self.Z = nn.Parameter(torch.randn(self.latent_dimension, self.m)) # (l, m)\n",
        "    self.V = nn.Parameter(torch.randn(self.latent_dimension, self.n)) # (l, n)\n",
        "\n",
        "    self.optimizer = torch.optim.Adam(self.parameters(), lr= self.lr)\n",
        "\n",
        "  def get_complete_matrix(self):\n",
        "    self.completed_rating_matrix  = torch.matmul(self.U.T, self.V)\n",
        "    return self.completed_rating_matrix\n",
        "\n",
        "  def forward_user_item(self, u):\n",
        "    # user 들어올 때마다 모든 item에 대한 rating 차이 구하기\n",
        "    predicted_rating = torch.matmul(self.U[:, u].T, self.V) # (l,) (l, n) => (n)\n",
        "    loss = 0\n",
        "    for v in range(self.n):\n",
        "      # R이 있는 경우만\n",
        "      if self.train_R[u, v]:\n",
        "        loss += (self.train_R[u, v] - g(predicted_rating[v])) ** 2\n",
        "        #print(\"u, v,\", u, v, (self.train_R[u, v] - g(predicted_rating[v])) ** 2)\n",
        "\n",
        "    return loss / 2\n",
        "\n",
        "  def forward_social(self, u):\n",
        "    # user 들어올 때마다 trusted user 대한 trust 차이 구하기\n",
        "    predicted_trust = torch.matmul(self.U[:, u].T, self.Z) # (m)\n",
        "    loss = 0\n",
        "    for z in range(self.m):\n",
        "      if self.trust[u, z]:\n",
        "        loss += (self.trust[u, z] - g(predicted_trust[z])) ** 2\n",
        "\n",
        "    return self.lambdaC * loss / 2\n",
        "\n",
        "  def test_accuracy(self):\n",
        "    completed_rating_matrix = torch.matmul(self.U.T, self.V)\n",
        "    mae_loss = 0\n",
        "    test_num = 0\n",
        "    for u in range(self.m):\n",
        "      for v in range(self.n):\n",
        "        if self.test_R[u, v]:\n",
        "          test_num += 1 # .2\n",
        "          mae_loss += abs(completed_rating_matrix[u, v] - self.test_R[u, v])\n",
        "\n",
        "    return mae_loss / test_num\n",
        "\n",
        "  def train_accuracy(self):\n",
        "    completed_rating_matrix = torch.matmul(self.U.T, self.V)\n",
        "    mae_loss = 0\n",
        "    train_num = 0\n",
        "    for u in range(self.m):\n",
        "      for v in range(self.n):\n",
        "        if self.train_R[u, v]:\n",
        "          train_num += 1 # .8\n",
        "          mae_loss += abs(completed_rating_matrix[u, v] - self.train_R[u, v])\n",
        "\n",
        "    return mae_loss / train_num\n",
        "\n",
        "\n",
        "  def fit(self):\n",
        "    train_loss_list = []\n",
        "    test_loss_list = []\n",
        "\n",
        "    for epoch in range(self.epoch):\n",
        "      total_loss = 0\n",
        "      for u in range(self.m):\n",
        "\n",
        "        # user-item matrix loss\n",
        "        loss1 = self.forward_user_item(u)\n",
        "\n",
        "        # trust matrix loss\n",
        "        loss2 = self.forward_social(u)\n",
        "\n",
        "        total_loss = loss1 + loss2 + self.lambdaUVZ * (torch.sum(self.U ** 2) + torch.sum(self.V ** 2) + torch.sum(self.Z ** 2))\n",
        "\n",
        "        self.optimizer.zero_grad()\n",
        "        total_loss.backward()\n",
        "        self.optimizer.step()\n",
        "\n",
        "      test_mae = self.test_accuracy()\n",
        "      train_mae = self.train_accuracy()\n",
        "\n",
        "      train_loss_list.append(train_mae)\n",
        "      test_loss_list.append(test_mae)\n",
        "\n",
        "      if epoch % 40 == 0:\n",
        "\n",
        "        print(f'Epoch [{epoch}/{self.epoch}], total_loss: {total_loss}, train_mae: {train_mae}, test_mae: {test_mae}')\n",
        "\n",
        "\n",
        "    return train_loss_list, test_loss_list\n"
      ],
      "metadata": {
        "id": "rMWknOoG1u7i"
      },
      "execution_count": 100,
      "outputs": []
    },
    {
      "cell_type": "code",
      "source": [
        "import matplotlib.pyplot as plt\n",
        "\n",
        "model = SOREC(epochs = 200)\n",
        "\n",
        "# Train the model\n",
        "train_loss_list, test_loss_list = model.fit()\n",
        "train_loss_list = torch.tensor(train_loss_list).detach().numpy()\n",
        "test_loss_list = torch.tensor(test_loss_list).detach().numpy()\n",
        "plt.plot(train_loss_list, label='Train Loss')\n",
        "plt.plot(test_loss_list, label='Test Loss')"
      ],
      "metadata": {
        "id": "xFRbHX6d2cT8",
        "colab": {
          "base_uri": "https://localhost:8080/",
          "height": 539
        },
        "outputId": "a8b12d72-fad5-4a49-96c3-381da3f609bd"
      },
      "execution_count": 101,
      "outputs": [
        {
          "output_type": "stream",
          "name": "stdout",
          "text": [
            "Epoch [0/200], total_loss: 11.483431816101074, train_mae: 2.22940731048584, test_mae: 2.4190123081207275\n",
            "Epoch [40/200], total_loss: 1.762978434562683, train_mae: 0.37445834279060364, test_mae: 0.838713526725769\n",
            "Epoch [80/200], total_loss: 1.2129321098327637, train_mae: 0.2844747304916382, test_mae: 0.7525971531867981\n",
            "Epoch [120/200], total_loss: 0.8773898482322693, train_mae: 0.3227185010910034, test_mae: 0.7190210223197937\n",
            "Epoch [160/200], total_loss: 0.7156668901443481, train_mae: 0.34875792264938354, test_mae: 0.710475742816925\n"
          ]
        },
        {
          "output_type": "execute_result",
          "data": {
            "text/plain": [
              "[<matplotlib.lines.Line2D at 0x7f89322bd7e0>]"
            ]
          },
          "metadata": {},
          "execution_count": 101
        },
        {
          "output_type": "display_data",
          "data": {
            "text/plain": [
              "<Figure size 640x480 with 1 Axes>"
            ],
            "image/png": "[encoded data removed]"
          },
          "metadata": {}
        }
      ]
    },
    {
      "cell_type": "markdown",
      "source": [
        "## 구현\n",
        " RAM이 꽉찰수록 연산 속도가 현저하게 떨어진다.\n",
        "lambdaUVZ 작을수록 ovefirt 돼서 사실 잘되는 건줄 알았는데 0.001보다 0.01이 훨씬 성능 좋음"
      ],
      "metadata": {
        "id": "qUrb9JLpKzRf"
      }
    },
    {
      "cell_type": "code",
      "source": [
        "train_toy = np.array([\n",
        "    [5, 2, 0, 3, 0, 4, 0, 0],\n",
        "    [4, 3, 0, 0, 5, 0, 0, 0],\n",
        "    [4, 0, 2, 0, 0, 0, 2, 4],\n",
        "    [0, 0, 0, 0, 0, 0, 0, 0],\n",
        "    [5, 1, 2, 0, 4, 3, 0, 0],\n",
        "    [4, 3, 0, 2, 4, 0, 3, 5]\n",
        "], dtype=float)\n",
        "\n",
        "\n",
        "trust_toy = np.array([\n",
        "            [0, 0, 0, 0, 0, 0],\n",
        "            [0, 0, 0, 0, 1.0, 0.8],\n",
        "            [0.8,0, 0,0,0,0],\n",
        "            [0.8, 1.0, 0, 0, 0.6, 0],\n",
        "            [0,0, 0.4, 0, 0, 0.8],\n",
        "            [0,0,0,0,0,0]])\n",
        "\n",
        "# Apply scaling only to nonzero elements\n",
        "scaled_train_rating_matrix_toy = np.zeros_like(train_toy, dtype=float)\n",
        "\n",
        "for i in range(6):\n",
        "  for ii in range(8):\n",
        "    if train_toy[i,ii]:\n",
        "      scaled_train_rating_matrix_toy[i, ii] = float((train_toy[i, ii] - 1.0) / 4.0)\n",
        "\n",
        "\n"
      ],
      "metadata": {
        "id": "9C4U6ORGfP56"
      },
      "execution_count": 94,
      "outputs": []
    },
    {
      "cell_type": "code",
      "source": [
        "import torch\n",
        "import torch.nn as nn\n",
        "import torch.optim as optim\n",
        "import numpy as np\n",
        "import random\n",
        "\n",
        "# 필요한 함수들\n",
        "def g(x):\n",
        "  return 1 / (1 + torch.exp(-x))\n",
        "\n",
        "def g_prime(x):\n",
        "  return g(x) * (1- g(x))\n",
        "\n",
        "class SOREC(nn.Module):\n",
        "  def __init__(self, train_R = scaled_train_rating_matrix_full, test_R = scaled_test_rating_matrix_full, trust = ui_uk_matrix, l=10, lambC = 10, lambdaUVZ =0.001, learning_rate=1e-3, epochs= 5):\n",
        "    '''\n",
        "    SOREC\n",
        "    논문에서는 gradient descent 직접 업데이트하는 방식\n",
        "    구현은 pytorch의 loss.backward()\n",
        "    '''\n",
        "    super(SOREC, self).__init__()\n",
        "\n",
        "    # 논문은 특이하게 m이 user 수, n이 item 수\n",
        "    self.m, self.n = train_R.shape # Rating\n",
        "    self.test_n, self.test_m = test_R.shape\n",
        "\n",
        "    self.latent_dimension = l\n",
        "\n",
        "    self.train_R = train_R # 80            (100, 1000)\n",
        "    self.test_R = test_R   # 20 비율       (100, 1000)\n",
        "    self.trust = trust     # trust ratings (100, 100)\n",
        "\n",
        "    self.lr = learning_rate\n",
        "    self.epoch = epochs\n",
        "    self.lambdaC = lambC\n",
        "    self.lambdaUVZ = lambdaUVZ # 공통으로 사용\n",
        "\n",
        "    # 직접 gradient 각각 update\n",
        "    self.U = nn.Parameter(torch.randn(self.latent_dimension, self.m)) # (l, m)\n",
        "    self.Z = nn.Parameter(torch.randn(self.latent_dimension, self.m)) # (l, m)\n",
        "    self.V = nn.Parameter(torch.randn(self.latent_dimension, self.n)) # (l, n)\n",
        "\n",
        "    self.optimizer = torch.optim.Adam(self.parameters(), lr= self.lr)\n",
        "\n",
        "  def get_complete_matrix(self):\n",
        "    self.completed_rating_matrix  = torch.matmul(self.U.T, self.V)\n",
        "    return self.completed_rating_matrix\n",
        "\n",
        "  def forward_user_item(self, u):\n",
        "    # user 들어올 때마다 모든 item에 대한 rating 차이 구하기\n",
        "    predicted_rating = torch.matmul(self.U[:, u].T, self.V) # (l,) (l, n) => (n)\n",
        "    loss = 0\n",
        "    for v in range(self.n):\n",
        "      # R이 있는 경우만\n",
        "      if self.train_R[u, v]:\n",
        "        loss += (self.train_R[u, v] - g(predicted_rating[v])) ** 2\n",
        "        #print(\"u, v,\", u, v, (self.train_R[u, v] - g(predicted_rating[v])) ** 2)\n",
        "\n",
        "    return loss / 2\n",
        "\n",
        "  def forward_social(self, u):\n",
        "    # user 들어올 때마다 trusted user 대한 trust 차이 구하기\n",
        "    predicted_trust = torch.matmul(self.U[:, u].T, self.Z) # (m)\n",
        "    loss = 0\n",
        "    for z in range(self.m):\n",
        "      if self.trust[u, z]:\n",
        "        loss += (self.trust[u, z] - g(predicted_trust[z])) ** 2\n",
        "\n",
        "    return self.lambdaC * loss / 2\n",
        "\n",
        "  def test_accuracy(self):\n",
        "    completed_rating_matrix = torch.matmul(self.U.T, self.V)\n",
        "    mae_loss = 0\n",
        "    test_num = 0\n",
        "    for u in range(self.m):\n",
        "      for v in range(self.n):\n",
        "        if self.test_R[u, v]:\n",
        "          test_num += 1 # .2\n",
        "          mae_loss += abs(completed_rating_matrix[u, v] - self.test_R[u, v])\n",
        "\n",
        "    return mae_loss / test_num\n",
        "\n",
        "  def train_accuracy(self):\n",
        "    completed_rating_matrix = torch.matmul(self.U.T, self.V)\n",
        "    mae_loss = 0\n",
        "    train_num = 0\n",
        "    for u in range(self.m):\n",
        "      for v in range(self.n):\n",
        "        if self.train_R[u, v]:\n",
        "          train_num += 1 # .8\n",
        "          mae_loss += abs(completed_rating_matrix[u, v] - self.train_R[u, v])\n",
        "\n",
        "    return mae_loss / train_num\n",
        "\n",
        "\n",
        "  def fit(self):\n",
        "    train_loss_list = []\n",
        "    test_loss_list = []\n",
        "\n",
        "    for epoch in range(self.epoch):\n",
        "      total_loss = 0\n",
        "      for u in range(self.m):\n",
        "\n",
        "        # user-item matrix loss\n",
        "        loss1 = self.forward_user_item(u)\n",
        "\n",
        "        # trust matrix loss\n",
        "        loss2 = self.forward_social(u)\n",
        "\n",
        "        total_loss = loss1 + loss2 + self.lambdaUVZ * (torch.sum(self.U ** 2) + torch.sum(self.V ** 2) + torch.sum(self.Z ** 2))\n",
        "\n",
        "        self.optimizer.zero_grad()\n",
        "        total_loss.backward()\n",
        "        self.optimizer.step()\n",
        "\n",
        "      test_mae = self.test_accuracy()\n",
        "      train_mae = self.train_accuracy()\n",
        "\n",
        "      train_loss_list.append(train_mae)\n",
        "      test_loss_list.append(test_mae)\n",
        "\n",
        "      if epoch % 200 == 0:\n",
        "\n",
        "        print(f'Epoch [{epoch}/{self.epoch}], total_loss: {total_loss}, train_mae: {train_mae}, test_mae: {test_mae}')\n",
        "\n",
        "\n",
        "    return train_loss_list, test_loss_list\n"
      ],
      "metadata": {
        "id": "dqB7cdzmcNNs"
      },
      "execution_count": 115,
      "outputs": []
    },
    {
      "cell_type": "code",
      "source": [
        "print(scaled_train_rating_matrix_toy)"
      ],
      "metadata": {
        "colab": {
          "base_uri": "https://localhost:8080/"
        },
        "id": "TceVHfLdUu35",
        "outputId": "0b2d0d3b-15d5-4095-daa0-11eebed55be0"
      },
      "execution_count": 112,
      "outputs": [
        {
          "output_type": "stream",
          "name": "stdout",
          "text": [
            "[[1.   0.25 0.   0.5  0.   0.75 0.   0.  ]\n",
            " [0.75 0.5  0.   0.   1.   0.   0.   0.  ]\n",
            " [0.75 0.   0.25 0.   0.   0.   0.25 0.75]\n",
            " [0.   0.   0.   0.   0.   0.   0.   0.  ]\n",
            " [1.   0.   0.25 0.   0.75 0.5  0.   0.  ]\n",
            " [0.75 0.5  0.   0.25 0.75 0.   0.5  1.  ]]\n"
          ]
        }
      ]
    },
    {
      "cell_type": "code",
      "source": [
        "model = SOREC(train_R = scaled_train_rating_matrix_toy, test_R = scaled_train_rating_matrix_toy, lambdaUVZ =0.008, learning_rate = 0.0008, trust = trust_toy, l=5, epochs = 1600)\n",
        "\n",
        "model.fit()\n",
        "print(model.get_complete_matrix())\n",
        "print(model.get_complete_matrix() * 4 + 1)"
      ],
      "metadata": {
        "colab": {
          "base_uri": "https://localhost:8080/"
        },
        "id": "PbXMH1O4SIzT",
        "outputId": "ffdc32b3-44b9-40f6-bed9-04b2fb825296"
      },
      "execution_count": 121,
      "outputs": [
        {
          "output_type": "stream",
          "name": "stdout",
          "text": [
            "Epoch [0/1600], total_loss: 1.4709248542785645, train_mae: 1.6546155214309692, test_mae: 1.6546155214309692\n",
            "Epoch [200/1600], total_loss: 0.663530707359314, train_mae: 0.5920348167419434, test_mae: 0.5920348167419434\n",
            "Epoch [400/1600], total_loss: 0.4109501838684082, train_mae: 0.4873964786529541, test_mae: 0.4873964786529541\n",
            "Epoch [600/1600], total_loss: 0.30223092436790466, train_mae: 0.4258694350719452, test_mae: 0.4258694350719452\n",
            "Epoch [800/1600], total_loss: 0.2516009211540222, train_mae: 0.39370301365852356, test_mae: 0.39370301365852356\n",
            "Epoch [1000/1600], total_loss: 0.23159053921699524, train_mae: 0.393073707818985, test_mae: 0.393073707818985\n",
            "Epoch [1200/1600], total_loss: 0.22501319646835327, train_mae: 0.40630602836608887, test_mae: 0.40630602836608887\n",
            "Epoch [1400/1600], total_loss: 0.22321143746376038, train_mae: 0.4151463210582733, test_mae: 0.4151463210582733\n",
            "tensor([[ 0.9319, -0.2698, -0.4257, -0.1775,  0.4683,  0.2253, -0.2035,  0.5309],\n",
            "        [ 1.1825, -0.0899, -0.6587, -0.5076,  1.3219,  0.1238, -0.2371,  1.1182],\n",
            "        [ 0.9876, -0.2101, -0.5882, -0.3232,  0.6588,  0.2068, -0.3810,  0.8378],\n",
            "        [ 1.0610, -0.3172, -0.6199, -0.2292,  0.4291,  0.2714, -0.4625,  0.7186],\n",
            "        [ 1.2983, -0.2901, -0.6285, -0.3329,  0.8933,  0.2518, -0.2652,  0.8670],\n",
            "        [ 0.8449, -0.1314, -0.4740, -0.3105,  0.7306,  0.1399, -0.2353,  0.7409]],\n",
            "       grad_fn=<MmBackward0>)\n",
            "tensor([[ 4.7275, -0.0793, -0.7028,  0.2901,  2.8730,  1.9012,  0.1861,  3.1234],\n",
            "        [ 5.7301,  0.6402, -1.6350, -1.0304,  6.2876,  1.4954,  0.0516,  5.4728],\n",
            "        [ 4.9503,  0.1597, -1.3526, -0.2928,  3.6354,  1.8273, -0.5242,  4.3511],\n",
            "        [ 5.2442, -0.2687, -1.4796,  0.0831,  2.7164,  2.0856, -0.8501,  3.8742],\n",
            "        [ 6.1930, -0.1604, -1.5142, -0.3318,  4.5732,  2.0072, -0.0606,  4.4682],\n",
            "        [ 4.3795,  0.4742, -0.8959, -0.2419,  3.9223,  1.5596,  0.0589,  3.9636]],\n",
            "       grad_fn=<AddBackward0>)\n"
          ]
        }
      ]
    },
    {
      "cell_type": "code",
      "source": [
        "model = SOREC(train_R = scaled_train_rating_matrix_toy, test_R = scaled_train_rating_matrix_toy, lambdaUVZ =0.01, learning_rate = 0.001, trust = trust_toy, l=5, epochs = 1600)\n",
        "\n",
        "model.fit()\n",
        "print(model.get_complete_matrix())\n",
        "print(model.get_complete_matrix() * 4 + 1)"
      ],
      "metadata": {
        "colab": {
          "base_uri": "https://localhost:8080/"
        },
        "id": "Y5jJLbMBdOWy",
        "outputId": "66f8e48d-c736-4a9f-8cbf-9227da295d2a"
      },
      "execution_count": 116,
      "outputs": [
        {
          "output_type": "stream",
          "name": "stdout",
          "text": [
            "Epoch [0/1600], total_loss: 0.9359459280967712, train_mae: 1.4268125295639038, test_mae: 1.4268125295639038\n",
            "Epoch [200/1600], total_loss: 0.39830151200294495, train_mae: 0.6179636716842651, test_mae: 0.6179636716842651\n",
            "Epoch [400/1600], total_loss: 0.3318262994289398, train_mae: 0.4791382849216461, test_mae: 0.4791382849216461\n",
            "Epoch [600/1600], total_loss: 0.3090065121650696, train_mae: 0.44620513916015625, test_mae: 0.44620513916015625\n",
            "Epoch [800/1600], total_loss: 0.29405641555786133, train_mae: 0.4141961932182312, test_mae: 0.4141961932182312\n",
            "Epoch [1000/1600], total_loss: 0.28136950731277466, train_mae: 0.3903547525405884, test_mae: 0.3903547525405884\n",
            "Epoch [1200/1600], total_loss: 0.272945761680603, train_mae: 0.39312639832496643, test_mae: 0.39312639832496643\n",
            "Epoch [1400/1600], total_loss: 0.26824450492858887, train_mae: 0.39502519369125366, test_mae: 0.39502519369125366\n",
            "tensor([[ 0.7549, -0.1609, -0.3412, -0.1830,  0.4515,  0.1556, -0.1354,  0.5012],\n",
            "        [ 1.1045, -0.1071, -0.4572, -0.3032,  1.1772,  0.1438, -0.0427,  0.6781],\n",
            "        [ 0.7997, -0.1694, -0.4994, -0.2020,  0.3431,  0.1578, -0.3580,  0.6524],\n",
            "        [ 0.4574, -0.0361, -0.4390, -0.1261,  0.2692,  0.0375, -0.3950,  0.4630],\n",
            "        [ 1.1769, -0.2085, -0.5264, -0.2920,  0.8669,  0.2129, -0.1705,  0.7581],\n",
            "        [ 0.8075, -0.1499, -0.3770, -0.2125,  0.5514,  0.1539, -0.1518,  0.5650]],\n",
            "       grad_fn=<MmBackward0>)\n",
            "tensor([[ 4.0196,  0.3566, -0.3649,  0.2679,  2.8059,  1.6224,  0.4586,  3.0049],\n",
            "        [ 5.4179,  0.5715, -0.8287, -0.2128,  5.7087,  1.5750,  0.8290,  3.7126],\n",
            "        [ 4.1990,  0.3226, -0.9976,  0.1922,  2.3725,  1.6313, -0.4318,  3.6095],\n",
            "        [ 2.8294,  0.8557, -0.7561,  0.4956,  2.0770,  1.1501, -0.5801,  2.8522],\n",
            "        [ 5.7077,  0.1661, -1.1055, -0.1680,  4.4675,  1.8515,  0.3179,  4.0326],\n",
            "        [ 4.2301,  0.4005, -0.5081,  0.1499,  3.2057,  1.6155,  0.3929,  3.2599]],\n",
            "       grad_fn=<AddBackward0>)\n"
          ]
        }
      ]
    },
    {
      "cell_type": "code",
      "source": [
        "device = torch.device(\"cuda\" if torch.cuda.is_available() else \"cpu\")\n",
        "print(\"Using device:\", device)\n",
        "\n",
        "import torch\n",
        "import torch.nn as nn\n",
        "import torch.optim as optim\n",
        "import numpy as np\n",
        "import random\n",
        "\n",
        "# 필요한 함수들\n",
        "def g(x):\n",
        "  return 1 / (1 + torch.exp(-x))\n",
        "\n",
        "def g_prime(x):\n",
        "  return g(x) * (1- g(x))\n",
        "\n",
        "class SOREC(nn.Module):\n",
        "  def __init__(self, train_R = scaled_train_rating_matrix, test_R = scaled_test_rating_matrix, trust = ui_uk_matrix, l=10, lambC = 10, lambdaUVZ =0.01, learning_rate=1e-3, epochs= 100):\n",
        "    '''\n",
        "    SOREC\n",
        "    논문에서는 gradient descent 직접 업데이트하는 방식\n",
        "    구현은 pytorch의 loss.backward()\n",
        "    '''\n",
        "    super(SOREC, self).__init__()\n",
        "\n",
        "    # 논문은 특이하게 m이 user 수, n이 item 수\n",
        "    self.m, self.n = train_R.shape # Rating\n",
        "    self.test_n, self.test_m = test_R.shape\n",
        "\n",
        "    self.latent_dimension = l\n",
        "\n",
        "    self.train_R = train_R # 80            (100, 1000)\n",
        "    self.test_R = test_R   # 20 비율       (100, 1000)\n",
        "    self.trust = trust     # trust ratings (100, 100)\n",
        "\n",
        "    self.lr = learning_rate\n",
        "    self.epoch = epochs\n",
        "    self.lambdaC = lambC\n",
        "    self.lambdaUVZ = lambdaUVZ # 공통으로 사용\n",
        "\n",
        "    self.U = nn.Parameter(torch.randn(self.latent_dimension, self.m)).to(device) # (l, m)\n",
        "    self.Z = nn.Parameter(torch.randn(self.latent_dimension, self.m)).to(device) # (l, m)\n",
        "    self.V = nn.Parameter(torch.randn(self.latent_dimension, self.n)).to(device) # (l, n)\n",
        "\n",
        "    # for SoReg\n",
        "    # self.outlink_friends = {user: np.where(self.trust[user, :] > 0)[0] for user in range(self.m)}\n",
        "    # self.inlink_friends = {user: np.where(self.trust[:, user] > 0)[0] for user in range(self.m)}\n",
        "\n",
        "    self.myparameters = nn.ParameterList([self.U, self.Z, self.V])\n",
        "\n",
        "    self.optimizer = torch.optim.Adam(self.myparameters, lr= self.lr)\n",
        "\n",
        "    self.completed_rating_matrix = torch.matmul(self.U.T, self.V)\n",
        "\n",
        "  def forward_user_item(self, u):\n",
        "    # user 들어올 때마다 모든 item에 대한 rating 차이 구하기\n",
        "    predicted_rating = g(torch.matmul(self.U[:, u].T, self.V)) # (l,) (l, n) => (n)\n",
        "    loss = 0\n",
        "    for v in range(1000):\n",
        "      # R이 있는 경우만\n",
        "      if self.train_R[u, v]:\n",
        "        loss += (self.train_R[u, v] - predicted_rating[v]) ** 2\n",
        "\n",
        "    return loss / 2\n",
        "\n",
        "  def forward_social(self, u):\n",
        "    # user 들어올 때마다 trusted user 대한 trust 차이 구하기\n",
        "    predicted_trust = g(torch.matmul(self.U[:, u].T, self.Z)) # (m)\n",
        "    loss = 0\n",
        "    for z in range(100):\n",
        "      if self.trust[u, z]:\n",
        "        loss += (self.trust[u, z] - predicted_trust[z]) ** 2\n",
        "\n",
        "    return self.lambdaC * loss / 2\n",
        "\n",
        "  def train_mae(self):\n",
        "    mae_loss = 0\n",
        "    train_num = 0\n",
        "    cm = torch.matmul(self.U.T, self.V)\n",
        "    for u in range(100):\n",
        "      for v in range(1000):\n",
        "        if self.train_R[u, v]:\n",
        "          train_num += 1 # .8\n",
        "          mae_loss += abs(cm[u, v] - self.train_R[u, v])\n",
        "\n",
        "    return mae_loss.item() / train_num\n",
        "\n",
        "  def test_accuracy(self):\n",
        "    mae_loss = 0\n",
        "    test_num = 0\n",
        "    cm = torch.matmul(self.U.T, self.V)\n",
        "    for u in range(100):\n",
        "      for v in range(1000):\n",
        "        if self.test_R[u, v]:\n",
        "          test_num += 1 # .2\n",
        "          mae_loss += abs(cm[u, v] - self.test_R[u, v])\n",
        "\n",
        "    return mae_loss.item() / test_num\n",
        "\n",
        "\n",
        "  def get_complete_matrix(self):\n",
        "    self.completed_rating_matrix  = torch.matmul(self.U.T, self.V)\n",
        "    return self.completed_rating_matrix\n",
        "\n",
        "  def fit(self):\n",
        "    train_loss_list = []\n",
        "    test_loss_list = []\n",
        "\n",
        "    for epoch in range(self.epoch):\n",
        "      #print(epoch)\n",
        "      total_loss = 0\n",
        "      for u in range(self.m):\n",
        "\n",
        "        # user-item matrix loss\n",
        "        loss1 = self.forward_user_item(u)\n",
        "\n",
        "        # trust matrix loss\n",
        "        loss2 = self.forward_social(u)\n",
        "\n",
        "        total_loss = loss1 + loss2 + self.lambdaUVZ * (torch.sum(self.U ** 2) + torch.sum(self.V ** 2) + torch.sum(self.Z ** 2)).to(device)\n",
        "\n",
        "        self.optimizer.zero_grad()\n",
        "        total_loss.backward()\n",
        "        self.optimizer.step()\n",
        "\n",
        "        #self.completed_rating_matrix = torch.matmul(self.U.T, self.V)\n",
        "      test_mae = self.test_accuracy()\n",
        "      train_loss_list.append(total_loss)\n",
        "      test_loss_list.append(test_mae)\n",
        "\n",
        "      if epoch % 40 == 0:\n",
        "        train_mae = self.train_mae()\n",
        "        print(f'Epoch [{epoch}/{self.epoch}], total_loss: {total_loss}, train_mae: {train_mae} test_mae: {test_mae}')\n",
        "\n",
        "\n",
        "    return train_loss_list, test_loss_list\n",
        "\n",
        "\n",
        "model = SOREC(epochs=200).to(device)\n",
        "\n",
        "# Train the model\n",
        "train_loss_list, test_loss_list = model.fit()\n",
        "plt.plot(test_loss_list, label='Test Loss')"
      ],
      "metadata": {
        "colab": {
          "base_uri": "https://localhost:8080/",
          "height": 421
        },
        "id": "w76bQTVYbg2a",
        "outputId": "fdcedf6f-77de-46e0-958b-de2cf8ef8e05"
      },
      "execution_count": null,
      "outputs": [
        {
          "output_type": "stream",
          "name": "stdout",
          "text": [
            "Using device: cuda\n",
            "Epoch [0/200], total_loss: 476.83154296875, train_mae: 2.3476864207319514 test_mae: 2.3469850702049144\n"
          ]
        },
        {
          "output_type": "error",
          "ename": "KeyboardInterrupt",
          "evalue": "",
          "traceback": [
            "\u001b[0;31m---------------------------------------------------------------------------\u001b[0m",
            "\u001b[0;31mKeyboardInterrupt\u001b[0m                         Traceback (most recent call last)",
            "\u001b[0;32m<ipython-input-101-12294d80558f>\u001b[0m in \u001b[0;36m<cell line: 142>\u001b[0;34m()\u001b[0m\n\u001b[1;32m    140\u001b[0m \u001b[0;34m\u001b[0m\u001b[0m\n\u001b[1;32m    141\u001b[0m \u001b[0;31m# Train the model\u001b[0m\u001b[0;34m\u001b[0m\u001b[0;34m\u001b[0m\u001b[0m\n\u001b[0;32m--> 142\u001b[0;31m \u001b[0mtrain_loss_list\u001b[0m\u001b[0;34m,\u001b[0m \u001b[0mtest_loss_list\u001b[0m \u001b[0;34m=\u001b[0m \u001b[0mmodel\u001b[0m\u001b[0;34m.\u001b[0m\u001b[0mfit\u001b[0m\u001b[0;34m(\u001b[0m\u001b[0;34m)\u001b[0m\u001b[0;34m\u001b[0m\u001b[0;34m\u001b[0m\u001b[0m\n\u001b[0m\u001b[1;32m    143\u001b[0m \u001b[0mplt\u001b[0m\u001b[0;34m.\u001b[0m\u001b[0mplot\u001b[0m\u001b[0;34m(\u001b[0m\u001b[0mtest_loss_list\u001b[0m\u001b[0;34m,\u001b[0m \u001b[0mlabel\u001b[0m\u001b[0;34m=\u001b[0m\u001b[0;34m'Test Loss'\u001b[0m\u001b[0;34m)\u001b[0m\u001b[0;34m\u001b[0m\u001b[0;34m\u001b[0m\u001b[0m\n",
            "\u001b[0;32m<ipython-input-101-12294d80558f>\u001b[0m in \u001b[0;36mfit\u001b[0;34m(self)\u001b[0m\n\u001b[1;32m    113\u001b[0m \u001b[0;34m\u001b[0m\u001b[0m\n\u001b[1;32m    114\u001b[0m         \u001b[0;31m# user-item matrix loss\u001b[0m\u001b[0;34m\u001b[0m\u001b[0;34m\u001b[0m\u001b[0m\n\u001b[0;32m--> 115\u001b[0;31m         \u001b[0mloss1\u001b[0m \u001b[0;34m=\u001b[0m \u001b[0mself\u001b[0m\u001b[0;34m.\u001b[0m\u001b[0mforward_user_item\u001b[0m\u001b[0;34m(\u001b[0m\u001b[0mu\u001b[0m\u001b[0;34m)\u001b[0m\u001b[0;34m\u001b[0m\u001b[0;34m\u001b[0m\u001b[0m\n\u001b[0m\u001b[1;32m    116\u001b[0m \u001b[0;34m\u001b[0m\u001b[0m\n\u001b[1;32m    117\u001b[0m         \u001b[0;31m# trust matrix loss\u001b[0m\u001b[0;34m\u001b[0m\u001b[0;34m\u001b[0m\u001b[0m\n",
            "\u001b[0;32m<ipython-input-101-12294d80558f>\u001b[0m in \u001b[0;36mforward_user_item\u001b[0;34m(self, u)\u001b[0m\n\u001b[1;32m     60\u001b[0m       \u001b[0;31m# R이 있는 경우만\u001b[0m\u001b[0;34m\u001b[0m\u001b[0;34m\u001b[0m\u001b[0m\n\u001b[1;32m     61\u001b[0m       \u001b[0;32mif\u001b[0m \u001b[0mself\u001b[0m\u001b[0;34m.\u001b[0m\u001b[0mtrain_R\u001b[0m\u001b[0;34m[\u001b[0m\u001b[0mu\u001b[0m\u001b[0;34m,\u001b[0m \u001b[0mv\u001b[0m\u001b[0;34m]\u001b[0m\u001b[0;34m:\u001b[0m\u001b[0;34m\u001b[0m\u001b[0;34m\u001b[0m\u001b[0m\n\u001b[0;32m---> 62\u001b[0;31m         \u001b[0mloss\u001b[0m \u001b[0;34m+=\u001b[0m \u001b[0;34m(\u001b[0m\u001b[0mself\u001b[0m\u001b[0;34m.\u001b[0m\u001b[0mtrain_R\u001b[0m\u001b[0;34m[\u001b[0m\u001b[0mu\u001b[0m\u001b[0;34m,\u001b[0m \u001b[0mv\u001b[0m\u001b[0;34m]\u001b[0m \u001b[0;34m-\u001b[0m \u001b[0mpredicted_rating\u001b[0m\u001b[0;34m[\u001b[0m\u001b[0mv\u001b[0m\u001b[0;34m]\u001b[0m\u001b[0;34m)\u001b[0m \u001b[0;34m**\u001b[0m \u001b[0;36m2\u001b[0m\u001b[0;34m\u001b[0m\u001b[0;34m\u001b[0m\u001b[0m\n\u001b[0m\u001b[1;32m     63\u001b[0m \u001b[0;34m\u001b[0m\u001b[0m\n\u001b[1;32m     64\u001b[0m     \u001b[0;32mreturn\u001b[0m \u001b[0mloss\u001b[0m \u001b[0;34m/\u001b[0m \u001b[0;36m2\u001b[0m\u001b[0;34m\u001b[0m\u001b[0;34m\u001b[0m\u001b[0m\n",
            "\u001b[0;32m/usr/local/lib/python3.10/dist-packages/torch/_tensor.py\u001b[0m in \u001b[0;36mwrapped\u001b[0;34m(*args, **kwargs)\u001b[0m\n\u001b[1;32m     36\u001b[0m         \u001b[0;32mtry\u001b[0m\u001b[0;34m:\u001b[0m\u001b[0;34m\u001b[0m\u001b[0;34m\u001b[0m\u001b[0m\n\u001b[1;32m     37\u001b[0m             \u001b[0;31m# See https://github.com/pytorch/pytorch/issues/75462\u001b[0m\u001b[0;34m\u001b[0m\u001b[0;34m\u001b[0m\u001b[0m\n\u001b[0;32m---> 38\u001b[0;31m             \u001b[0;32mif\u001b[0m \u001b[0mhas_torch_function\u001b[0m\u001b[0;34m(\u001b[0m\u001b[0margs\u001b[0m\u001b[0;34m)\u001b[0m\u001b[0;34m:\u001b[0m\u001b[0;34m\u001b[0m\u001b[0;34m\u001b[0m\u001b[0m\n\u001b[0m\u001b[1;32m     39\u001b[0m                 \u001b[0;32mreturn\u001b[0m \u001b[0mhandle_torch_function\u001b[0m\u001b[0;34m(\u001b[0m\u001b[0mwrapped\u001b[0m\u001b[0;34m,\u001b[0m \u001b[0margs\u001b[0m\u001b[0;34m,\u001b[0m \u001b[0;34m*\u001b[0m\u001b[0margs\u001b[0m\u001b[0;34m,\u001b[0m \u001b[0;34m**\u001b[0m\u001b[0mkwargs\u001b[0m\u001b[0;34m)\u001b[0m\u001b[0;34m\u001b[0m\u001b[0;34m\u001b[0m\u001b[0m\n\u001b[1;32m     40\u001b[0m             \u001b[0;32mreturn\u001b[0m \u001b[0mf\u001b[0m\u001b[0;34m(\u001b[0m\u001b[0;34m*\u001b[0m\u001b[0margs\u001b[0m\u001b[0;34m,\u001b[0m \u001b[0;34m**\u001b[0m\u001b[0mkwargs\u001b[0m\u001b[0;34m)\u001b[0m\u001b[0;34m\u001b[0m\u001b[0;34m\u001b[0m\u001b[0m\n",
            "\u001b[0;31mKeyboardInterrupt\u001b[0m: "
          ]
        }
      ]
    },
    {
      "cell_type": "code",
      "source": [],
      "metadata": {
        "id": "T0H1wcaxo150"
      },
      "execution_count": null,
      "outputs": []
    }
  ]
}