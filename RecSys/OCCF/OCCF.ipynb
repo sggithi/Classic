{
  "nbformat": 4,
  "nbformat_minor": 0,
  "metadata": {
    "colab": {
      "provenance": [],
      "gpuType": "T4"
    },
    "kernelspec": {
      "name": "python3",
      "display_name": "Python 3"
    },
    "language_info": {
      "name": "python"
    },
    "accelerator": "GPU"
  },
  "cells": [
    {
      "cell_type": "code",
      "source": [
        "#Colab setting\n",
        "from google.colab import drive\n",
        "drive.mount('/content/drive')\n",
        "\n",
        "import sys\n",
        "sys.path.append('/content/drive/My Drive/DSAIL')\n",
        "\n",
        "import os\n",
        "os.chdir('/content/drive/My Drive/DSAIL')"
      ],
      "metadata": {
        "colab": {
          "base_uri": "https://localhost:8080/"
        },
        "id": "kp2VLPKnmids",
        "outputId": "b6567090-d958-4c2e-8f69-ecf8de004b1d"
      },
      "execution_count": 1,
      "outputs": [
        {
          "output_type": "stream",
          "name": "stdout",
          "text": [
            "Mounted at /content/drive\n"
          ]
        }
      ]
    },
    {
      "cell_type": "code",
      "execution_count": 2,
      "metadata": {
        "id": "VfEsegib1jW4"
      },
      "outputs": [],
      "source": [
        "# Data U1.base로 train, u1.test로 test data만들기\n",
        "# U.data는 현재 ([\"user_id\", \"movie_id\", \"rating\", \"timestamp\"])로 구성\n",
        "import pandas as pd\n",
        "import numpy as np\n",
        "\n",
        "file_path = \"ml-100k/u1.base\"\n",
        "columns = [\"user_id\", \"movie_id\", \"rating\", \"timestamp\"]\n",
        "train_data = pd.read_csv(file_path, sep='\\t', names=columns)\n",
        "user_movie_matrix = train_data.pivot(index='user_id', columns='movie_id', values='rating')\n",
        "train = user_movie_matrix.fillna(0).to_numpy(dtype=np.float32)\n",
        "\n",
        "file_path = \"ml-100k/u1.test\"\n",
        "columns = [\"user_id\", \"movie_id\", \"rating\", \"timestamp\"]\n",
        "test_data = pd.read_csv(file_path, sep='\\t', names=columns)\n",
        "user_movie_matrix = test_data.pivot(index='user_id', columns='movie_id', values='rating')\n",
        "test = user_movie_matrix.fillna(0).to_numpy(dtype=np.float32)\n",
        "\n",
        "\n",
        "# # GPU\n",
        "# device = torch.device('cuda' if torch.cuda.is_available() else 'cpu')\n",
        "# print(\"device\", device)\n"
      ]
    },
    {
      "cell_type": "code",
      "source": [
        "import torch\n",
        "import torch.nn as nn\n",
        "import torch.optim as optim\n",
        "import numpy as np\n",
        "\n",
        "class OCCF():\n",
        "  def __init__(self, train_R, test_R, d=50, learning_rate=1e-3, epochs= 50, reg = 0.01, type= 'default'):\n",
        "    '''\n",
        "    OCCF\n",
        "    type: default C = 1 + alpha * r\n",
        "          else: C = 1 + self.alpha * np.log(1 + self.train_R / self.eps)\n",
        "    '''\n",
        "    super(OCCF, self).__init__()\n",
        "    self.num_user, self.num_item = train_R.shape\n",
        "    self.test_n, self.test_m = test_R.shape\n",
        "\n",
        "    self.latent_dimension = d\n",
        "\n",
        "    self.train_R = train_R\n",
        "    self.train_P = np.array(train_R > 0, dtype=np.float16) # implicit\n",
        "    self.test_R = test_R\n",
        "    self.test_P = np.array(test_R > 0, dtype=np.float16) # implicit\n",
        "\n",
        "    self.lr = learning_rate\n",
        "    self.epoch = epochs\n",
        "    self.reg = reg\n",
        "    self.criterion = nn.MSELoss()\n",
        "    print(\"Number of User:\", self.num_user)\n",
        "    print(\"Number of Movies:\", self.num_item)\n",
        "    print(\"Shape of train_R:\", self.train_R.shape)\n",
        "    print(\"Shape of test_R:\", self.test_R.shape)\n",
        "\n",
        "    self.alpha = 40\n",
        "    self.eps = 3e-4 # 적정값 뭐지,,\n",
        "\n",
        "    if type == 'default':\n",
        "      self.C = 1 + self.alpha * self.train_R # (N, M) confidence\n",
        "    else:\n",
        "      self.C = 1 + self.alpha * np.log(1 + self.train_R / self.eps)\n",
        "    self.test_C = 1 + self.alpha * self.test_R\n",
        "    # initialize X & Y randomly\n",
        "    self.X = np.random.standard_normal((self.num_user, self.latent_dimension))\n",
        "    self.Y = np.random.standard_normal((self.num_item, self.latent_dimension))\n",
        "\n",
        "    #self.YTY\n",
        "    #self.XTX\n",
        "  def update_X(self):\n",
        "    # YTY는 주어진 상태로, 모든 user에 대하여 X 업데이트\n",
        "    for u in range(self.num_user):\n",
        "      Cu = np.diag(self.C[u, :]) # Cu\n",
        "      first = self.YTY + self.Y.T.dot(Cu - np.identity(self.num_item)).dot(self.Y) + self.reg * np.identity(self.latent_dimension) #(f, f) latent_dimension: f\n",
        "      second = self.Y.T.dot(Cu).dot(self.train_P[u, :].T) # (f, num_item) X (num_item, 1)) => (f, 1) 아ㅓㅣㅏㅓㅏ item이 논문에서는 n num_item으로 수정\n",
        "      # X = first-1second를 계산하고 싶고 firstX=second 식을 푸는 셈\n",
        "\n",
        "      self.X[u, :] = np.linalg.solve(first, second) # X\n",
        "\n",
        "  def update_Y(self):\n",
        "    # XTX 주어진 상태로, 모든 item에 대하여 Y 업데이트\n",
        "    for i in range(self.num_item):\n",
        "      Ci = np.diag(self.C[:, i]) # ci 각 item에 대하여 interaction 있는 user\n",
        "\n",
        "      first = self.XTX + self.X.T.dot(Ci - np.identity(self.num_user)).dot(self.X) + self.reg * np.identity(self.latent_dimension) #(f, f) latent_dimension: f\n",
        "      second = self.X.T.dot(Ci).dot(self.train_P[:, i].T) # (f, num_user) X (num_user, 1)) => (f, 1)\n",
        "\n",
        "      self.Y[i, :] = np.linalg.solve(first, second)\n",
        "\n",
        "\n",
        "  def loss(self): # X: (num_user, f) Y (num_item, f) => XYT(num_user, num_item) / 논문대로 였으면 (D, N) 이렇게 시작했어야 함,,\n",
        "    return np.sum(self.C * np.square(self.train_P - self.X.dot(self.Y.T))) + self.reg * (np.linalg.norm(self.X) + np.linalg.norm(self.Y))\n",
        "\n",
        "  def prediction(self):\n",
        "    return self.X.dot(self.Y.T)\n",
        "\n",
        "  def rank(self, train=True):\n",
        "    predicted_p = self.prediction()\n",
        "    # 결국 P가 클수록 선호도가 크다고 봄\n",
        "    # rank 낮은 애를 많이 추천할수록 성능 good -> rank의 값은 작을수록 좋음\n",
        "    # 빈 rank 행렬\n",
        "    rank = np.zeros((self.num_user, self.num_item))\n",
        "    if train:\n",
        "      for u in range(self.num_user):\n",
        "        pu = predicted_p[u, :] # user당 item 나열\n",
        "        pu_rank = np.argsort(-pu) # -p값 작은애부터 큰 순서대로 index -> 결국 p 큰 애들부터 작은 index\n",
        "        rank[u, :] = pu_rank / self.num_item\n",
        "\n",
        "      return np.sum(self.train_R * rank) / np.sum(self.train_R)\n",
        "    else:\n",
        "      rank = np.zeros((self.test_n, self.test_m))\n",
        "      predicted =predicted_p[:self.test_n, :self.test_m]\n",
        "      for u in range(self.test_n):\n",
        "        pu = predicted[u, :] # user당 item 나열\n",
        "        pu_rank = np.argsort(-pu) # -p값 작은애부터 큰 순서대로 index -> 결국 p 큰 애들부터 작은 index\n",
        "        rank[u, :] = pu_rank / self.test_m\n",
        "      return np.sum(self.test_R * rank) / np.sum(self.test_R)\n",
        "\n",
        "  def fit(self):\n",
        "    train_loss_list = []\n",
        "    test_loss_list = []\n",
        "    for epoch in range(self.epoch):\n",
        "      # X, Y 번갈아 가면서 업데이트\n",
        "      self.YTY = self.Y.T.dot(self.Y)\n",
        "      self.update_X()\n",
        "      self.XTX = self.X.T.dot(self.X)\n",
        "      self.update_Y()\n",
        "      train_loss = self.loss()\n",
        "\n",
        "      train_loss_list.append(train_loss)\n",
        "\n",
        "      train_ranking = self.rank()\n",
        "      test_ranking = self.rank(train= False)\n",
        "\n",
        "      if epoch % 10 == 0:\n",
        "        print(f'Epoch [{epoch}/{self.epoch}], train_loss: {train_loss}')\n",
        "        print(f'Epoch [{epoch}/{self.epoch}], train_ranking: {train_ranking}, test_ranking: {test_ranking}')\n",
        "    return train_loss_list, test_loss_list\n"
      ],
      "metadata": {
        "id": "rMWknOoG1u7i"
      },
      "execution_count": null,
      "outputs": []
    },
    {
      "cell_type": "code",
      "source": [
        "import matplotlib.pyplot as plt\n",
        "\n",
        "model = OCCF(train_R = train, test_R = test, d=15, epochs= 40)\n",
        "\n",
        "# Train the model\n",
        "train_loss_list, test_loss_list = model.fit()\n",
        "train_loss_tensor = torch.tensor(train_loss_list, dtype=torch.float32)\n",
        "plt.plot(train_loss_tensor.cpu().numpy())\n",
        "test_loss_tensor = torch.tensor(test_loss_list, dtype=torch.float32)\n",
        "plt.plot(test_loss_tensor.cpu().numpy())"
      ],
      "metadata": {
        "colab": {
          "base_uri": "https://localhost:8080/",
          "height": 677
        },
        "id": "GUepMojN8z2e",
        "outputId": "fe8ed9f5-57e1-4a2b-f463-3ecb8f19075a"
      },
      "execution_count": null,
      "outputs": [
        {
          "output_type": "stream",
          "name": "stdout",
          "text": [
            "Number of User: 943\n",
            "Number of Movies: 1650\n",
            "Shape of train_R: (943, 1650)\n",
            "Shape of test_R: (459, 1410)\n",
            "Epoch [0/40], train_loss: 2194190.5110936295\n",
            "Epoch [0/40], train_ranking: 0.3655309868850193, test_ranking: 0.4184018173069383\n",
            "Epoch [10/40], train_loss: 364627.46992818575\n",
            "Epoch [10/40], train_ranking: 0.3559133335995754, test_ranking: 0.3909610220917401\n",
            "Epoch [20/40], train_loss: 359610.53634769545\n",
            "Epoch [20/40], train_ranking: 0.3575219187782426, test_ranking: 0.3913836476473633\n",
            "Epoch [30/40], train_loss: 357369.72650968545\n",
            "Epoch [30/40], train_ranking: 0.3572640915940192, test_ranking: 0.39437646559033085\n"
          ]
        },
        {
          "output_type": "error",
          "ename": "KeyboardInterrupt",
          "evalue": "",
          "traceback": [
            "\u001b[0;31m---------------------------------------------------------------------------\u001b[0m",
            "\u001b[0;31mKeyboardInterrupt\u001b[0m                         Traceback (most recent call last)",
            "\u001b[0;32m<ipython-input-52-b016be8ea381>\u001b[0m in \u001b[0;36m<cell line: 6>\u001b[0;34m()\u001b[0m\n\u001b[1;32m      4\u001b[0m \u001b[0;34m\u001b[0m\u001b[0m\n\u001b[1;32m      5\u001b[0m \u001b[0;31m# Train the model\u001b[0m\u001b[0;34m\u001b[0m\u001b[0;34m\u001b[0m\u001b[0m\n\u001b[0;32m----> 6\u001b[0;31m \u001b[0mtrain_loss_list\u001b[0m\u001b[0;34m,\u001b[0m \u001b[0mtest_loss_list\u001b[0m \u001b[0;34m=\u001b[0m \u001b[0mmodel\u001b[0m\u001b[0;34m.\u001b[0m\u001b[0mfit\u001b[0m\u001b[0;34m(\u001b[0m\u001b[0;34m)\u001b[0m\u001b[0;34m\u001b[0m\u001b[0;34m\u001b[0m\u001b[0m\n\u001b[0m\u001b[1;32m      7\u001b[0m \u001b[0mtrain_loss_tensor\u001b[0m \u001b[0;34m=\u001b[0m \u001b[0mtorch\u001b[0m\u001b[0;34m.\u001b[0m\u001b[0mtensor\u001b[0m\u001b[0;34m(\u001b[0m\u001b[0mtrain_loss_list\u001b[0m\u001b[0;34m,\u001b[0m \u001b[0mdtype\u001b[0m\u001b[0;34m=\u001b[0m\u001b[0mtorch\u001b[0m\u001b[0;34m.\u001b[0m\u001b[0mfloat32\u001b[0m\u001b[0;34m)\u001b[0m\u001b[0;34m\u001b[0m\u001b[0;34m\u001b[0m\u001b[0m\n\u001b[1;32m      8\u001b[0m \u001b[0mplt\u001b[0m\u001b[0;34m.\u001b[0m\u001b[0mplot\u001b[0m\u001b[0;34m(\u001b[0m\u001b[0mtrain_loss_tensor\u001b[0m\u001b[0;34m.\u001b[0m\u001b[0mcpu\u001b[0m\u001b[0;34m(\u001b[0m\u001b[0;34m)\u001b[0m\u001b[0;34m.\u001b[0m\u001b[0mnumpy\u001b[0m\u001b[0;34m(\u001b[0m\u001b[0;34m)\u001b[0m\u001b[0;34m)\u001b[0m\u001b[0;34m\u001b[0m\u001b[0;34m\u001b[0m\u001b[0m\n",
            "\u001b[0;32m<ipython-input-51-ff833999283a>\u001b[0m in \u001b[0;36mfit\u001b[0;34m(self)\u001b[0m\n\u001b[1;32m    100\u001b[0m       \u001b[0;31m# X, Y 번갈아 가면서 업데이트\u001b[0m\u001b[0;34m\u001b[0m\u001b[0;34m\u001b[0m\u001b[0m\n\u001b[1;32m    101\u001b[0m       \u001b[0mself\u001b[0m\u001b[0;34m.\u001b[0m\u001b[0mYTY\u001b[0m \u001b[0;34m=\u001b[0m \u001b[0mself\u001b[0m\u001b[0;34m.\u001b[0m\u001b[0mY\u001b[0m\u001b[0;34m.\u001b[0m\u001b[0mT\u001b[0m\u001b[0;34m.\u001b[0m\u001b[0mdot\u001b[0m\u001b[0;34m(\u001b[0m\u001b[0mself\u001b[0m\u001b[0;34m.\u001b[0m\u001b[0mY\u001b[0m\u001b[0;34m)\u001b[0m\u001b[0;34m\u001b[0m\u001b[0;34m\u001b[0m\u001b[0m\n\u001b[0;32m--> 102\u001b[0;31m       \u001b[0mself\u001b[0m\u001b[0;34m.\u001b[0m\u001b[0mupdate_X\u001b[0m\u001b[0;34m(\u001b[0m\u001b[0;34m)\u001b[0m\u001b[0;34m\u001b[0m\u001b[0;34m\u001b[0m\u001b[0m\n\u001b[0m\u001b[1;32m    103\u001b[0m       \u001b[0mself\u001b[0m\u001b[0;34m.\u001b[0m\u001b[0mXTX\u001b[0m \u001b[0;34m=\u001b[0m \u001b[0mself\u001b[0m\u001b[0;34m.\u001b[0m\u001b[0mX\u001b[0m\u001b[0;34m.\u001b[0m\u001b[0mT\u001b[0m\u001b[0;34m.\u001b[0m\u001b[0mdot\u001b[0m\u001b[0;34m(\u001b[0m\u001b[0mself\u001b[0m\u001b[0;34m.\u001b[0m\u001b[0mX\u001b[0m\u001b[0;34m)\u001b[0m\u001b[0;34m\u001b[0m\u001b[0;34m\u001b[0m\u001b[0m\n\u001b[1;32m    104\u001b[0m       \u001b[0mself\u001b[0m\u001b[0;34m.\u001b[0m\u001b[0mupdate_Y\u001b[0m\u001b[0;34m(\u001b[0m\u001b[0;34m)\u001b[0m\u001b[0;34m\u001b[0m\u001b[0;34m\u001b[0m\u001b[0m\n",
            "\u001b[0;32m<ipython-input-51-ff833999283a>\u001b[0m in \u001b[0;36mupdate_X\u001b[0;34m(self)\u001b[0m\n\u001b[1;32m     49\u001b[0m     \u001b[0;32mfor\u001b[0m \u001b[0mu\u001b[0m \u001b[0;32min\u001b[0m \u001b[0mrange\u001b[0m\u001b[0;34m(\u001b[0m\u001b[0mself\u001b[0m\u001b[0;34m.\u001b[0m\u001b[0mnum_user\u001b[0m\u001b[0;34m)\u001b[0m\u001b[0;34m:\u001b[0m\u001b[0;34m\u001b[0m\u001b[0;34m\u001b[0m\u001b[0m\n\u001b[1;32m     50\u001b[0m       \u001b[0mCu\u001b[0m \u001b[0;34m=\u001b[0m \u001b[0mnp\u001b[0m\u001b[0;34m.\u001b[0m\u001b[0mdiag\u001b[0m\u001b[0;34m(\u001b[0m\u001b[0mself\u001b[0m\u001b[0;34m.\u001b[0m\u001b[0mC\u001b[0m\u001b[0;34m[\u001b[0m\u001b[0mu\u001b[0m\u001b[0;34m,\u001b[0m \u001b[0;34m:\u001b[0m\u001b[0;34m]\u001b[0m\u001b[0;34m)\u001b[0m \u001b[0;31m# Cu\u001b[0m\u001b[0;34m\u001b[0m\u001b[0;34m\u001b[0m\u001b[0m\n\u001b[0;32m---> 51\u001b[0;31m       \u001b[0mfirst\u001b[0m \u001b[0;34m=\u001b[0m \u001b[0mself\u001b[0m\u001b[0;34m.\u001b[0m\u001b[0mYTY\u001b[0m \u001b[0;34m+\u001b[0m \u001b[0mself\u001b[0m\u001b[0;34m.\u001b[0m\u001b[0mY\u001b[0m\u001b[0;34m.\u001b[0m\u001b[0mT\u001b[0m\u001b[0;34m.\u001b[0m\u001b[0mdot\u001b[0m\u001b[0;34m(\u001b[0m\u001b[0mCu\u001b[0m \u001b[0;34m-\u001b[0m \u001b[0mnp\u001b[0m\u001b[0;34m.\u001b[0m\u001b[0midentity\u001b[0m\u001b[0;34m(\u001b[0m\u001b[0mself\u001b[0m\u001b[0;34m.\u001b[0m\u001b[0mnum_item\u001b[0m\u001b[0;34m)\u001b[0m\u001b[0;34m)\u001b[0m\u001b[0;34m.\u001b[0m\u001b[0mdot\u001b[0m\u001b[0;34m(\u001b[0m\u001b[0mself\u001b[0m\u001b[0;34m.\u001b[0m\u001b[0mY\u001b[0m\u001b[0;34m)\u001b[0m \u001b[0;34m+\u001b[0m \u001b[0mself\u001b[0m\u001b[0;34m.\u001b[0m\u001b[0mreg\u001b[0m \u001b[0;34m*\u001b[0m \u001b[0mnp\u001b[0m\u001b[0;34m.\u001b[0m\u001b[0midentity\u001b[0m\u001b[0;34m(\u001b[0m\u001b[0mself\u001b[0m\u001b[0;34m.\u001b[0m\u001b[0mlatent_dimension\u001b[0m\u001b[0;34m)\u001b[0m \u001b[0;31m#(f, f) latent_dimension: f\u001b[0m\u001b[0;34m\u001b[0m\u001b[0;34m\u001b[0m\u001b[0m\n\u001b[0m\u001b[1;32m     52\u001b[0m       \u001b[0msecond\u001b[0m \u001b[0;34m=\u001b[0m \u001b[0mself\u001b[0m\u001b[0;34m.\u001b[0m\u001b[0mY\u001b[0m\u001b[0;34m.\u001b[0m\u001b[0mT\u001b[0m\u001b[0;34m.\u001b[0m\u001b[0mdot\u001b[0m\u001b[0;34m(\u001b[0m\u001b[0mCu\u001b[0m\u001b[0;34m)\u001b[0m\u001b[0;34m.\u001b[0m\u001b[0mdot\u001b[0m\u001b[0;34m(\u001b[0m\u001b[0mself\u001b[0m\u001b[0;34m.\u001b[0m\u001b[0mtrain_P\u001b[0m\u001b[0;34m[\u001b[0m\u001b[0mu\u001b[0m\u001b[0;34m,\u001b[0m \u001b[0;34m:\u001b[0m\u001b[0;34m]\u001b[0m\u001b[0;34m.\u001b[0m\u001b[0mT\u001b[0m\u001b[0;34m)\u001b[0m \u001b[0;31m# (f, num_item) X (num_item, 1)) => (f, 1) 아ㅓㅣㅏㅓㅏ item이 논문에서는 n num_item으로 수정\u001b[0m\u001b[0;34m\u001b[0m\u001b[0;34m\u001b[0m\u001b[0m\n\u001b[1;32m     53\u001b[0m       \u001b[0;31m# X = first-1second를 계산하고 싶고 firstX=second 식을 푸는 셈\u001b[0m\u001b[0;34m\u001b[0m\u001b[0;34m\u001b[0m\u001b[0m\n",
            "\u001b[0;31mKeyboardInterrupt\u001b[0m: "
          ]
        }
      ]
    },
    {
      "cell_type": "code",
      "source": [
        "import torch\n",
        "import torch.nn as nn\n",
        "import torch.optim as optim\n",
        "import numpy as np\n",
        "\n",
        "class OCCF():\n",
        "  def __init__(self, train_R, test_R, d=50, learning_rate=1e-3, epochs= 50, reg = 0.01, type= 'default'):\n",
        "    '''\n",
        "    OCCF\n",
        "    type: default C = 1 + alpha * r\n",
        "          else: C = 1 + self.alpha * np.log(1 + self.train_R / self.eps)\n",
        "    '''\n",
        "    super(OCCF, self).__init__()\n",
        "    self.num_user, self.num_item = train_R.shape\n",
        "    self.test_n, self.test_m = test_R.shape\n",
        "\n",
        "    self.latent_dimension = d\n",
        "\n",
        "    self.train_R = train_R\n",
        "    self.train_P = np.array(train_R > 0, dtype=np.float16) # implicit\n",
        "    self.test_R = test_R\n",
        "    self.test_P = np.array(test_R > 0, dtype=np.float16) # implicit\n",
        "\n",
        "    self.lr = learning_rate\n",
        "    self.epoch = epochs\n",
        "    self.reg = reg\n",
        "    self.criterion = nn.MSELoss()\n",
        "    print(\"Number of User:\", self.num_user)\n",
        "    print(\"Number of Movies:\", self.num_item)\n",
        "    print(\"Shape of train_R:\", self.train_R.shape)\n",
        "    print(\"Shape of test_R:\", self.test_R.shape)\n",
        "\n",
        "    self.alpha = 40\n",
        "    self.eps = 3e-4 # 적정값 뭐지,,\n",
        "\n",
        "    if type == 'default':\n",
        "      self.C = 1 + self.alpha * self.train_R # (N, M) confidence\n",
        "    else:\n",
        "      self.C = 1 + self.alpha * np.log(1 + self.train_R / self.eps)\n",
        "    self.test_C = 1 + self.alpha * self.test_R\n",
        "    # initialize X & Y randomly\n",
        "    self.X = np.random.standard_normal((self.num_user, self.latent_dimension))\n",
        "    self.Y = np.random.standard_normal((self.num_item, self.latent_dimension))\n",
        "\n",
        "    #self.YTY\n",
        "    #self.XTX\n",
        "  def update_X(self):\n",
        "    # YTY는 주어진 상태로, 모든 user에 대하여 X 업데이트\n",
        "    for u in range(self.num_user):\n",
        "      Cu = np.diag(self.C[u, :]) # Cu\n",
        "      first = self.YTY + np.dot(self.Y.T, (Cu - np.identity(self.num_item))).dot(self.Y) + self.reg * np.identity(self.latent_dimension) #(f, f) latent_dimension: f\n",
        "      second = self.Y.T.dot(Cu).dot(self.train_P[u, :]) # (f, num_item) X (num_item, 1)) => (f, 1) 아ㅓㅣㅏㅓㅏ item이 논문에서는 n num_item으로 수정\n",
        "      # X = first-1second를 계산하고 싶고 firstX=second 식을 푸는 셈\n",
        "\n",
        "      self.X[u, :] = np.dot(np.linalg.inv(first), second) # X\n",
        "\n",
        "  def update_Y(self):\n",
        "    # XTX 주어진 상태로, 모든 item에 대하여 Y 업데이트\n",
        "    for i in range(self.num_item):\n",
        "      Ci = np.diag(self.C[:, i]) # ci 각 item에 대하여 interaction 있는 user\n",
        "\n",
        "      first = self.XTX + np.dot(self.X.T, (Ci - np.identity(self.num_user))).dot(self.X) + self.reg * np.identity(self.latent_dimension) #(f, f) latent_dimension: f\n",
        "      second = self.X.T.dot(Ci).dot(self.train_P[:, i]) # (f, num_user) X (num_user, 1)) => (f, 1)\n",
        "\n",
        "      self.Y[i, :] = np.dot(np.linalg.inv(first), second)\n",
        "\n",
        "\n",
        "  def loss(self): # X: (num_user, f) Y (num_item, f) => XYT(num_user, num_item) / 논문대로 였으면 (D, N) 이렇게 시작했어야 함,,\n",
        "    return np.sum(self.C * np.square(self.train_P - self.X.dot(self.Y.T))) + self.reg * (np.linalg.norm(self.X) + np.linalg.norm(self.Y))\n",
        "\n",
        "  def prediction(self):\n",
        "    return self.X.dot(self.Y.T)\n",
        "\n",
        "  def rank(self, train=True):\n",
        "    predicted_p = self.prediction()\n",
        "    # 결국 P가 클수록 선호도가 크다고 봄\n",
        "    # rank 낮은 애를 많이 추천할수록 성능 good -> rank의 값은 작을수록 좋음\n",
        "    # 빈 rank 행렬\n",
        "    rank = np.zeros((self.num_user, self.num_item))\n",
        "    if train:\n",
        "      for u in range(self.num_user):\n",
        "        pu = predicted_p[u, :] # user당 item 나열\n",
        "        pu_rank = np.argsort(-pu) # -p값 작은애부터 큰 순서대로 index -> 결국 p 큰 애들부터 작은 index\n",
        "        rank[u, :] = pu_rank / self.num_item\n",
        "      return np.sum(self.train_R * rank) / np.sum(self.train_R)\n",
        "    else:\n",
        "      rank = np.zeros((self.test_n, self.test_m))\n",
        "      predicted =predicted_p[:self.test_n, :self.test_m]\n",
        "      for u in range(self.test_n):\n",
        "        pu = predicted[u, :] # user당 item 나열\n",
        "        pu_rank = np.argsort(-pu) # -p값 작은애부터 큰 순서대로 index -> 결국 p 큰 애들부터 작은 index\n",
        "        rank[u, :] = pu_rank / self.test_m\n",
        "      return np.sum(self.test_R * rank) / np.sum(self.test_R)\n",
        "\n",
        "  def fit(self):\n",
        "    train_loss_list = []\n",
        "    test_loss_list = []\n",
        "    for epoch in range(self.epoch):\n",
        "      # X, Y 번갈아 가면서 업데이트\n",
        "      self.YTY = self.Y.T.dot(self.Y)\n",
        "      self.update_X()\n",
        "      self.XTX = self.X.T.dot(self.X)\n",
        "      self.update_Y()\n",
        "      train_loss = self.loss()\n",
        "\n",
        "      train_loss_list.append(train_loss)\n",
        "\n",
        "      train_ranking = self.rank()\n",
        "      test_ranking = self.rank(train= False)\n",
        "\n",
        "      print(f'Epoch [{epoch}/{self.epoch}], train_loss: {train_loss}')\n",
        "      print(f'Epoch [{epoch}/{self.epoch}], train_ranking: {train_ranking}, test_ranking: {test_ranking}')\n",
        "    return train_loss_list, test_loss_list\n"
      ],
      "metadata": {
        "id": "y7ZT0AnHEuE2"
      },
      "execution_count": null,
      "outputs": []
    },
    {
      "cell_type": "code",
      "source": [
        "import matplotlib.pyplot as plt\n",
        "\n",
        "model = OCCF(train_R = train, test_R = test, d=15, epochs= 10)\n",
        "\n",
        "# Train the model\n",
        "train_loss_list, test_loss_list = model.fit()\n",
        "train_loss_tensor = torch.tensor(train_loss_list, dtype=torch.float32)\n",
        "plt.plot(train_loss_tensor.cpu().numpy())\n",
        "test_loss_tensor = torch.tensor(test_loss_list, dtype=torch.float32)\n",
        "plt.plot(test_loss_tensor.cpu().numpy())"
      ],
      "metadata": {
        "colab": {
          "base_uri": "https://localhost:8080/",
          "height": 912
        },
        "id": "E7PZP9w1X09m",
        "outputId": "8bef7214-e1ba-4a0c-d688-d4b3f688a0f8"
      },
      "execution_count": null,
      "outputs": [
        {
          "output_type": "stream",
          "name": "stdout",
          "text": [
            "Number of User: 943\n",
            "Number of Movies: 1650\n",
            "Shape of train_R: (943, 1650)\n",
            "Shape of test_R: (459, 1410)\n",
            "Epoch [0/10], train_loss: 1936319.9075989998\n",
            "Epoch [0/10], train_ranking: 0.36098166754054073, test_ranking: 0.414871593677736\n",
            "Epoch [1/10], train_loss: 472109.4293878701\n",
            "Epoch [1/10], train_ranking: 0.3347437616775976, test_ranking: 0.379259887287817\n",
            "Epoch [2/10], train_loss: 406686.49923386023\n",
            "Epoch [2/10], train_ranking: 0.3455409816847175, test_ranking: 0.38416709138825095\n",
            "Epoch [3/10], train_loss: 387439.29965294566\n",
            "Epoch [3/10], train_ranking: 0.3491342206053048, test_ranking: 0.3856552014905269\n",
            "Epoch [4/10], train_loss: 377931.4565176968\n",
            "Epoch [4/10], train_ranking: 0.3526710227245887, test_ranking: 0.38927906444515714\n",
            "Epoch [5/10], train_loss: 372240.57334813307\n",
            "Epoch [5/10], train_ranking: 0.35429285342835565, test_ranking: 0.3882209009553277\n",
            "Epoch [6/10], train_loss: 368650.17698252056\n",
            "Epoch [6/10], train_ranking: 0.35537163692703816, test_ranking: 0.38663676466252217\n",
            "Epoch [7/10], train_loss: 366295.82138392085\n",
            "Epoch [7/10], train_ranking: 0.354849949177893, test_ranking: 0.388626537647582\n",
            "Epoch [8/10], train_loss: 364662.4157569653\n",
            "Epoch [8/10], train_ranking: 0.35647623298897974, test_ranking: 0.3941725892010599\n",
            "Epoch [9/10], train_loss: 363464.24243339244\n",
            "Epoch [9/10], train_ranking: 0.35563979171309806, test_ranking: 0.3896331328166071\n"
          ]
        },
        {
          "output_type": "execute_result",
          "data": {
            "text/plain": [
              "[<matplotlib.lines.Line2D at 0x7ff72111ce20>]"
            ]
          },
          "metadata": {},
          "execution_count": 54
        },
        {
          "output_type": "display_data",
          "data": {
            "text/plain": [
              "<Figure size 640x480 with 1 Axes>"
            ],
            "image/png": "[encoded data removed]"
          },
          "metadata": {}
        }
      ]
    },
    {
      "cell_type": "code",
      "source": [],
      "metadata": {
        "id": "eUbZYN0OzhGC"
      },
      "execution_count": null,
      "outputs": []
    },
    {
      "cell_type": "code",
      "source": [
        "import torch\n",
        "import torch.nn as nn\n",
        "import torch.optim as optim\n",
        "import numpy as np\n",
        "\n",
        "class OCCF():\n",
        "  def __init__(self, train_R, test_R, d=50, learning_rate=1e-3, epochs= 50, reg = 0.01, type= 'default'):\n",
        "    '''\n",
        "    OCCF\n",
        "    type: default C = 1 + alpha * r\n",
        "          else: C = 1 + self.alpha * np.log(1 + self.train_R / self.eps)\n",
        "    '''\n",
        "    super(OCCF, self).__init__()\n",
        "    self.num_user, self.num_item = train_R.shape\n",
        "    self.test_n, self.test_m = test_R.shape\n",
        "\n",
        "    self.latent_dimension = d\n",
        "\n",
        "    self.train_R = train_R\n",
        "    self.train_P = np.array(train_R > 0, dtype=np.float16) # implicit\n",
        "    self.test_R = test_R\n",
        "    self.test_P = np.array(test_R > 0, dtype=np.float16) # implicit\n",
        "\n",
        "    self.sum_test_R = np.sum(self.test_R)\n",
        "    self.sum_train_R = np.sum(self.train_R)\n",
        "    self.lr = learning_rate\n",
        "    self.epoch = epochs\n",
        "    self.reg = reg\n",
        "    self.criterion = nn.MSELoss()\n",
        "    print(\"Number of User:\", self.num_user)\n",
        "    print(\"Number of Movies:\", self.num_item)\n",
        "    print(\"Shape of train_R:\", self.train_R.shape)\n",
        "    print(\"Shape of test_R:\", self.test_R.shape)\n",
        "\n",
        "    self.alpha = 40\n",
        "    self.eps = 3e-4 # 적정값 뭐지,,\n",
        "\n",
        "    if type == 'default':\n",
        "      self.C = 1 + self.alpha * self.train_R # (N, M) confidence\n",
        "    else:\n",
        "      self.C = 1 + self.alpha * np.log(1 + self.train_R / self.eps)\n",
        "\n",
        "    self.test_C = 1 + self.alpha * self.test_R\n",
        "    # initialize X & Y randomly\n",
        "    self.X = np.random.standard_normal((self.num_user, self.latent_dimension))\n",
        "    self.Y = np.random.standard_normal((self.num_item, self.latent_dimension))\n",
        "\n",
        "    #self.YTY\n",
        "    #self.XTX\n",
        "  def update_X(self):\n",
        "    # YTY는 주어진 상태로, 모든 user에 대하여 X 업데이트\n",
        "    for u in range(self.num_user):\n",
        "      Cu = np.diag(self.C[u, :]) # Cu\n",
        "      first = self.YTY + np.dot(self.Y.T, (Cu - np.identity(self.num_item))).dot(self.Y) + self.reg * np.identity(self.latent_dimension) #(f, f) latent_dimension: f\n",
        "      second = self.Y.T.dot(Cu).dot(self.train_P[u, :]) # (f, num_item) X (num_item, 1)) => (f, 1) 아ㅓㅣㅏㅓㅏ item이 논문에서는 n num_item으로 수정\n",
        "      # X = first-1second를 계산하고 싶고 firstX=second 식을 푸는 셈\n",
        "\n",
        "      #self.X[u, :] = np.dot(np.linalg.inv(first), second) # X\n",
        "      self.X[u, :] = np.linalg.solve(first, second)\n",
        "\n",
        "  def update_Y(self):\n",
        "    # XTX 주어진 상태로, 모든 item에 대하여 Y 업데이트\n",
        "    for i in range(self.num_item):\n",
        "      Ci = np.diag(self.C[:, i]) # ci 각 item에 대하여 interaction 있는 user\n",
        "\n",
        "      first = self.XTX + np.dot(self.X.T, (Ci - np.identity(self.num_user))).dot(self.X) + self.reg * np.identity(self.latent_dimension) #(f, f) latent_dimension: f\n",
        "      second = self.X.T.dot(Ci).dot(self.train_P[:, i]) # (f, num_user) X (num_user, 1)) => (f, 1)\n",
        "\n",
        "      #self.Y[i, :] = np.dot(np.linalg.inv(first), second)\n",
        "      self.Y[i, :] = np.linalg.solve(first, second)\n",
        "\n",
        "\n",
        "  def loss(self): # X: (num_user, f) Y (num_item, f) => XYT(num_user, num_item) / 논문대로 였으면 (D, N) 이렇게 시작했어야 함,,\n",
        "    return np.sum(self.C * np.square(self.train_P - self.X.dot(self.Y.T))) + self.reg * (np.linalg.norm(self.X) + np.linalg.norm(self.Y))\n",
        "\n",
        "  def prediction(self):\n",
        "    return self.X.dot(self.Y.T)\n",
        "\n",
        "  def rank(self, train=True):\n",
        "    predicted_p = self.prediction()\n",
        "    # 결국 P가 클수록 선호도가 크다고 봄\n",
        "    # rank 낮은 애를 많이 추천할수록 성능 good -> rank의 값은 작을수록 좋음\n",
        "    # 빈 rank 행렬\n",
        "\n",
        "    if train:\n",
        "      rank = np.zeros((self.num_user, self.num_item))\n",
        "      for u in range(self.num_user):\n",
        "        pu = predicted_p[u, :] # user당 item 나열\n",
        "        pu_rank = np.argsort(-pu) # -p값 작은애부터 큰 순서대로 index -> 결국 p 큰 애들부터 작은 index\n",
        "        rank[u, :] = pu_rank / (self.num_item - 1 +1e-8)\n",
        "      return np.dot(self.train_R.ravel(), rank.ravel()) / self.sum_train_R\n",
        "\n",
        "    else:\n",
        "      rank = np.zeros((self.test_n, self.test_m))\n",
        "      predicted =predicted_p[:self.test_n, :self.test_m]\n",
        "      for u in range(self.test_n):\n",
        "        pu = -1 * predicted[u, :] # user당 item 나열\n",
        "        pu_rank = np.argsort(pu) / (self.test_m -1 +1e-8) # -p값 작은애부터 큰 순서대로 index -> 결국 p 큰 애들부터 작은 index\n",
        "        rank[u, :] = pu_rank\n",
        "      return  np.dot(self.test_R.ravel(), rank.ravel()) / self.sum_test_R\n",
        "\n",
        "  def fit(self):\n",
        "    train_loss_list = []\n",
        "    test_loss_list = []\n",
        "    for epoch in range(self.epoch):\n",
        "      # X, Y 번갈아 가면서 업데이트\n",
        "      self.YTY = self.Y.T.dot(self.Y)\n",
        "      self.update_X()\n",
        "      self.XTX = self.X.T.dot(self.X)\n",
        "      self.update_Y()\n",
        "      train_loss = self.loss()\n",
        "\n",
        "      train_loss_list.append(train_loss)\n",
        "\n",
        "\n",
        "      #if epoch % 5 == 0:\n",
        "      train_ranking = self.rank()\n",
        "      test_ranking = self.rank(train= False)\n",
        "      print(f'Epoch [{epoch}/{self.epoch}], train_loss: {train_loss}, train_ranking: {train_ranking}, test_ranking: {test_ranking}')\n",
        "    return train_loss_list, test_loss_list\n"
      ],
      "metadata": {
        "id": "9lJnjpBhzfXz"
      },
      "execution_count": 8,
      "outputs": []
    },
    {
      "cell_type": "code",
      "source": [
        "# iter = 0일때 ranking 0.5에 가깝게 나옴! 근데 왜 이래.................\n",
        "model = OCCF(train_R = train, test_R = test, learning_rate= 1e-4, d=50, reg = 400, epochs= 0)\n",
        "model.fit()"
      ],
      "metadata": {
        "colab": {
          "base_uri": "https://localhost:8080/"
        },
        "id": "j2vk8Zx_wK3w",
        "outputId": "fbab74ef-9715-43c3-cff8-2690bb73625c"
      },
      "execution_count": 11,
      "outputs": [
        {
          "output_type": "stream",
          "name": "stdout",
          "text": [
            "Number of User: 943\n",
            "Number of Movies: 1650\n",
            "Shape of train_R: (943, 1650)\n",
            "Shape of test_R: (459, 1410)\n",
            "Epoch [0/0], train_loss: 655030610.3217921, train_ranking: 0.5001486830419342, test_ranking: 0.5002420172361862\n"
          ]
        },
        {
          "output_type": "execute_result",
          "data": {
            "text/plain": [
              "([655030610.3217921], [])"
            ]
          },
          "metadata": {},
          "execution_count": 11
        }
      ]
    },
    {
      "cell_type": "code",
      "source": [
        "import matplotlib.pyplot as plt\n",
        "\n",
        "model = OCCF(train_R = train, test_R = test, learning_rate= 1e-3, d=50, reg = 50, epochs= 10)\n",
        "\n",
        "# Train the model\n",
        "train_loss_list, test_loss_list = model.fit()\n",
        "train_loss_tensor = torch.tensor(train_loss_list, dtype=torch.float32)\n",
        "plt.plot(train_loss_tensor.cpu().numpy())\n",
        "test_loss_tensor = torch.tensor(test_loss_list, dtype=torch.float32)\n",
        "plt.plot(test_loss_tensor.cpu().numpy())"
      ],
      "metadata": {
        "colab": {
          "base_uri": "https://localhost:8080/",
          "height": 744
        },
        "id": "FHeTz2cuv-mr",
        "outputId": "a946a311-fc36-4a25-e44a-6db5d5e106e3"
      },
      "execution_count": 12,
      "outputs": [
        {
          "output_type": "stream",
          "name": "stdout",
          "text": [
            "Number of User: 943\n",
            "Number of Movies: 1650\n",
            "Shape of train_R: (943, 1650)\n",
            "Shape of test_R: (459, 1410)\n",
            "Epoch [0/10], train_loss: 660087072.8813179, train_ranking: 0.5006972393889895, test_ranking: 0.49681514745959043\n",
            "Epoch [0/10], train_loss: 1265695.0235165893, train_ranking: 0.34369369090835056, test_ranking: 0.40105755160643936\n",
            "Epoch [1/10], train_loss: 389662.40616879077, train_ranking: 0.33818961456610497, test_ranking: 0.38720233309362284\n",
            "Epoch [2/10], train_loss: 306850.28981871327, train_ranking: 0.349056135295905, test_ranking: 0.3917248891304421\n",
            "Epoch [3/10], train_loss: 276867.1431227098, train_ranking: 0.3534453530556575, test_ranking: 0.39402559342819227\n",
            "Epoch [4/10], train_loss: 260935.71762327128, train_ranking: 0.35567180463343523, test_ranking: 0.39583948328481394\n",
            "Epoch [5/10], train_loss: 251028.33274558262, train_ranking: 0.358523553857667, test_ranking: 0.39786894561954056\n",
            "Epoch [6/10], train_loss: 244190.4455850658, train_ranking: 0.3604778230384446, test_ranking: 0.39697186102455084\n",
            "Epoch [7/10], train_loss: 239130.82546181744, train_ranking: 0.3612969160984198, test_ranking: 0.39649584527925286\n",
            "Epoch [8/10], train_loss: 235221.88368392806, train_ranking: 0.35991223837282743, test_ranking: 0.40075420459884137\n",
            "Epoch [9/10], train_loss: 232120.30375852008, train_ranking: 0.35939221294559376, test_ranking: 0.40100737179310014\n"
          ]
        },
        {
          "output_type": "execute_result",
          "data": {
            "text/plain": [
              "[<matplotlib.lines.Line2D at 0x7c50e8102830>]"
            ]
          },
          "metadata": {},
          "execution_count": 12
        },
        {
          "output_type": "display_data",
          "data": {
            "text/plain": [
              "<Figure size 640x480 with 1 Axes>"
            ],
            "image/png": "[encoded data removed]"
          },
          "metadata": {}
        }
      ]
    },
    {
      "cell_type": "code",
      "source": [
        "import matplotlib.pyplot as plt\n",
        "\n",
        "model = OCCF(train_R = train, test_R = test, learning_rate= 1e-4, d=15, reg = 400, epochs= 20)\n",
        "\n",
        "# Train the model\n",
        "train_loss_list, test_loss_list = model.fit()\n",
        "train_loss_tensor = torch.tensor(train_loss_list, dtype=torch.float32)\n",
        "plt.plot(train_loss_tensor.cpu().numpy())\n",
        "test_loss_tensor = torch.tensor(test_loss_list, dtype=torch.float32)\n",
        "plt.plot(test_loss_tensor.cpu().numpy())"
      ],
      "metadata": {
        "colab": {
          "base_uri": "https://localhost:8080/",
          "height": 912
        },
        "id": "YZDK0vwtzhwW",
        "outputId": "675fc170-aeac-402e-d59e-e73bde988bce"
      },
      "execution_count": null,
      "outputs": [
        {
          "output_type": "stream",
          "name": "stdout",
          "text": [
            "Number of User: 943\n",
            "Number of Movies: 1650\n",
            "Shape of train_R: (943, 1650)\n",
            "Shape of test_R: (459, 1410)\n",
            "Epoch [0/20], train_loss: 3010201.116647021, train_ranking: 0.37688545079230484, test_ranking: 0.4310644876794637\n",
            "Epoch [1/20], train_loss: 470685.7093221571, train_ranking: 0.3351514829448561, test_ranking: 0.38101755268503273\n",
            "Epoch [2/20], train_loss: 406570.4406461484, train_ranking: 0.344509067462643, test_ranking: 0.38303248804210666\n",
            "Epoch [3/20], train_loss: 387370.0532580064, train_ranking: 0.349087973990761, test_ranking: 0.38726652598202943\n",
            "Epoch [4/20], train_loss: 377917.62176709814, train_ranking: 0.35112305477150185, test_ranking: 0.3874655784968727\n",
            "Epoch [5/20], train_loss: 372186.0063340352, train_ranking: 0.3527202581170436, test_ranking: 0.38553668060074386\n",
            "Epoch [6/20], train_loss: 368422.606783137, train_ranking: 0.354155807654964, test_ranking: 0.3894845855650021\n",
            "Epoch [7/20], train_loss: 365816.62406673894, train_ranking: 0.3547348812282842, test_ranking: 0.3892552359095229\n",
            "Epoch [8/20], train_loss: 363937.88236140483, train_ranking: 0.3553672203205975, test_ranking: 0.3920176110529104\n",
            "Epoch [9/20], train_loss: 362537.71114139416, train_ranking: 0.3566558065814088, test_ranking: 0.3907110330733255\n",
            "Epoch [10/20], train_loss: 361465.08448152064, train_ranking: 0.3560911658853326, test_ranking: 0.38855613515593557\n",
            "Epoch [11/20], train_loss: 360626.6405932543, train_ranking: 0.3561633002120052, test_ranking: 0.3893587636760852\n",
            "Epoch [12/20], train_loss: 359966.0910546228, train_ranking: 0.35651067478961496, test_ranking: 0.39142451519059124\n",
            "Epoch [13/20], train_loss: 359444.6386666549, train_ranking: 0.35626322673788163, test_ranking: 0.39240016134405775\n",
            "Epoch [14/20], train_loss: 359030.3784911438, train_ranking: 0.357352664199207, test_ranking: 0.3903894280730237\n",
            "Epoch [15/20], train_loss: 358697.64622019744, train_ranking: 0.3570017554776007, test_ranking: 0.39097798086857416\n",
            "Epoch [16/20], train_loss: 358426.5788959774, train_ranking: 0.3582102266017548, test_ranking: 0.39267039860045455\n",
            "Epoch [17/20], train_loss: 358201.9828744392, train_ranking: 0.35766641717241804, test_ranking: 0.39105799099369615\n",
            "Epoch [18/20], train_loss: 358012.3779148156, train_ranking: 0.3570521159559941, test_ranking: 0.39270780619216994\n",
            "Epoch [19/20], train_loss: 357849.2670550021, train_ranking: 0.3573146517536951, test_ranking: 0.39095029122762887\n"
          ]
        },
        {
          "output_type": "execute_result",
          "data": {
            "text/plain": [
              "[<matplotlib.lines.Line2D at 0x79193fde5de0>]"
            ]
          },
          "metadata": {},
          "execution_count": 14
        },
        {
          "output_type": "display_data",
          "data": {
            "text/plain": [
              "<Figure size 640x480 with 1 Axes>"
            ],
            "image/png": "[encoded data removed]"
          },
          "metadata": {}
        }
      ]
    },
    {
      "cell_type": "markdown",
      "source": [
        "np.linalg.solve 이거 쓰는 것보다 np.linalg.inv 쓰는게 훨씬 빠르고, 왜 ranking 개선이 안되는지는 의문............. T_T\n",
        "\n",
        " 다시해보니 np.linalg.solve(first, second)가 더 빠른 것 같기도,,\n",
        "\n",
        " mse loss가 주는것을 보아 학습은 되고 있는 것 같은데 ranking 코드를 잘못 짰는지 확인해 보기..\n",
        "\n",
        " 1epoch 당 대략 1분 정도 걸리는데 더 최적화할 수는 없을지,,\n",
        "\n",
        " 오래 걸리는 건 포기,, reg = 50 ~400 정도 올리니까 loss는 훨씬 많이 줄어 든다. 하지만 ranking은 0.35근방에서 안줄어든다,, 아마도 ml데이터에서는 이게 최선인듯??"
      ],
      "metadata": {
        "id": "fBUydICsabUn"
      }
    }
  ]
}