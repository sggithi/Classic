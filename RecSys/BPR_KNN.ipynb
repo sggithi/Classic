{
  "nbformat": 4,
  "nbformat_minor": 0,
  "metadata": {
    "colab": {
      "provenance": [],
      "gpuType": "T4"
    },
    "kernelspec": {
      "name": "python3",
      "display_name": "Python 3"
    },
    "language_info": {
      "name": "python"
    },
    "accelerator": "GPU"
  },
  "cells": [
    {
      "cell_type": "code",
      "source": [
        "#Colab setting\n",
        "from google.colab import drive\n",
        "drive.mount('/content/drive')\n",
        "\n",
        "import sys\n",
        "sys.path.append('/content/drive/My Drive/DSAIL')\n",
        "\n",
        "import os\n",
        "os.chdir('/content/drive/My Drive/DSAIL')"
      ],
      "metadata": {
        "colab": {
          "base_uri": "https://localhost:8080/"
        },
        "id": "kp2VLPKnmids",
        "outputId": "b67c46c8-edf4-480b-a901-124138411de0"
      },
      "execution_count": 6,
      "outputs": [
        {
          "output_type": "stream",
          "name": "stdout",
          "text": [
            "Mounted at /content/drive\n"
          ]
        }
      ]
    },
    {
      "cell_type": "code",
      "execution_count": 9,
      "metadata": {
        "id": "VfEsegib1jW4"
      },
      "outputs": [],
      "source": [
        "import numpy as np\n",
        "# 데이터셋을 continous하게 만들었다.\n",
        "# 언제나 드는 의문은... user랑 item idx가 continous하지 않은데 보통 index 값을 훈련에 쓰지않나?\n",
        "\n",
        "test = np.load(\"continous_test.npy\")\n",
        "train = np.load(\"continous_train.npy\")\n",
        "\n",
        "# GPU\n",
        "# device = torch.device('cuda' if torch.cuda.is_available() else 'cpu')\n",
        "# print(\"device\", device)\n"
      ]
    },
    {
      "cell_type": "code",
      "source": [
        "# 필요한 함수들\n",
        "def sigmoid(x):\n",
        "  return 1 / (1 + np.exp(-x))"
      ],
      "metadata": {
        "id": "q_piIy_oOMH-"
      },
      "execution_count": 10,
      "outputs": []
    },
    {
      "cell_type": "code",
      "source": [
        "import torch\n",
        "import torch.nn as nn\n",
        "import torch.optim as optim\n",
        "import numpy as np\n",
        "import random\n",
        "\n",
        "class BPR():\n",
        "  def __init__(self, train_R, test_R, d=16, lamb = 0.01, learning_rate=1e-3, epochs= 100):\n",
        "    '''\n",
        "    BPR + KNN version\n",
        "    '''\n",
        "    self.num_user, self.num_item = train_R.shape\n",
        "    self.test_n, self.test_m = test_R.shape\n",
        "\n",
        "    self.latent_dimension = d\n",
        "\n",
        "    # implicit하게 변환\n",
        "    self.train_R = (train_R > 0).astype(float)\n",
        "    self.test_R = (test_R > 0).astype(float)\n",
        "\n",
        "    self.lr = learning_rate\n",
        "    self.epoch = epochs\n",
        "    self.lamb = lamb\n",
        "\n",
        "    # item symmetric item-correlation learning이 목적 !\n",
        "    self.C = np.random.standard_normal((self.num_item, self.num_item))\n",
        "    # self.AUC_matrix = np.zeros((self.num_item, self.num_item))\n",
        "\n",
        "    self.pos_items_dict = {user: np.where(self.train_R[user, :] > 0)[0] for user in range(self.num_user)}\n",
        "    self.neg_items_dict = {user: np.where(self.train_R[user, :] == 0)[0] for user in range(self.num_user)}\n",
        "\n",
        "    self.lj = None\n",
        "    self.li = None\n",
        "\n",
        "  def gradient_sigmoid(self, x):\n",
        "    return sigmoid(x) * np.exp(-x)\n",
        "\n",
        "  # dBPR-OPT/dtheta\n",
        "  def gradient(self, u, i, j):\n",
        "    # -sigma_term * dxthat/dtheta - selflamb * theta\n",
        "    xuij = self.get_xuij(u, i, j)\n",
        "    sigma_term = self.gradient_sigmoid(xuij)\n",
        "    pos_items = self.pos_items_dict[u]\n",
        "    neg_items = self.neg_items_dict[u]\n",
        "    self.li = list(set(pos_items) - set([i]))\n",
        "    self.lj = list(set(neg_items) - set([j]))\n",
        "\n",
        "    dCi = -sigma_term * 1 - self.lamb * self.C[i, self.li]\n",
        "    dCj = sigma_term - self.lamb * self.C[j, self.lj]\n",
        "    return dCi, dCj\n",
        "\n",
        "  def get_xuij(self, u, i, j):\n",
        "    pos_items = self.pos_items_dict[u]\n",
        "    neg_items = self.neg_items_dict[u]\n",
        "    excluded_value = self.C[i][i]\n",
        "    xui = np.sum(self.C[i][pos_items]) - excluded_value\n",
        "    excluded_value = self.C[j][j]\n",
        "    xuj = np.sum(self.C[j][neg_items]) - excluded_value\n",
        "    # overflow 방지\n",
        "    cc = np.clip(xui - xuj, -709.78, 709.78)\n",
        "    return cc\n",
        "\n",
        "  def gradient_descent(self, u, i, j):\n",
        "    dCi, dCj = self.gradient(u, i, j)\n",
        "    self.C[u, self.li] -= self.lr * dCi\n",
        "    self.C[i, self.lj] -= self.lr * dCj\n",
        "\n",
        "\n",
        "  def compute_AUC(self):\n",
        "    auc = 0\n",
        "    for u in range(self.num_user):\n",
        "      pos_items = self.pos_items_dict[u]\n",
        "      neg_items = self.neg_items_dict[u]\n",
        "      for i in pos_items:\n",
        "        for j in neg_items:\n",
        "          if np.sum(self.C[i][pos_items]) - self.C[i][i] > np.sum(self.C[j][neg_items]) - self.C[j][j]:\n",
        "            auc += 1\n",
        "    auc /= (len(pos_items) * len(neg_items))\n",
        "\n",
        "    return auc\n",
        "\n",
        "  def fit(self):\n",
        "    train_auc_list = []\n",
        "\n",
        "    for epoch in range(self.epoch):\n",
        "      # (u, i, j) random하게 sampling해야 item-wised user-wised update 피할 수 있음 (bootstrap)\n",
        "      # user는 iterate방식으로 가고, i, j만 샘플링해도 될듯!\n",
        "      user_AUC = 0\n",
        "      for u in range(self.num_user):\n",
        "        # user의 positive item pair = i 후보\n",
        "        pos_items = np.where(self.train_R[u, :] > 0)[0]\n",
        "        neg_items = np.where(self.train_R[u, :] == 0)[0]\n",
        "\n",
        "        # cold_user의 경우 pass\n",
        "        if len(pos_items) == 0:\n",
        "          continue\n",
        "\n",
        "        i = np.random.choice(pos_items)\n",
        "        j = np.random.choice(neg_items)\n",
        "\n",
        "        # user마다 iter 돌면서 i, j 랜덤하게 뽑고 update\n",
        "        self.gradient_descent(u, i, j)\n",
        "\n",
        "      if epoch == 10000 or epoch == 20000 or epoch == 29999:\n",
        "        user_AUC = self.compute_AUC()\n",
        "\n",
        "        user_AUC /= self.num_user\n",
        "        train_auc_list.append(user_AUC)\n",
        "        print(f'Epoch [{epoch}/{self.epoch}], train_AUC: {user_AUC}')\n",
        "\n",
        "    return train_auc_list\n"
      ],
      "metadata": {
        "id": "rMWknOoG1u7i"
      },
      "execution_count": 18,
      "outputs": []
    },
    {
      "cell_type": "code",
      "source": [
        "import matplotlib.pyplot as plt\n",
        "\n",
        "model = BPR(train_R = train, test_R = test, d=15, epochs= 30000)\n",
        "\n",
        "# Train the model\n",
        "train_auc_list = model.fit()\n",
        "plt.plot(train_auc_list)"
      ],
      "metadata": {
        "id": "zAym3q0IwYe1"
      },
      "execution_count": null,
      "outputs": []
    },
    {
      "cell_type": "markdown",
      "source": [
        "# Error\n",
        "RuntimeWarning: overflow encountered in exp\n",
        "  return sigmoid(x) * np.exp(-x)\n",
        "\n",
        "  float.64 -> np.clip(xui - xuj, -709.78, 709.78)"
      ],
      "metadata": {
        "id": "dXgl3SJPsy2E"
      }
    }
  ]
}