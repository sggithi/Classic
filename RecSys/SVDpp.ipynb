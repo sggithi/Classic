{
  "nbformat": 4,
  "nbformat_minor": 0,
  "metadata": {
    "colab": {
      "provenance": [],
      "gpuType": "T4"
    },
    "kernelspec": {
      "name": "python3",
      "display_name": "Python 3"
    },
    "language_info": {
      "name": "python"
    },
    "accelerator": "GPU"
  },
  "cells": [
    {
      "cell_type": "code",
      "source": [
        "#Colab setting\n",
        "from google.colab import drive\n",
        "drive.mount('/content/drive')\n",
        "\n",
        "import sys\n",
        "sys.path.append('/content/drive/My Drive/DSAIL')\n",
        "\n",
        "import os\n",
        "os.chdir('/content/drive/My Drive/DSAIL')"
      ],
      "metadata": {
        "colab": {
          "base_uri": "https://localhost:8080/"
        },
        "id": "kp2VLPKnmids",
        "outputId": "e66c8fdb-483d-4f81-bfdb-87c8945da9b7"
      },
      "execution_count": 2,
      "outputs": [
        {
          "output_type": "stream",
          "name": "stdout",
          "text": [
            "Mounted at /content/drive\n"
          ]
        }
      ]
    },
    {
      "cell_type": "code",
      "execution_count": 3,
      "metadata": {
        "id": "VfEsegib1jW4",
        "colab": {
          "base_uri": "https://localhost:8080/"
        },
        "outputId": "be3770ab-1b1c-44ae-dc8b-00c10ddbe79c"
      },
      "outputs": [
        {
          "output_type": "stream",
          "name": "stdout",
          "text": [
            "device cpu\n"
          ]
        }
      ],
      "source": [
        "# Data U1.base로 train, u1.test로 test data만들기\n",
        "# U.data는 현재 ([\"user_id\", \"movie_id\", \"rating\", \"timestamp\"])로 구성\n",
        "import pandas as pd\n",
        "import torch\n",
        "import numpy as np\n",
        "\n",
        "test = np.load(\"continous_test.npy\")\n",
        "train = np.load(\"continous_train.npy\")\n",
        "\n",
        "# GPU\n",
        "device = torch.device('cuda' if torch.cuda.is_available() else 'cpu')\n",
        "print(\"device\", device)\n"
      ]
    },
    {
      "cell_type": "code",
      "source": [
        "a = [-1, -2, 3]\n",
        "a = np.array(a)\n",
        "b = (a > 0).astype(float)\n",
        "print(b)"
      ],
      "metadata": {
        "colab": {
          "base_uri": "https://localhost:8080/"
        },
        "id": "2R2Cw1Z9LbMJ",
        "outputId": "3731e847-333a-419b-892a-fb7497101289"
      },
      "execution_count": 3,
      "outputs": [
        {
          "output_type": "stream",
          "name": "stdout",
          "text": [
            "[0. 0. 1.]\n"
          ]
        }
      ]
    },
    {
      "cell_type": "code",
      "source": [
        "import torch.nn as nn\n",
        "import torch.optim as optim\n",
        "\n",
        "class SVDpp(nn.Module):\n",
        "  def __init__(self, train_R, test_R, d=50, learning_rate=5e-4, epochs=100, reg = 0.01, device=device):\n",
        "    '''\n",
        "    SVD++\n",
        "    pytorch version\n",
        "    '''\n",
        "    super(SVDpp, self).__init__()\n",
        "\n",
        "    self.n, self.m = train_R.shape\n",
        "    self.test_n, self.test_m = test_R.shape\n",
        "    self.device = device\n",
        "    self.latent_dimension = d\n",
        "\n",
        "    self.train_R = torch.tensor(train_R, dtype=torch.float32, device=device)\n",
        "    self.test_R = torch.tensor(test_R, dtype=torch.float32, device=device)\n",
        "\n",
        "    self.train_implicit = (train_R > 0).astype(float)\n",
        "    self.test_implicit = (test_R > 0).astype(float)\n",
        "    self.N_train = np.sum(self.train_implicit, axis=1)\n",
        "    self.N_test = np.sum(self.test_implicit, axis=1)\n",
        "\n",
        "    # sigma yj 더할 때 사용할 index들 (N(u)에 속한 item index)\n",
        "    self.Nu_Y_train = {user: np.where(self.train_implicit[user, :] > 0)[0] for user in range(self.n)}\n",
        "    self.Nu_Y_test = {user: np.where(self.test_implicit[user, :] > 0)[0] for user in range(self.test_n)}\n",
        "\n",
        "\n",
        "    self.lr = learning_rate\n",
        "    self.epoch = epochs\n",
        "    self.reg = reg\n",
        "\n",
        "    print(\"Number of User:\", self.n)\n",
        "    print(\"Number of Movies:\", self.m)\n",
        "    print(\"Shape of train_R:\", self.train_R.shape)\n",
        "    print(\"Shape of test_R:\", self.test_R.shape)\n",
        "\n",
        "    # parameters\n",
        "    self.P = nn.Parameter(torch.rand(self.n, self.latent_dimension, device=device) * (1.0 / self.latent_dimension))\n",
        "    self.Q = nn.Parameter(torch.rand(self.m, self.latent_dimension, device=device) * (1.0 / self.latent_dimension))\n",
        "    self.Y = nn.Parameter(torch.rand(self.m, self.latent_dimension, device=device) * (1.0 / self.latent_dimension))\n",
        "\n",
        "    self.bu = nn.Parameter(torch.rand(self.n, device=device))\n",
        "    self.bi = nn.Parameter(torch.rand(self.m, device=device))\n",
        "    self.mu = torch.mean(self.train_R[self.train_R != 0])\n",
        "\n",
        "  def forward(self, u, i):\n",
        "    nu_1_2 = 1 / np.sqrt(self.N_train[u])\n",
        "    # Y 연산은 item끼리 더해야됨 axis = 0 [[item1], [item2]] => [item1 + item2]\n",
        "    return self.mu + self.bu[u] + self.bi[i] + torch.matmul(self.P[u, :] + nu_1_2 * torch.sum(self.Y[self.Nu_Y_train[u], :], axis = 0), self.Q[i, :])\n",
        "\n",
        "  def loss(self, u, i, train = True):\n",
        "    predicted_R = self.forward(u, i)\n",
        "    if train:\n",
        "      return (self.train_R[u, i] - predicted_R).pow(2)\n",
        "    else:\n",
        "      return (self.test_R[u, i] - predicted_R).pow(2)\n",
        "\n",
        "\n",
        "  def fit(self):\n",
        "    train_loss_list = []\n",
        "    test_loss_list = []\n",
        "\n",
        "    optimizer = optim.SGD(self.parameters(), lr=self.lr)\n",
        "\n",
        "    for epoch in range(self.epoch):\n",
        "      total_loss = 0\n",
        "      test_loss = 0\n",
        "      num_entries = 0\n",
        "      num_test_entries = 0\n",
        "\n",
        "      for u in range(self.n):\n",
        "        for i in range(self.m):\n",
        "          if self.train_R[u, i]:\n",
        "            #optimizer.zero_grad()\n",
        "            loss = self.loss(u, i)\n",
        "            #loss.backward()\n",
        "            #optimizer.step()\n",
        "            total_loss += loss\n",
        "            num_entries += 1\n",
        "\n",
        "      optimizer.zero_grad()\n",
        "      total_loss.backward()\n",
        "      optimizer.step()\n",
        "\n",
        "      with torch.no_grad():\n",
        "        for uu in range(self.test_n):\n",
        "          for ii in range(self.test_m):\n",
        "            if self.test_R[uu, ii]: # test rmse\n",
        "              test_loss += self.loss( uu, ii, train = False)\n",
        "              num_test_entries += 1\n",
        "\n",
        "      optimizer.zero_grad()\n",
        "\n",
        "      rmse = torch.sqrt(total_loss / num_entries)\n",
        "      test_rmse =np.sqrt(test_loss / num_test_entries)\n",
        "      train_loss_list.append(rmse)\n",
        "      test_loss_list.append(test_rmse)\n",
        "\n",
        "      #if epoch % 20 == 0:\n",
        "      print(f'Epoch [{epoch}/{self.epoch}], train_loss: {rmse}, test_loss: {test_rmse}')\n",
        "    return train_loss_list, test_loss_list\n"
      ],
      "metadata": {
        "id": "rMWknOoG1u7i"
      },
      "execution_count": 8,
      "outputs": []
    },
    {
      "cell_type": "code",
      "source": [
        "import matplotlib.pyplot as plt\n",
        "\n",
        "model = SVDpp(train_R = train, test_R = test, d=10, learning_rate = 5e-4, epochs= 10)\n",
        "\n",
        "# Train the model\n",
        "train_loss_list, test_loss_list = model.fit()\n",
        "train_loss_tensor = torch.tensor(train_loss_list, dtype=torch.float32)\n",
        "plt.plot(train_loss_tensor.cpu().numpy())\n",
        "test_loss_tensor = torch.tensor(test_loss_list, dtype=torch.float32)\n",
        "plt.plot(test_loss_tensor.cpu().numpy())"
      ],
      "metadata": {
        "colab": {
          "base_uri": "https://localhost:8080/",
          "height": 712
        },
        "id": "ER8onLajVXok",
        "outputId": "36b564c4-64f1-4789-d9ad-553fb10d7fa1"
      },
      "execution_count": 9,
      "outputs": [
        {
          "output_type": "stream",
          "name": "stdout",
          "text": [
            "Number of User: 943\n",
            "Number of Movies: 1682\n",
            "Shape of train_R: torch.Size([943, 1682])\n",
            "Shape of test_R: torch.Size([462, 1591])\n",
            "Epoch [0/10], train_loss: 1.7675917148590088, test_loss: 1.483742594718933\n",
            "Epoch [1/10], train_loss: 1.4790434837341309, test_loss: 1.3011555671691895\n",
            "Epoch [2/10], train_loss: 1.2380865812301636, test_loss: 1.1894664764404297\n",
            "Epoch [3/10], train_loss: 1.1281307935714722, test_loss: 1.1488085985183716\n",
            "Epoch [4/10], train_loss: 1.0894293785095215, test_loss: 1.1168485879898071\n",
            "Epoch [5/10], train_loss: 1.058601975440979, test_loss: 1.0911108255386353\n",
            "Epoch [6/10], train_loss: 1.0339202880859375, test_loss: 1.0705755949020386\n",
            "Epoch [7/10], train_loss: 1.01438307762146, test_loss: 1.0542513132095337\n",
            "Epoch [8/10], train_loss: 0.9988652467727661, test_loss: 1.0411819219589233\n",
            "Epoch [9/10], train_loss: 0.9864007830619812, test_loss: 1.03057062625885\n"
          ]
        },
        {
          "output_type": "execute_result",
          "data": {
            "text/plain": [
              "[<matplotlib.lines.Line2D at 0x79d33a287d60>]"
            ]
          },
          "metadata": {},
          "execution_count": 9
        },
        {
          "output_type": "display_data",
          "data": {
            "text/plain": [
              "<Figure size 640x480 with 1 Axes>"
            ],
            "image/png": "[encoded data removed]"
          },
          "metadata": {}
        }
      ]
    },
    {
      "cell_type": "markdown",
      "source": [
        "Epoch 최소 100회는 해야\n",
        "\n",
        "optimizer.zero_grad()를 해줘야 gradient를 0으로 초기화\n",
        "predict 일일이 하는 것보다는 matrix 전체구해서 loss 구하는게 더 빠를듯!\n",
        "\n",
        "loss.item() 하면 Tensor가 아니라 float로 들어와서 backward()가 불가능함\n",
        "\n",
        "처음에 느렸던 이유\n",
        "\n",
        "-> loss 계산할 때 train_R을 넘겨줬는데 이것 때문에 RAM 용량 부족해진듯 !\n"
      ],
      "metadata": {
        "id": "a5FmgrO1Lb5x"
      }
    }
  ]
}