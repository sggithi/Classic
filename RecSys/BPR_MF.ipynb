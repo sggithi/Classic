{
  "nbformat": 4,
  "nbformat_minor": 0,
  "metadata": {
    "colab": {
      "provenance": [],
      "gpuType": "T4"
    },
    "kernelspec": {
      "name": "python3",
      "display_name": "Python 3"
    },
    "language_info": {
      "name": "python"
    },
    "accelerator": "GPU"
  },
  "cells": [
    {
      "cell_type": "code",
      "source": [
        "#Colab setting\n",
        "from google.colab import drive\n",
        "drive.mount('/content/drive')\n",
        "\n",
        "import sys\n",
        "sys.path.append('/content/drive/My Drive/DSAIL')\n",
        "\n",
        "import os\n",
        "os.chdir('/content/drive/My Drive/DSAIL')"
      ],
      "metadata": {
        "colab": {
          "base_uri": "https://localhost:8080/"
        },
        "id": "kp2VLPKnmids",
        "outputId": "156860be-1ff1-45ae-fa1b-9ddb3e74d974"
      },
      "execution_count": 1,
      "outputs": [
        {
          "output_type": "stream",
          "name": "stdout",
          "text": [
            "Mounted at /content/drive\n"
          ]
        }
      ]
    },
    {
      "cell_type": "code",
      "execution_count": 80,
      "metadata": {
        "id": "VfEsegib1jW4"
      },
      "outputs": [],
      "source": [
        "# Data U1.base로 train, u1.test로 test data만들기\n",
        "# U.data는 현재 ([\"user_id\", \"movie_id\", \"rating\", \"timestamp\"])로 구성\n",
        "import pandas as pd\n",
        "import numpy as np\n",
        "\n",
        "file_path = \"ml-100k/u1.base\"\n",
        "columns = [\"user_id\", \"movie_id\", \"rating\", \"timestamp\"]\n",
        "train_data = pd.read_csv(file_path, sep='\\t', names=columns)\n",
        "\n",
        "max_user_idx = train_data['user_id'].max()\n",
        "max_movie_idx = train_data['movie_id'].max()\n",
        "\n",
        "user_movie_matrix = np.zeros((max_user_idx, max_movie_idx))\n",
        "\n",
        "for _, row in train_data.iterrows():\n",
        "    user_movie_matrix[row['user_id']-1, row['movie_id']-1] = row['rating']\n",
        "\n",
        "train = user_movie_matrix\n",
        "\n",
        "file_path = \"ml-100k/u1.test\"\n",
        "columns = [\"user_id\", \"movie_id\", \"rating\", \"timestamp\"]\n",
        "test_data = pd.read_csv(file_path, sep='\\t', names=columns)\n",
        "\n",
        "max_user_idx_test = test_data['user_id'].max()\n",
        "max_movie_idx_test = test_data['movie_id'].max()\n",
        "\n",
        "user_movie_matrix_test = np.zeros((max_user_idx_test, max_movie_idx_test))\n",
        "for _, row in test_data.iterrows():\n",
        "    user_movie_matrix_test[row['user_id']-1, row['movie_id']-1] = row['rating']\n",
        "\n",
        "test = user_movie_matrix_test\n",
        "\n",
        "np.save(\"continous_train.npy\", user_movie_matrix)\n",
        "np.save(\"continous_test.npy\", user_movie_matrix_test)\n",
        "# # GPU\n",
        "# device = torch.device('cuda' if torch.cuda.is_available() else 'cpu')\n",
        "# print(\"device\", device)\n"
      ]
    },
    {
      "cell_type": "code",
      "source": [
        "# 필요한 함수들\n",
        "def sigmoid(x):\n",
        "  return 1 / (1 + np.exp(-x))"
      ],
      "metadata": {
        "id": "q_piIy_oOMH-"
      },
      "execution_count": 3,
      "outputs": []
    },
    {
      "cell_type": "code",
      "source": [
        "user_movie_matrix.shape"
      ],
      "metadata": {
        "colab": {
          "base_uri": "https://localhost:8080/"
        },
        "id": "jo4qMHjO9iiW",
        "outputId": "ba43047e-d353-4453-c0cc-b0d45230099f"
      },
      "execution_count": 78,
      "outputs": [
        {
          "output_type": "execute_result",
          "data": {
            "text/plain": [
              "(943, 1682)"
            ]
          },
          "metadata": {},
          "execution_count": 78
        }
      ]
    },
    {
      "cell_type": "code",
      "source": [
        "user_movie_matrix_test.shape"
      ],
      "metadata": {
        "colab": {
          "base_uri": "https://localhost:8080/"
        },
        "id": "nRijUkG38XZk",
        "outputId": "13ae4d10-9a5a-465e-fcea-d824c85c18d2"
      },
      "execution_count": 79,
      "outputs": [
        {
          "output_type": "execute_result",
          "data": {
            "text/plain": [
              "(462, 1591)"
            ]
          },
          "metadata": {},
          "execution_count": 79
        }
      ]
    },
    {
      "cell_type": "code",
      "source": [
        "import torch\n",
        "import torch.nn as nn\n",
        "import torch.optim as optim\n",
        "import numpy as np\n",
        "import random\n",
        "\n",
        "class BPR():\n",
        "  def __init__(self, train_R, test_R, d=16, lamb = 0.01, learning_rate=1e-3, epochs= 100):\n",
        "    '''\n",
        "    BPR_MF version\n",
        "    gradient descent 직접 업데이트하는 방식\n",
        "    '''\n",
        "    self.num_user, self.num_item = train_R.shape\n",
        "    self.test_n, self.test_m = test_R.shape\n",
        "\n",
        "    self.latent_dimension = d\n",
        "\n",
        "    # implicit하게 변환\n",
        "    self.train_R = (train_R > 0).astype(float)\n",
        "    self.test_R = (test_R > 0).astype(float)\n",
        "\n",
        "    self.lr = learning_rate\n",
        "    self.epoch = epochs\n",
        "    self.lamb = lamb\n",
        "\n",
        "    # torch로 짜면 loss하고 loss.backward()로 감\n",
        "    # self.W = nn.Parameter(torch.empty(self.num_user, self.latent_dimension))\n",
        "    # self.H = nn.Parameter(torch.empty(self.num_item, self.latent_dimension))\n",
        "\n",
        "    # 직접 gradient 각각 update\n",
        "    self.W = np.random.standard_normal((self.num_user, self.latent_dimension)) # (N, d)\n",
        "    self.H = np.random.standard_normal((self.num_item, self.latent_dimension)) # (m, d)\n",
        "\n",
        "    self.pos_items_dict = {user: np.where(self.train_R[user, :] > 0)[0] for user in range(self.num_user)}\n",
        "    self.neg_items_dict = {user: np.where(self.train_R[user, :] == 0)[0] for user in range(self.num_user)}\n",
        "\n",
        "  # sigmoid항 X dxui/dtheta\n",
        "  # 얘가 sigmoid항 계산용\n",
        "  def gradient_sigmoid(self, x):\n",
        "    return sigmoid(x) * np.exp(-x)\n",
        "\n",
        "  # dXhat/dtheta\n",
        "  def gradient(self, u, i, j):\n",
        "    xuij = self.get_xuij(u, i, j)\n",
        "    sigma_term = self.gradient_sigmoid(xuij)\n",
        "\n",
        "    dWu = -sigma_term * (self.H[i, :] - self.H[j, :]) - self.lamb * self.W[u, :] # (d, 1)\n",
        "    dHi = -sigma_term * self.W[u, :] - self.lamb * self.H[i, :]\n",
        "    dHj = sigma_term * self.W[u, :] - self.lamb * self.H[j, :]\n",
        "    return dWu, dHi, dHj\n",
        "\n",
        "  def get_xuij(self, u, i, j):\n",
        "    return self.W[u, :].dot(self.H[i,:]) - self.W[u, :].dot(self.H[j,:])\n",
        "\n",
        "  def gradient_descent(self, u, i, j):\n",
        "    dWu, dHi, dHj = self.gradient(u, i, j)\n",
        "    self.W[u, :] -= self.lr * dWu\n",
        "    self.H[i, :] -= self.lr * dHi\n",
        "    self.H[j, :] -= self.lr * dHj\n",
        "\n",
        "  def compute_AUC(self):\n",
        "    X_hat = np.dot(self.W, self.H.T)\n",
        "    auc = 0\n",
        "    for u in range(self.num_user):\n",
        "      pos_items = self.pos_items_dict[u] # np.where 이 너무 오래 걸리는데 차라리 저장해두는게 나을듯 !\n",
        "      neg_items = self.neg_items_dict[u]\n",
        "      for p in pos_items:\n",
        "        for j in neg_items:\n",
        "          if X_hat[u, p] > X_hat[u, j]:\n",
        "            auc += 1\n",
        "\n",
        "    # AUC 최적화를 위해서는\n",
        "    # 1. gradient 구할 때마다 xuij 부호 고려해서, 더해가지고 하거나\n",
        "    # 2. X_hat 아예 통째로 구해서 loop를 돌 수 있는데\n",
        "    # 1의 경우 gradient할 때 같이하려면 user에대해 전체를 돌아야돼서 u,i, j random sampling이 어려움,,\n",
        "    # 그냥 직접 계산하는게 나은데.... 너무 오래 걸린다.......\n",
        "\n",
        "    # auc = 0\n",
        "    # for pos_score in pos_scores:\n",
        "    #   for neg_score in neg_scores:\n",
        "    #     auc += pos_score > neg_score\n",
        "    # for i in pos_items:\n",
        "    #   for j in neg_items:\n",
        "    #     xuij = self.get_xuij(u, i, j)\n",
        "    #     auc += int(xuij > 0)\n",
        "\n",
        "    auc /= (len(pos_items) * len(neg_items))\n",
        "    return auc\n",
        "\n",
        "  def fit(self):\n",
        "    train_auc_list = []\n",
        "\n",
        "    for epoch in range(self.epoch):\n",
        "      # (u, i, j) random하게 sampling해야 item-wised user-wised update 피할 수 있음 (bootstrap)\n",
        "      # user는 iterate방식으로 가고, i, j만 샘플링해도 될듯!\n",
        "      for u in range(self.num_user):\n",
        "\n",
        "        # user의 positive item pair = i 후보\n",
        "        pos_items = self.pos_items_dict[u]\n",
        "        neg_items = self.neg_items_dict[u]\n",
        "\n",
        "        # cold_user의 경우 pass\n",
        "        if len(pos_items) == 0:\n",
        "          continue\n",
        "\n",
        "        i = np.random.choice(pos_items)\n",
        "        j = np.random.choice(neg_items)\n",
        "\n",
        "        # user마다 iter 돌면서 i, j 랜덤하게 뽑고 update\n",
        "        self.gradient_descent(u, i, j)\n",
        "\n",
        "      if epoch == 10000 or epoch == 20000:\n",
        "        user_AUC = 0\n",
        "        user_AUC = self.compute_AUC()\n",
        "\n",
        "        user_AUC /= self.num_user\n",
        "        train_auc_list.append(user_AUC)\n",
        "        print(f'Epoch [{epoch}/{self.epoch}], train_AUC: {user_AUC}')\n",
        "\n",
        "\n",
        "    return train_auc_list\n"
      ],
      "metadata": {
        "id": "rMWknOoG1u7i"
      },
      "execution_count": 94,
      "outputs": []
    },
    {
      "cell_type": "code",
      "source": [
        "import matplotlib.pyplot as plt\n",
        "\n",
        "model = BPR(train_R = train, test_R = test, d=15, epochs= 30000)\n",
        "\n",
        "# Train the model\n",
        "train_auc_list = model.fit()\n",
        "plt.plot(train_auc_list)"
      ],
      "metadata": {
        "colab": {
          "base_uri": "https://localhost:8080/",
          "height": 486
        },
        "id": "uh6BXXMFEJdS",
        "outputId": "273ede12-d6e0-412c-f059-e3c66d195be2"
      },
      "execution_count": 95,
      "outputs": [
        {
          "output_type": "stream",
          "name": "stdout",
          "text": [
            "Epoch [10000/30000], train_AUC: 0.4110460376184946\n",
            "Epoch [20000/30000], train_AUC: 0.4456246196435151\n"
          ]
        },
        {
          "output_type": "execute_result",
          "data": {
            "text/plain": [
              "[<matplotlib.lines.Line2D at 0x7d39d98713c0>]"
            ]
          },
          "metadata": {},
          "execution_count": 95
        },
        {
          "output_type": "display_data",
          "data": {
            "text/plain": [
              "<Figure size 640x480 with 1 Axes>"
            ],
            "image/png": "[encoded data removed]"
          },
          "metadata": {}
        }
      ]
    },
    {
      "cell_type": "markdown",
      "source": [
        "AUC 계산 무슨 일,,,\n",
        "# 이 코드의 문제는\n",
        "1. AUC 계산이 매우 느리며\n",
        "2. 논문에 의하면 0.8~0.9 사이의 값이 나와야 하는데 너무 작다.( 사실 이건 훈련을 너무 적게 시켜서인듯,, 꾸준히,,,, 하다보면 AUC 개선은 되는 중....)\n",
        "\n",
        "\n",
        "# 사실 이러한 문제는\n",
        " AUC를 계산할 때 전체 user에 대해서 하지말고 그냥 gradient_descent할 때마다 xui -xuj 부호 체크해서 > 0이면 +1을 해주고, user도 sampling 된 user수로 나눠가지고 하면...... 그래도 좀 문제가 있다...\n",
        "\n",
        "\n",
        "# 의문인 점\n",
        "\n",
        "    def compute_AUC(self):\n",
        "      X_hat = np.dot(self.W, self.H.T)\n",
        "      auc = 0\n",
        "      for u in range(self.num_user):\n",
        "       pos_items = self.pos_items_dict[u]\n",
        "        neg_items = self.neg_items_dict[u]\n",
        "       for p in pos_items:\n",
        "         for j in neg_items:\n",
        "          if X_hat[u, p] > X_hat[u, j]:\n",
        "            auc += 1\n",
        "\n",
        " 여기의 어느 부분이 그렇게 속도가 오래 걸리지?? self.num_user도 943이고 아이템 수도 1682인데 (943 X 1682)... 연산이라고는 부등호와 덧셈뿐인데\n",
        "  user마다 pos_items을 가져오는 과정이 오래 걸리남\n",
        "\n",
        "\n",
        "=> Pytorch 버전으로 다시 짜보기 !!(+ KNN)"
      ],
      "metadata": {
        "id": "AJFabawWYTe9"
      }
    }
  ]
}