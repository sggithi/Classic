{
  "nbformat": 4,
  "nbformat_minor": 0,
  "metadata": {
    "colab": {
      "provenance": []
    },
    "kernelspec": {
      "name": "python3",
      "display_name": "Python 3"
    },
    "language_info": {
      "name": "python"
    }
  },
  "cells": [
    {
      "cell_type": "code",
      "source": [
        "from google.colab import drive\n",
        "drive.mount('/content/drive')\n",
        "\n",
        "import sys\n",
        "sys.path.append('/content/drive/My Drive/DSAIL')\n",
        "\n",
        "import os\n",
        "os.chdir('/content/drive/My Drive/DSAIL')\n",
        "\n"
      ],
      "metadata": {
        "colab": {
          "base_uri": "https://localhost:8080/"
        },
        "id": "fDofqTtvB92E",
        "outputId": "7c072bd2-a476-40ff-d4bc-3bc7cdbebfff"
      },
      "execution_count": 1,
      "outputs": [
        {
          "output_type": "stream",
          "name": "stdout",
          "text": [
            "Mounted at /content/drive\n"
          ]
        }
      ]
    },
    {
      "cell_type": "code",
      "execution_count": 4,
      "metadata": {
        "id": "_72jJY7m_UuP"
      },
      "outputs": [],
      "source": [
        "from sklearn.metrics import roc_auc_score\n",
        "import numpy as np\n",
        "import torch\n",
        "from torch import optim\n",
        "import torch.nn as nn\n",
        "from torch.utils.data import Dataset, DataLoader\n",
        "import pandas as pd"
      ]
    },
    {
      "cell_type": "code",
      "source": [
        "file_path = \"ml-100k/u.data\"\n",
        "\n",
        "train_data = pd.read_csv(file_path, sep='\\t', header=None)\n",
        "train_data.columns = ['user_id', 'movie_id', 'rating', 'timestamp']\n",
        "# timestamp에 따라 정렬\n",
        "train_data = train_data.sort_values(['user_id', 'timestamp']).reset_index(drop=True)\n",
        "print(train_data)"
      ],
      "metadata": {
        "colab": {
          "base_uri": "https://localhost:8080/"
        },
        "id": "nyr9Kp7DCEXt",
        "outputId": "6be1b706-cab8-486d-caa3-99a6fa6f9ac8"
      },
      "execution_count": 74,
      "outputs": [
        {
          "output_type": "stream",
          "name": "stdout",
          "text": [
            "       user_id  movie_id  rating  timestamp\n",
            "0            1       168       5  874965478\n",
            "1            1       172       5  874965478\n",
            "2            1       165       5  874965518\n",
            "3            1       156       4  874965556\n",
            "4            1       196       5  874965677\n",
            "...        ...       ...     ...        ...\n",
            "99995      943       449       1  888693158\n",
            "99996      943       229       2  888693158\n",
            "99997      943       230       1  888693158\n",
            "99998      943       228       3  888693158\n",
            "99999      943       234       3  888693184\n",
            "\n",
            "[100000 rows x 4 columns]\n"
          ]
        }
      ]
    },
    {
      "cell_type": "code",
      "source": [
        "dataset = train_data\n",
        "gb_ui = dataset.groupby('user_id')\n",
        "print(gb_ui.apply(print))"
      ],
      "metadata": {
        "id": "3djgDV_XWPzO"
      },
      "execution_count": null,
      "outputs": []
    },
    {
      "cell_type": "code",
      "source": [
        "gb_ui['movie id'].apply(print)"
      ],
      "metadata": {
        "id": "sGDqT3CEXkNG"
      },
      "execution_count": null,
      "outputs": []
    },
    {
      "cell_type": "code",
      "source": [
        "file_path = \"ml-100k/u.user\"\n",
        "\n",
        "users = pd.read_csv(file_path, sep='|', header=None)\n",
        "users.columns = ['user_id', 'age', 'gender', 'occupation', 'zip code']\n",
        "users = users.drop(['zip code', 'occupation'], axis=1)\n",
        "\n",
        "# occupation도 있으면 얘 embedding도 학습시켜야 하나봐,,, 빼자\n",
        "users['gender'] = users['gender'].map({'F': 1, 'M': 0})\n",
        "print(users)"
      ],
      "metadata": {
        "colab": {
          "base_uri": "https://localhost:8080/"
        },
        "id": "PkyFRN0cPoCd",
        "outputId": "1dbcab6d-096e-419d-b6ed-49500aaf24eb"
      },
      "execution_count": 76,
      "outputs": [
        {
          "output_type": "stream",
          "name": "stdout",
          "text": [
            "     user_id  age  gender\n",
            "0          1   24       0\n",
            "1          2   53       1\n",
            "2          3   23       0\n",
            "3          4   24       0\n",
            "4          5   33       1\n",
            "..       ...  ...     ...\n",
            "938      939   26       1\n",
            "939      940   32       0\n",
            "940      941   20       0\n",
            "941      942   48       1\n",
            "942      943   22       0\n",
            "\n",
            "[943 rows x 3 columns]\n"
          ]
        }
      ]
    },
    {
      "cell_type": "code",
      "source": [
        "items = pd.read_csv('ml-100k/u.item', sep=\"|\", encoding='latin-1', header=None)\n",
        "items.columns = ['movie_id', 'movie title' ,'release date','video release date', 'IMDb URL',\n",
        "                 'unknown', 'Action', 'Adventure', 'Animation', 'Children\\'s', 'Comedy',\n",
        "                 'Crime', 'Documentary', 'Drama', 'Fantasy', 'Film-Noir', 'Horror',\n",
        "                 'Musical', 'Mystery', 'Romance', 'Sci-Fi', 'Thriller', 'War', 'Western']\n",
        "\n",
        "items = items.drop(['release date','movie title' , 'video release date', 'IMDb URL', 'unknown'], axis=1)\n",
        "# 안쓰는애들 버리기\n",
        "print(items)"
      ],
      "metadata": {
        "colab": {
          "base_uri": "https://localhost:8080/"
        },
        "id": "PdTbLYooQTs3",
        "outputId": "e6e776df-6650-460b-cdda-ec84a5351872"
      },
      "execution_count": 59,
      "outputs": [
        {
          "output_type": "stream",
          "name": "stdout",
          "text": [
            "      movie_id  Action  Adventure  Animation  Children's  Comedy  Crime  \\\n",
            "0            1       0          0          1           1       1      0   \n",
            "1            2       1          1          0           0       0      0   \n",
            "2            3       0          0          0           0       0      0   \n",
            "3            4       1          0          0           0       1      0   \n",
            "4            5       0          0          0           0       0      1   \n",
            "...        ...     ...        ...        ...         ...     ...    ...   \n",
            "1677      1678       0          0          0           0       0      0   \n",
            "1678      1679       0          0          0           0       0      0   \n",
            "1679      1680       0          0          0           0       0      0   \n",
            "1680      1681       0          0          0           0       1      0   \n",
            "1681      1682       0          0          0           0       0      0   \n",
            "\n",
            "      Documentary  Drama  Fantasy  Film-Noir  Horror  Musical  Mystery  \\\n",
            "0               0      0        0          0       0        0        0   \n",
            "1               0      0        0          0       0        0        0   \n",
            "2               0      0        0          0       0        0        0   \n",
            "3               0      1        0          0       0        0        0   \n",
            "4               0      1        0          0       0        0        0   \n",
            "...           ...    ...      ...        ...     ...      ...      ...   \n",
            "1677            0      1        0          0       0        0        0   \n",
            "1678            0      0        0          0       0        0        0   \n",
            "1679            0      1        0          0       0        0        0   \n",
            "1680            0      0        0          0       0        0        0   \n",
            "1681            0      1        0          0       0        0        0   \n",
            "\n",
            "      Romance  Sci-Fi  Thriller  War  Western  \n",
            "0           0       0         0    0        0  \n",
            "1           0       0         1    0        0  \n",
            "2           0       0         1    0        0  \n",
            "3           0       0         0    0        0  \n",
            "4           0       0         1    0        0  \n",
            "...       ...     ...       ...  ...      ...  \n",
            "1677        0       0         0    0        0  \n",
            "1678        1       0         1    0        0  \n",
            "1679        1       0         0    0        0  \n",
            "1680        0       0         0    0        0  \n",
            "1681        0       0         0    0        0  \n",
            "\n",
            "[1682 rows x 19 columns]\n"
          ]
        }
      ]
    },
    {
      "cell_type": "code",
      "source": [
        "genres_list = pd.read_csv('ml-100k/u.genre',\n",
        "                     sep=\"|\", header=None, usecols=[0])[0].tolist()\n",
        "genres_list = [genre for genre in genres_list if genre != 'unknown']\n",
        "print(genres_list, len(genres_list))"
      ],
      "metadata": {
        "colab": {
          "base_uri": "https://localhost:8080/"
        },
        "id": "QciAvw3VQnXz",
        "outputId": "7fa197a1-562f-4d66-87c6-3b0c59ee2164"
      },
      "execution_count": 61,
      "outputs": [
        {
          "output_type": "stream",
          "name": "stdout",
          "text": [
            "['Action', 'Adventure', 'Animation', \"Children's\", 'Comedy', 'Crime', 'Documentary', 'Drama', 'Fantasy', 'Film-Noir', 'Horror', 'Musical', 'Mystery', 'Romance', 'Sci-Fi', 'Thriller', 'War', 'Western'] 18\n"
          ]
        }
      ]
    },
    {
      "cell_type": "code",
      "source": [
        "wide_data = pd.merge(train_data, users[['user_id', 'age']], on='user_id', how='left')\n",
        "wide_data = wide_data.drop(['user_id', 'movie_id','rating'], axis = 1)\n",
        "print(wide_data)"
      ],
      "metadata": {
        "colab": {
          "base_uri": "https://localhost:8080/"
        },
        "id": "nagp6nMtrelS",
        "outputId": "2fa4ed10-b0ed-4cce-b39b-5053df3a502d"
      },
      "execution_count": 95,
      "outputs": [
        {
          "output_type": "stream",
          "name": "stdout",
          "text": [
            "       timestamp  age\n",
            "0      874965478   24\n",
            "1      874965478   24\n",
            "2      874965518   24\n",
            "3      874965556   24\n",
            "4      874965677   24\n",
            "...          ...  ...\n",
            "99995  888693158   22\n",
            "99996  888693158   22\n",
            "99997  888693158   22\n",
            "99998  888693158   22\n",
            "99999  888693184   22\n",
            "\n",
            "[100000 rows x 2 columns]\n"
          ]
        }
      ]
    },
    {
      "cell_type": "code",
      "source": [
        "deep_data = pd.merge(train_data, users[['user_id', 'gender']], on='user_id', how='left')\n",
        "columns_to_drop = set(['movie_id'] + genres_list)\n",
        "deep_data = pd.merge(deep_data, items[columns_to_drop], on='movie_id', how='left')\n",
        "y = deep_data['rating']\n",
        "deep_data =deep_data.drop(['rating', 'timestamp'], axis = 1)\n",
        "print(deep_data)"
      ],
      "metadata": {
        "colab": {
          "base_uri": "https://localhost:8080/"
        },
        "id": "R7ENRtZvzjQP",
        "outputId": "bb73d685-c7a4-435c-adfc-de6c1cfa5be8"
      },
      "execution_count": 100,
      "outputs": [
        {
          "output_type": "stream",
          "name": "stdout",
          "text": [
            "       user_id  movie_id  gender  Sci-Fi  Children's  Action  Documentary  \\\n",
            "0            1       168       0       0           0       0            0   \n",
            "1            1       172       0       1           0       1            0   \n",
            "2            1       165       0       0           0       0            0   \n",
            "3            1       156       0       0           0       0            0   \n",
            "4            1       196       0       0           0       0            0   \n",
            "...        ...       ...     ...     ...         ...     ...          ...   \n",
            "99995      943       449       0       1           0       1            0   \n",
            "99996      943       229       0       1           0       1            0   \n",
            "99997      943       230       0       1           0       1            0   \n",
            "99998      943       228       0       1           0       1            0   \n",
            "99999      943       234       0       0           0       1            0   \n",
            "\n",
            "       Thriller  Romance  Musical  ...  Horror  Crime  Film-Noir  Comedy  \\\n",
            "0             0        0        0  ...       0      0          0       1   \n",
            "1             0        1        0  ...       0      0          0       0   \n",
            "2             0        0        0  ...       0      0          0       0   \n",
            "3             1        0        0  ...       0      1          0       0   \n",
            "4             0        0        0  ...       0      0          0       0   \n",
            "...         ...      ...      ...  ...     ...    ...        ...     ...   \n",
            "99995         0        0        0  ...       0      0          0       0   \n",
            "99996         0        0        0  ...       0      0          0       0   \n",
            "99997         0        0        0  ...       0      0          0       0   \n",
            "99998         0        0        0  ...       0      0          0       0   \n",
            "99999         0        0        0  ...       1      0          0       0   \n",
            "\n",
            "       Mystery  Fantasy  Animation  Western  War  Adventure  \n",
            "0            0        0          0        0    0          0  \n",
            "1            0        0          0        0    1          1  \n",
            "2            0        0          0        0    0          0  \n",
            "3            0        0          0        0    0          0  \n",
            "4            0        0          0        0    0          0  \n",
            "...        ...      ...        ...      ...  ...        ...  \n",
            "99995        0        0          0        0    0          1  \n",
            "99996        0        0          0        0    0          1  \n",
            "99997        0        0          0        0    0          1  \n",
            "99998        0        0          0        0    0          1  \n",
            "99999        0        0          0        0    0          0  \n",
            "\n",
            "[100000 rows x 21 columns]\n"
          ]
        },
        {
          "output_type": "stream",
          "name": "stderr",
          "text": [
            "<ipython-input-100-249a75051705>:3: FutureWarning: Passing a set as an indexer is deprecated and will raise in a future version. Use a list instead.\n",
            "  deep_data = pd.merge(deep_data, items[columns_to_drop], on='movie_id', how='left')\n"
          ]
        }
      ]
    },
    {
      "cell_type": "code",
      "source": [
        "print(users['user_id'].nunique() , items['movie_id'].nunique())\n",
        "# genre: 18 # users: 942 movie: 1682\n",
        "'''\n",
        " continuous(Wide)\n",
        " age / timestamp\n",
        "\n",
        " categoricatl(Deep)\n",
        " genre(18) / gender (1) : 0 or 1\n",
        " '''\n"
      ],
      "metadata": {
        "colab": {
          "base_uri": "https://localhost:8080/",
          "height": 53
        },
        "id": "6S0FfRlJRAcN",
        "outputId": "2044f354-b7f4-4529-b560-b49454b2770f"
      },
      "execution_count": 102,
      "outputs": [
        {
          "output_type": "stream",
          "name": "stdout",
          "text": [
            "943 1682\n"
          ]
        },
        {
          "output_type": "execute_result",
          "data": {
            "text/plain": [
              "'\\n continuous(Wide)\\n age / timestamp\\n\\n categoricatl(Deep)\\n genre(18) / gender (1) : 0 or 1\\n '"
            ],
            "application/vnd.google.colaboratory.intrinsic+json": {
              "type": "string"
            }
          },
          "metadata": {},
          "execution_count": 102
        }
      ]
    },
    {
      "cell_type": "code",
      "source": [
        "from sklearn.model_selection import train_test_split\n",
        "\n",
        "deep_train, deep_test,wide_train, wide_test, y_train, y_test = train_test_split(deep_data, wide_data, y, test_size=0.3, random_state=42)\n"
      ],
      "metadata": {
        "id": "MqJGq6KRz6l9"
      },
      "execution_count": 97,
      "outputs": []
    },
    {
      "cell_type": "code",
      "source": [
        "class WD(nn.Module):\n",
        "  def __init__(self, y_train = y_train, y_test = y_test, d = 32, wide_train = wide_train, genres_list= genres_list, deep_train = deep_train, lr = 1e-3, wide_test = wide_test, deep_test = deep_test, epochs = 30):\n",
        "      super(WD, self,).__init__()\n",
        "      '''\n",
        "      Wide & Deep Learning\n",
        "      기존의 task는 prediction이 0 또는 1인데, 이 코드에서는 그냥 Rating Prediction (1 ~ 5 classifier 달기)\n",
        "      or\n",
        "      Timestamp 따라서 movie 하나씩 shift 하면 next movie prediction도 가능\n",
        "\n",
        "      WIde: Continous\n",
        "        age + timestamp [100000 rows x 2 columns]\n",
        "\n",
        "      Deep: Categorical [100000 rows x 20 columns]\n",
        "        genre + gender\n",
        "        19\n",
        "       '''\n",
        "\n",
        "      self.dimension = d\n",
        "      self.epochs = epochs\n",
        "      self.lr = lr\n",
        "      self.genres_list = genres_list\n",
        "\n",
        "      self.optim = optim.Adagrad(model.parameters(), lr= self.lr)\n",
        "      self.criterion = nn.MSELoss()\n",
        "\n",
        "      # embedding for Deep\n",
        "      self.embedded_user = nn.Embedding(num_embeddings = 943 , embedding_dim = 32)\n",
        "      self.embedded_movie = nn.Embedding(num_embeddings = 1682 , embedding_dim = 32)\n",
        "\n",
        "      self.len_deep = 32 + 32 + 1 + 18\n",
        "\n",
        "      # 이것도 actie function 지우고 그냥 regression으로 처리하면 바로 1로 해도 될것 같고 1~5로 하려면 classifier 달면될듯\n",
        "      # next movie prediction으로 가려면,,, 너무 커짐\n",
        "      self.last_layer = nn.Embedding(self.len_deep, 1)\n",
        "\n",
        "      # 다음부터는 그냥 Dataset 정의해서 쓰자,,, 왜 그러는지 이제 알겠다,,,,,,,,,,,,,,,,,,,,,,,,,,,,, ooops\n",
        "      self.wide_train = wide_train\n",
        "      self.wide_test = wide_test\n",
        "      self.deep_train = deep_train\n",
        "      self.deep_test = deep_test\n",
        "      self.y_train = y_train\n",
        "      self.y_test = y_test\n",
        "\n",
        "      ## For Layer\n",
        "      self.activation = torch.ReLU()\n",
        "\n",
        "      self.deep_linear_stack = nn.Sequential(\n",
        "          nn.Linear(self.len_deep, 1024),\n",
        "          nn.ReLU(),\n",
        "          nn.Linear(1024, 512),\n",
        "          nn.ReLU(),\n",
        "          nn.Linear(512, 256),\n",
        "          nn.ReLU()\n",
        "      )\n",
        "\n",
        "  def forward(self, i):\n",
        "    # 사실 batch 마다 돌렸어야 함,,\n",
        "\n",
        "    embedded_user = self.embedded_user(self.deep_train['user_id'][i])\n",
        "    embedded_movie = self.embedded_movie(self.deep_train['movie_id'][i])\n",
        "    genres = self.deep_train[self.genres_list].iloc[i].values\n",
        "    gender = self.deep_train['gender'].iloc[i]\n",
        "\n",
        "    categorical_input = torch.cat([embedded_user, embedded_movie, genres, gender.unsqueeze(0)], dim=0)\n",
        "\n",
        "    deep = self.deep_forward(categorical_input)\n",
        "    # 여기서는 두 개라서 그냥 직접했지만 보통은 dataset에 저장할 때 이미 cross - product 처리해서 하는듯\n",
        "    wide = self.wide_train['age'][i] * self.wide_train['timestamp'][i] # 1\n",
        "    widenDeep = torch.cat([wide, deep])\n",
        "\n",
        "    prediction = self.output_layer(widenDeep)\n",
        "\n",
        "    return prediction\n",
        "\n",
        "  def deep_forward(self, categorical_input):\n",
        "    final_layer = self.deep_linear_stack(categorical_input)\n",
        "    return self.activation(final_layer)\n",
        "\n",
        "  def fit(self):\n",
        "\n",
        "    for epoch in range(self.epochs):\n",
        "      train_loss = 0\n",
        "      self.optim.zero_grad()\n",
        "      for i in range(len(self.y_train)):\n",
        "        prediction = self.forward(i)\n",
        "        loss = self.criterion(y_train[i], prediction)\n",
        "\n",
        "        loss.backward()\n",
        "        self.optim.step()\n",
        "\n",
        "        train_loss += loss.item()\n",
        "\n",
        "      if epoch % 5 == 0:\n",
        "        print(f\"epoch: {epoch}, train_loss: {train_loss}\")\n",
        ""
      ],
      "metadata": {
        "id": "6JTRX7FtCPyK"
      },
      "execution_count": 103,
      "outputs": []
    },
    {
      "cell_type": "code",
      "source": [
        "from torch.utils.data import Dataset, DataLoader\n",
        "\n",
        "class WD(nn.Module):\n",
        "    def __init__(self, d=32, wide_train=None, genres_list=genres_list, deep_train=None, lr=1e-3, epochs=30):\n",
        "        super(WD, self).__init__()\n",
        "\n",
        "        self.dimension = d\n",
        "        self.epochs = epochs\n",
        "        self.lr = lr\n",
        "        self.genres_list = genres_list\n",
        "\n",
        "        # embedding for Deep\n",
        "        self.embedded_user = nn.Embedding(num_embeddings=943, embedding_dim=32)\n",
        "        self.embedded_movie = nn.Embedding(num_embeddings=1682, embedding_dim=32)\n",
        "\n",
        "        self.len_deep = 32 + 32 + 1 + 18\n",
        "\n",
        "        # Regression output layer\n",
        "        self.output_layer = nn.Linear(self.len_deep, 1)\n",
        "\n",
        "        self.optim = optim.Adagrad(self.parameters(), lr=self.lr)\n",
        "\n",
        "        self.deep_linear_stack = nn.Sequential(\n",
        "            nn.Linear(self.len_deep, 1024),\n",
        "            nn.ReLU(),\n",
        "            nn.Linear(1024, 512),\n",
        "            nn.ReLU(),\n",
        "            nn.Linear(512, 256),\n",
        "            nn.ReLU()\n",
        "        )\n",
        "\n",
        "    def forward(self, user_id, movie_id, genres, gender, age, timestamp):\n",
        "        embedded_user = self.embedded_user(user_id)\n",
        "        embedded_movie = self.embedded_movie(movie_id)\n",
        "\n",
        "        categorical_input = torch.cat([embedded_user, embedded_movie, genres, gender.unsqueeze(0)], dim=0)\n",
        "\n",
        "        deep = self.deep_forward(categorical_input)\n",
        "        wide = age * timestamp\n",
        "        widen_deep = torch.cat([wide, deep], dim=1)\n",
        "\n",
        "        # Regression output\n",
        "        prediction = self.output_layer(widen_deep)\n",
        "        return prediction\n",
        "\n",
        "    def deep_forward(self, categorical_input):\n",
        "        final_layer = self.deep_linear_stack(categorical_input)\n",
        "        return final_layer\n",
        "\n",
        "    def fit(self, train_loader):\n",
        "        criterion = nn.MSELoss()\n",
        "\n",
        "\n",
        "        for epoch in range(self.epochs):\n",
        "            train_loss = 0\n",
        "\n",
        "            for batch in train_loader:\n",
        "                user_id, movie_id, genres, gender, age, timestamp, y_train = batch\n",
        "\n",
        "                self.optim.zero_grad()\n",
        "\n",
        "                predictions = self.forward(user_id, movie_id, genres, gender, age, timestamp)\n",
        "                loss = criterion(predictions, y_train.view(-1, 1))\n",
        "\n",
        "                loss.backward()\n",
        "                self.optim.step()\n",
        "\n",
        "                train_loss += loss.item()\n",
        "\n",
        "            self.eval()\n",
        "            with torch.no_grad():\n",
        "                for batch in test_loader:\n",
        "                    user_id, movie_id, genres, gender, age, timestamp, y_test = batch\n",
        "                    predictions = self.forward(user_id, movie_id, genres, gender, age, timestamp)\n",
        "                    loss = criterion(predictions, y_test.view(-1, 1))\n",
        "                    test_loss += loss.item()\n",
        "            if epoch % 5 == 0:\n",
        "                print(f\"epoch: {epoch}, train_loss: {train_loss / len(train_loader)}, test_loss: {test_loss / len(test_loader)}\")\n",
        "\n"
      ],
      "metadata": {
        "id": "4EIfb_t-8CGE"
      },
      "execution_count": null,
      "outputs": []
    },
    {
      "cell_type": "code",
      "source": [
        "class MovieDataset(Dataset):\n",
        "    def __init__(self, wide_data, deep_data, train_data):\n",
        "        self.user_ids = deep_data['user_ids']\n",
        "        self.movie_ids = deep_data['movie_ids']\n",
        "        self.genres =deep_data['genres']\n",
        "        self.gender = deep_data['genres']\n",
        "        self.age = wide_data['age']\n",
        "        self.timestamp = wide_data['timestamp']\n",
        "        self.ratings = train_data['ratings']\n",
        "\n",
        "    def __len__(self):\n",
        "        return len(self.ratings)\n",
        "\n",
        "    def __getitem__(self, idx):\n",
        "        return (\n",
        "            self.user_ids[idx],\n",
        "            self.movie_ids[idx],\n",
        "            self.genres[idx],\n",
        "            self.gender[idx],\n",
        "            self.age[idx],\n",
        "            self.timestamp[idx],\n",
        "            self.ratings[idx]\n",
        "        )\n",
        "# 뭐 요론 느낌..."
      ],
      "metadata": {
        "id": "NF4Kjgls8Ut5"
      },
      "execution_count": null,
      "outputs": []
    },
    {
      "cell_type": "markdown",
      "source": [
        "## 의문인점\n",
        "그럼 Wide 모델에서 cross-product 하는 애들은 임의로 고르면 되나??\n",
        "이건 아마 임의로 고르면 되는 것 맞는 것 같은데\n",
        "\n",
        "논문에서 k의 의미는 아직 잘 모르겠음\n",
        "\n",
        "## Reference\n",
        "https://chromium.googlesource.com/external/github.com/tensorflow/tensorflow/+/r0.10/tensorflow/g3doc/tutorials/wide_and_deep/index.md\n",
        "\n",
        "https://www.kaggle.com/code/matanivanov/wide-deep-learning-for-recsys-with-pytorch"
      ],
      "metadata": {
        "id": "Y8bFsZsbbmIu"
      }
    }
  ]
}